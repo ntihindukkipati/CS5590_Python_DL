{
  "nbformat": 4,
  "nbformat_minor": 0,
  "metadata": {
    "colab": {
      "name": "LAB2_P7.ipynb",
      "provenance": []
    },
    "kernelspec": {
      "name": "python3",
      "display_name": "Python 3"
    }
  },
  "cells": [
    {
      "cell_type": "code",
      "metadata": {
        "id": "FjB-1Vf_m5UR",
        "colab_type": "code",
        "colab": {
          "base_uri": "https://localhost:8080/",
          "height": 33
        },
        "outputId": "98c97660-55e5-4110-d4f7-6bfdd7644fb6"
      },
      "source": [
        "#using mnist for autoencoding and decoding the data\n",
        "from keras.datasets import mnist\n",
        "#using numpy for storing image data\n",
        "import numpy as np\n",
        "from keras.layers import Input, Dense\n",
        "#using functional API model\n",
        "from keras.models import Model"
      ],
      "execution_count": 1,
      "outputs": [
        {
          "output_type": "stream",
          "text": [
            "Using TensorFlow backend.\n"
          ],
          "name": "stderr"
        }
      ]
    },
    {
      "cell_type": "code",
      "metadata": {
        "id": "unJ1pfFR64SV",
        "colab_type": "code",
        "colab": {
          "base_uri": "https://localhost:8080/",
          "height": 50
        },
        "outputId": "7ea8a8de-b4bd-4419-e47b-39ac1755bed7"
      },
      "source": [
        "#Loading the data\n",
        "(xs_train1, _), (xs_test1, _) = mnist.load_data()\n",
        "#Normalizing the data\n",
        "xs_train1 = xs_train1.astype('float32') / 255.0\n",
        "x_tsest1 = x_tsest1.astype('float32') / 255.0\n",
        "#reshaping the data\n",
        "xs_train1 = xs_train1.reshape((len(xs_train1), np.prod(xs_train1.shape[1:])))\n",
        "xs_test1 = xs_test1.reshape((len(xs_test1), np.prod(xs_test1.shape[1:])))"
      ],
      "execution_count": 2,
      "outputs": [
        {
          "output_type": "stream",
          "text": [
            "Downloading data from https://s3.amazonaws.com/img-datasets/mnist.npz\n",
            "11493376/11490434 [==============================] - 1s 0us/step\n"
          ],
          "name": "stdout"
        }
      ]
    },
    {
      "cell_type": "code",
      "metadata": {
        "id": "hzdK1N0r7FLq",
        "colab_type": "code",
        "colab": {}
      },
      "source": [
        "encoding_dim1 = 32  # 32 floats -> compression of factor 24.5, assuming the input is 784 floats\n",
        "# placeholder\n",
        "input_img1 = Input(shape=(784,))\n",
        "#encoding registration fron input\n",
        "encode = Dense(encoding_dim1, activation='relu')(input_img1)\n",
        "# reconstruction of input\n",
        "decode = Dense(784, activation='sigmoid')(encode)\n",
        "# model maps between an input to its reconstructions\n",
        "autoencoder12 = Model(input_img1, decode)\n",
        "# encoded reprensentation\n",
        "autoencoder12.compile(optimizer='adadelta', loss='binary_crossentropy')"
      ],
      "execution_count": 0,
      "outputs": []
    },
    {
      "cell_type": "code",
      "metadata": {
        "id": "ipdJbJ607APh",
        "colab_type": "code",
        "colab": {
          "base_uri": "https://localhost:8080/",
          "height": 554
        },
        "outputId": "df5ac7c1-774f-4089-86a3-ccf42b56c23a"
      },
      "source": [
        "#encoding the data\n",
        "autoencoder12.fit(xs_train1, xs_train1,\n",
        "                epochs=15,\n",
        "                batch_size=256,\n",
        "                shuffle=True,\n",
        "                validation_data=(xs_test1, xs_test1))"
      ],
      "execution_count": 5,
      "outputs": [
        {
          "output_type": "stream",
          "text": [
            "Train on 60000 samples, validate on 10000 samples\n",
            "Epoch 1/15\n",
            "60000/60000 [==============================] - 2s 41us/step - loss: 0.3700 - val_loss: 0.2710\n",
            "Epoch 2/15\n",
            "60000/60000 [==============================] - 2s 37us/step - loss: 0.2634 - val_loss: 0.2523\n",
            "Epoch 3/15\n",
            "60000/60000 [==============================] - 2s 39us/step - loss: 0.2420 - val_loss: 0.2300\n",
            "Epoch 4/15\n",
            "60000/60000 [==============================] - 2s 38us/step - loss: 0.2222 - val_loss: 0.2121\n",
            "Epoch 5/15\n",
            "60000/60000 [==============================] - 2s 38us/step - loss: 0.2067 - val_loss: 0.1988\n",
            "Epoch 6/15\n",
            "60000/60000 [==============================] - 2s 37us/step - loss: 0.1952 - val_loss: 0.1889\n",
            "Epoch 7/15\n",
            "60000/60000 [==============================] - 2s 37us/step - loss: 0.1864 - val_loss: 0.1810\n",
            "Epoch 8/15\n",
            "60000/60000 [==============================] - 2s 37us/step - loss: 0.1792 - val_loss: 0.1743\n",
            "Epoch 9/15\n",
            "60000/60000 [==============================] - 2s 37us/step - loss: 0.1729 - val_loss: 0.1685\n",
            "Epoch 10/15\n",
            "60000/60000 [==============================] - 2s 36us/step - loss: 0.1675 - val_loss: 0.1635\n",
            "Epoch 11/15\n",
            "60000/60000 [==============================] - 2s 38us/step - loss: 0.1625 - val_loss: 0.1588\n",
            "Epoch 12/15\n",
            "60000/60000 [==============================] - 2s 37us/step - loss: 0.1581 - val_loss: 0.1546\n",
            "Epoch 13/15\n",
            "60000/60000 [==============================] - 2s 37us/step - loss: 0.1541 - val_loss: 0.1507\n",
            "Epoch 14/15\n",
            "60000/60000 [==============================] - 2s 36us/step - loss: 0.1505 - val_loss: 0.1473\n",
            "Epoch 15/15\n",
            "60000/60000 [==============================] - 2s 37us/step - loss: 0.1472 - val_loss: 0.1442\n"
          ],
          "name": "stdout"
        },
        {
          "output_type": "execute_result",
          "data": {
            "text/plain": [
              "<keras.callbacks.callbacks.History at 0x7fd4361530f0>"
            ]
          },
          "metadata": {
            "tags": []
          },
          "execution_count": 5
        }
      ]
    },
    {
      "cell_type": "markdown",
      "metadata": {
        "id": "RvPraYHC8Ysw",
        "colab_type": "text"
      },
      "source": [
        "BEFORE ENCODING"
      ]
    },
    {
      "cell_type": "code",
      "metadata": {
        "id": "38j-9Kwf7li0",
        "colab_type": "code",
        "colab": {
          "base_uri": "https://localhost:8080/",
          "height": 265
        },
        "outputId": "208672ff-8cd2-43b1-b596-1622dedf7c0f"
      },
      "source": [
        "#displaying the image before encoding\n",
        "from matplotlib import pyplot as plt\n",
        "plt.imshow(xs_test1[2].reshape(28,28))\n",
        "plt.show()"
      ],
      "execution_count": 6,
      "outputs": [
        {
          "output_type": "display_data",
          "data": {
            "image/png": "[encoded data removed]",
            "text/plain": [
              "<Figure size 432x288 with 1 Axes>"
            ]
          },
          "metadata": {
            "tags": [],
            "needs_background": "light"
          }
        }
      ]
    },
    {
      "cell_type": "markdown",
      "metadata": {
        "id": "ywmwtwNi8gru",
        "colab_type": "text"
      },
      "source": [
        "AFTER AUTOENCODING"
      ]
    },
    {
      "cell_type": "code",
      "metadata": {
        "id": "zCwlxXQZ8Cc6",
        "colab_type": "code",
        "colab": {}
      },
      "source": [
        "#predicting the image \n",
        "axs=autoencoder12.predict(xs_test1[2:])"
      ],
      "execution_count": 0,
      "outputs": []
    },
    {
      "cell_type": "code",
      "metadata": {
        "id": "mvE-yuNp8M_j",
        "colab_type": "code",
        "colab": {
          "base_uri": "https://localhost:8080/",
          "height": 265
        },
        "outputId": "babd60e8-5bbf-4e80-8cd1-226bda3238df"
      },
      "source": [
        "#image after encoding\n",
        "from matplotlib import pyplot as plt\n",
        "plt.imshow(axs[0].reshape(28,28))\n",
        "plt.show()"
      ],
      "execution_count": 8,
      "outputs": [
        {
          "output_type": "display_data",
          "data": {
            "image/png": "[encoded data removed]",
            "text/plain": [
              "<Figure size 432x288 with 1 Axes>"
            ]
          },
          "metadata": {
            "tags": [],
            "needs_background": "light"
          }
        }
      ]
    },
    {
      "cell_type": "markdown",
      "metadata": {
        "id": "8-na996H9VaZ",
        "colab_type": "text"
      },
      "source": [
        "ADDING RANDOM NOISE"
      ]
    },
    {
      "cell_type": "code",
      "metadata": {
        "id": "z_yE4zTl82KR",
        "colab_type": "code",
        "colab": {}
      },
      "source": [
        "#decoding the data by adding random noise to it \n",
        "nsoise_factor = 0.5\n",
        "xs_train_noisy1 = xs_train1 + nsoise_factor * np.random.normal(loc=0.0, scale=1.0, size=x_train1.shape)\n",
        "xs_test_noisy1 = xs_test1 + nsoise_factor * np.random.normal(loc=0.0, scale=1.0, size=x_test1.shape)"
      ],
      "execution_count": 0,
      "outputs": []
    },
    {
      "cell_type": "code",
      "metadata": {
        "id": "fjNvsFHq87ph",
        "colab_type": "code",
        "colab": {
          "base_uri": "https://localhost:8080/",
          "height": 265
        },
        "outputId": "89c0c844-8ec8-42ad-c1bd-b54335846778"
      },
      "source": [
        "#displaying model after adding the noise\n",
        "from matplotlib import pyplot as plt\n",
        "plt.imshow(xs_test_noisy1[2].reshape(28,28))\n",
        "plt.show()"
      ],
      "execution_count": 10,
      "outputs": [
        {
          "output_type": "display_data",
          "data": {
            "image/png": "[encoded data removed]",
            "text/plain": [
              "<Figure size 432x288 with 1 Axes>"
            ]
          },
          "metadata": {
            "tags": [],
            "needs_background": "light"
          }
        }
      ]
    },
    {
      "cell_type": "markdown",
      "metadata": {
        "id": "ZBXdiZBG9ZbU",
        "colab_type": "text"
      },
      "source": [
        "DECODING IMAGE"
      ]
    },
    {
      "cell_type": "code",
      "metadata": {
        "id": "z1kpW4sg9CRu",
        "colab_type": "code",
        "colab": {}
      },
      "source": [
        "#encoding the image\n",
        "axs1=autoencoder12.predict(xs_test_noisy1[2:])"
      ],
      "execution_count": 0,
      "outputs": []
    },
    {
      "cell_type": "code",
      "metadata": {
        "id": "U8jadgMp9Jqb",
        "colab_type": "code",
        "colab": {
          "base_uri": "https://localhost:8080/",
          "height": 265
        },
        "outputId": "80bdb097-ca73-40fa-f548-eaf5b1164402"
      },
      "source": [
        "#displaying the image after encoding the image\n",
        "from matplotlib import pyplot as plt\n",
        "plt.imshow(axs1[0].reshape(28,28))\n",
        "plt.show()"
      ],
      "execution_count": 12,
      "outputs": [
        {
          "output_type": "display_data",
          "data": {
            "image/png": "[encoded data removed]",
            "text/plain": [
              "<Figure size 432x288 with 1 Axes>"
            ]
          },
          "metadata": {
            "tags": [],
            "needs_background": "light"
          }
        }
      ]
    }
  ]
}