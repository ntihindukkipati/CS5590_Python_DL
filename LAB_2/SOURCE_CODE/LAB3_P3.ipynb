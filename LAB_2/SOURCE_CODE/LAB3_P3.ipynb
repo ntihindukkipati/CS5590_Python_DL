{
  "nbformat": 4,
  "nbformat_minor": 0,
  "metadata": {
    "colab": {
      "name": "LAB3_P3.ipynb",
      "provenance": []
    },
    "kernelspec": {
      "name": "python3",
      "display_name": "Python 3"
    },
    "accelerator": "TPU"
  },
  "cells": [
    {
      "cell_type": "code",
      "metadata": {
        "id": "YpkCSYuTJtfH",
        "colab_type": "code",
        "colab": {
          "base_uri": "https://localhost:8080/",
          "height": 134
        },
        "outputId": "11c82e70-07dd-422b-c195-7eb51077de8b"
      },
      "source": [
        "#stting the tensorflow version\n",
        "%tensorflow_version 1.15\n",
        "import tensorflow as tf\n",
        "import numpy as np\n",
        "import os\n",
        "from sklearn.model_selection import train_test_split\n",
        "import matplotlib.pyplot as plt\n",
        "#importing all keras libraries that are required\n",
        "from keras import Sequential\n",
        "from keras.layers import Dense\n",
        "from keras.utils import to_categorical\n",
        "from keras.layers import Dense, Flatten, Dropout, Input\n",
        "from keras.constraints import maxnorm\n",
        "from keras.optimizers import SGD, Adam\n",
        "from keras.layers.convolutional import Conv2D, MaxPooling2D\n",
        "from keras.utils import np_utils\n",
        "from keras import backend as K\n",
        "K.common.image_dim_ordering()"
      ],
      "execution_count": 1,
      "outputs": [
        {
          "output_type": "stream",
          "text": [
            "`%tensorflow_version` only switches the major version: 1.x or 2.x.\n",
            "You set: `1.15`. This will be interpreted as: `1.x`.\n",
            "\n",
            "\n",
            "TensorFlow 1.x selected.\n"
          ],
          "name": "stdout"
        },
        {
          "output_type": "stream",
          "text": [
            "Using TensorFlow backend.\n"
          ],
          "name": "stderr"
        },
        {
          "output_type": "execute_result",
          "data": {
            "text/plain": [
              "'tf'"
            ]
          },
          "metadata": {
            "tags": []
          },
          "execution_count": 1
        }
      ]
    },
    {
      "cell_type": "code",
      "metadata": {
        "id": "BTDXaT2YZMT6",
        "colab_type": "code",
        "colab": {}
      },
      "source": [
        "#declaring then name by postion\n",
        "labels=['airplane','car','cat','dog','flower','fruit','motorbike','person']"
      ],
      "execution_count": 0,
      "outputs": []
    },
    {
      "cell_type": "code",
      "metadata": {
        "id": "lVQ5kkcZVJx3",
        "colab_type": "code",
        "colab": {}
      },
      "source": [
        "#reading the All pictures with airplane data\n",
        "import glob\n",
        "import cv2\n",
        "train_images=[]\n",
        "for filename in glob.glob('/content/drive/My Drive/Colab Notebooks/natural_images/airplane/*.jpg'):\n",
        "    img_normal = cv2.imread(filename)\n",
        "    output = cv2.resize(img_normal, (28,28))\n",
        "    train_images.append([output,0])"
      ],
      "execution_count": 0,
      "outputs": []
    },
    {
      "cell_type": "code",
      "metadata": {
        "id": "yWr9mQGWVrMm",
        "colab_type": "code",
        "colab": {}
      },
      "source": [
        "#CARS\n",
        "for filename in glob.glob('/content/drive/My Drive/Colab Notebooks/natural_images/car/*.jpg'):\n",
        "    img_normal = cv2.imread(filename)\n",
        "    output = cv2.resize(img_normal, (28,28))\n",
        "    train_images.append([output,1])    "
      ],
      "execution_count": 0,
      "outputs": []
    },
    {
      "cell_type": "code",
      "metadata": {
        "id": "yo2tnZ12Vr6e",
        "colab_type": "code",
        "colab": {}
      },
      "source": [
        "#CATS\n",
        "for filename in glob.glob('/content/drive/My Drive/Colab Notebooks/natural_images/cat/*.jpg'):\n",
        "    img_normal = cv2.imread(filename)\n",
        "    output = cv2.resize(img_normal, (28,28))\n",
        "    train_images.append([output,2])    "
      ],
      "execution_count": 0,
      "outputs": []
    },
    {
      "cell_type": "code",
      "metadata": {
        "id": "K8j2n3TMV1UT",
        "colab_type": "code",
        "colab": {}
      },
      "source": [
        "#DOGS\n",
        "for filename in glob.glob('/content/drive/My Drive/Colab Notebooks/natural_images/dog/*.jpg'):\n",
        "    img_normal = cv2.imread(filename)\n",
        "    output = cv2.resize(img_normal, (28,28))\n",
        "    train_images.append([output,3])    "
      ],
      "execution_count": 0,
      "outputs": []
    },
    {
      "cell_type": "code",
      "metadata": {
        "id": "dPtp594hV5t8",
        "colab_type": "code",
        "colab": {}
      },
      "source": [
        "#FLOWERS\n",
        "for filename in glob.glob('/content/drive/My Drive/Colab Notebooks/natural_images/flower/*.jpg'):\n",
        "    img_normal = cv2.imread(filename)\n",
        "    output = cv2.resize(img_normal, (28,28))\n",
        "    train_images.append([output,4])    "
      ],
      "execution_count": 0,
      "outputs": []
    },
    {
      "cell_type": "code",
      "metadata": {
        "id": "2Au9f9BVWA00",
        "colab_type": "code",
        "colab": {}
      },
      "source": [
        "#FRUITS\n",
        "for filename in glob.glob('/content/drive/My Drive/Colab Notebooks/natural_images/fruit/*.jpg'):\n",
        "    img_normal = cv2.imread(filename)\n",
        "    output = cv2.resize(img_normal, (28,28))\n",
        "    train_images.append([output,5])    "
      ],
      "execution_count": 0,
      "outputs": []
    },
    {
      "cell_type": "code",
      "metadata": {
        "id": "NZphIRksWHNj",
        "colab_type": "code",
        "colab": {}
      },
      "source": [
        "#MOTORBIKES\n",
        "for filename in glob.glob('/content/drive/My Drive/Colab Notebooks/natural_images/motorbike/*.jpg'):\n",
        "    img_normal = cv2.imread(filename)\n",
        "    output = cv2.resize(img_normal, (28,28))\n",
        "    train_images.append([output,6])    "
      ],
      "execution_count": 0,
      "outputs": []
    },
    {
      "cell_type": "code",
      "metadata": {
        "id": "OqP-7zkuWNIn",
        "colab_type": "code",
        "colab": {}
      },
      "source": [
        "#PERSONS\n",
        "for filename in glob.glob('/content/drive/My Drive/Colab Notebooks/natural_images/person/*.jpg'):\n",
        "    img_normal = cv2.imread(filename)\n",
        "    output = cv2.resize(img_normal, (28,28))\n",
        "    train_images.append([output,7])    "
      ],
      "execution_count": 0,
      "outputs": []
    },
    {
      "cell_type": "code",
      "metadata": {
        "id": "W2HSZjfnWT5T",
        "colab_type": "code",
        "colab": {}
      },
      "source": [
        "#SPLITIING THE DATA AND LABELS\n",
        "x_DATA=[]\n",
        "y_DATA=[]\n",
        "for im,label in train_images:\n",
        "  x.append(im)\n",
        "  y.append(label)"
      ],
      "execution_count": 0,
      "outputs": []
    },
    {
      "cell_type": "code",
      "metadata": {
        "id": "bwgrHGIWWrV9",
        "colab_type": "code",
        "colab": {}
      },
      "source": [
        "COVERTING INOT NUMPY ARRAY AND RESIZING\n",
        "x_DATA=np.array(x).reshape(-1,28,28,3)"
      ],
      "execution_count": 0,
      "outputs": []
    },
    {
      "cell_type": "code",
      "metadata": {
        "id": "Izp1BW1xW0DW",
        "colab_type": "code",
        "colab": {}
      },
      "source": [
        "#SPLITTING THE DATA USING train_test_split form sklearn\n",
        "x_trains,x_tests,y_trains,y_tests=train_test_split(x_DATA,y,test_size=0.2, random_state=3)"
      ],
      "execution_count": 0,
      "outputs": []
    },
    {
      "cell_type": "code",
      "metadata": {
        "id": "9isAjBhsXEYh",
        "colab_type": "code",
        "colab": {
          "base_uri": "https://localhost:8080/",
          "height": 280
        },
        "outputId": "9eea9516-97c6-46df-8074-0874176e8773"
      },
      "source": [
        "import matplotlib.pyplot as plt\n",
        "plt.imshow(x_trains[10,:,:],cmap='gray')\n",
        "plt.title('Ground Truth : {}'.format(y_trains[10]))\n",
        "plt.show()"
      ],
      "execution_count": 16,
      "outputs": [
        {
          "output_type": "display_data",
          "data": {
            "image/png": "[encoded data removed]",
            "text/plain": [
              "<Figure size 432x288 with 1 Axes>"
            ]
          },
          "metadata": {
            "tags": [],
            "needs_background": "light"
          }
        }
      ]
    },
    {
      "cell_type": "code",
      "metadata": {
        "id": "ZcDPpImrXK8A",
        "colab_type": "code",
        "colab": {}
      },
      "source": [
        "#Normalizing the image by dividing each pixel value by 255\n",
        "x_tests = x_tests.astype('float32')\n",
        "x_trains = x_trains.astype('float32')\n",
        "x_trains = x_trains / 255.0\n",
        "x_tests = x_tests / 255.0\n",
        "#onehot encoding the data\n",
        "y_trains = np_utils.to_categorical(y_trains)\n",
        "y_tests = np_utils.to_categorical(y_tests)\n",
        "num_classes = y_tests.shape[1]"
      ],
      "execution_count": 0,
      "outputs": []
    },
    {
      "cell_type": "code",
      "metadata": {
        "id": "7K8RcABKXPTg",
        "colab_type": "code",
        "colab": {
          "base_uri": "https://localhost:8080/",
          "height": 100
        },
        "outputId": "97dd7e9a-a796-4168-ab8d-2d819667d093"
      },
      "source": [
        "#Building the model\n",
        "model = Sequential()\n",
        "#using a conv2d layer with 3,3 filter with activation relu\n",
        "model.add(Conv2D(64, (3, 3), input_shape=(x_train.shape[1:]), padding='same', activation='relu'))\n",
        "#dropping out connections for less computational time\n",
        "model.add(Dropout(0.5))\n",
        "#using maxpooling with 2X2 filter\n",
        "model.add(MaxPooling2D(pool_size=(2, 2)))\n",
        "model.add(Dropout(0.3))\n",
        "#flattening out as we the shape is change after maxpooling\n",
        "model.add(Flatten())\n",
        "#using softmax activation function for last layer inorder to claasify between 9 classes\n",
        "model.add(Dense(num_classes, activation='softmax'))"
      ],
      "execution_count": 20,
      "outputs": [
        {
          "output_type": "stream",
          "text": [
            "WARNING:tensorflow:From /tensorflow-1.15.2/python3.6/tensorflow_core/python/ops/resource_variable_ops.py:1630: calling BaseResourceVariable.__init__ (from tensorflow.python.ops.resource_variable_ops) with constraint is deprecated and will be removed in a future version.\n",
            "Instructions for updating:\n",
            "If using Keras pass *_constraint arguments to layers.\n",
            "WARNING:tensorflow:From /usr/local/lib/python3.6/dist-packages/keras/backend/tensorflow_backend.py:4070: The name tf.nn.max_pool is deprecated. Please use tf.nn.max_pool2d instead.\n",
            "\n"
          ],
          "name": "stdout"
        }
      ]
    },
    {
      "cell_type": "code",
      "metadata": {
        "id": "A043cd_MXlQk",
        "colab_type": "code",
        "colab": {}
      },
      "source": [
        "#parameters\n",
        "epochss = 10\n",
        "#compiling the model\n",
        "model.compile(loss='binary_crossentropy', optimizer='adam', metrics=['accuracy'])"
      ],
      "execution_count": 0,
      "outputs": []
    },
    {
      "cell_type": "code",
      "metadata": {
        "id": "IhkowQNZXraQ",
        "colab_type": "code",
        "colab": {
          "base_uri": "https://localhost:8080/",
          "height": 369
        },
        "outputId": "873d4bb1-194b-4637-d6c1-c392fb227929"
      },
      "source": [
        "#fitiing the model\n",
        "his=model.fit(x_trains, y_trains, validation_data=(x_tests, y_tests), epochs=epochss, batch_size=54)"
      ],
      "execution_count": 29,
      "outputs": [
        {
          "output_type": "stream",
          "text": [
            "Train on 5519 samples, validate on 1380 samples\n",
            "Epoch 1/10\n",
            "5519/5519 [==============================] - 10s 2ms/step - loss: 0.1039 - accuracy: 0.9568 - val_loss: 0.1012 - val_accuracy: 0.9630\n",
            "Epoch 2/10\n",
            "5519/5519 [==============================] - 10s 2ms/step - loss: 0.1032 - accuracy: 0.9562 - val_loss: 0.0922 - val_accuracy: 0.9640\n",
            "Epoch 3/10\n",
            "5519/5519 [==============================] - 10s 2ms/step - loss: 0.0965 - accuracy: 0.9591 - val_loss: 0.0980 - val_accuracy: 0.9624\n",
            "Epoch 4/10\n",
            "5519/5519 [==============================] - 10s 2ms/step - loss: 0.0995 - accuracy: 0.9586 - val_loss: 0.0877 - val_accuracy: 0.9656\n",
            "Epoch 5/10\n",
            "5519/5519 [==============================] - 10s 2ms/step - loss: 0.0990 - accuracy: 0.9575 - val_loss: 0.0819 - val_accuracy: 0.9692\n",
            "Epoch 6/10\n",
            "5519/5519 [==============================] - 10s 2ms/step - loss: 0.0964 - accuracy: 0.9586 - val_loss: 0.0863 - val_accuracy: 0.9670\n",
            "Epoch 7/10\n",
            "5519/5519 [==============================] - 10s 2ms/step - loss: 0.0891 - accuracy: 0.9623 - val_loss: 0.0770 - val_accuracy: 0.9697\n",
            "Epoch 8/10\n",
            "5519/5519 [==============================] - 10s 2ms/step - loss: 0.0933 - accuracy: 0.9606 - val_loss: 0.0940 - val_accuracy: 0.9631\n",
            "Epoch 9/10\n",
            "5519/5519 [==============================] - 14s 3ms/step - loss: 0.0909 - accuracy: 0.9610 - val_loss: 0.0755 - val_accuracy: 0.9703\n",
            "Epoch 10/10\n",
            "5519/5519 [==============================] - 10s 2ms/step - loss: 0.0876 - accuracy: 0.9629 - val_loss: 0.0776 - val_accuracy: 0.9689\n"
          ],
          "name": "stdout"
        }
      ]
    },
    {
      "cell_type": "code",
      "metadata": {
        "id": "5RogwTKmXy3a",
        "colab_type": "code",
        "colab": {
          "base_uri": "https://localhost:8080/",
          "height": 67
        },
        "outputId": "0ed48cfc-c779-4bd2-c6a0-cf70fde4b1c3"
      },
      "source": [
        "#trying to predict an imge from test data\n",
        "x12=model.predict_classes(x_tests[[21],:])\n",
        "print(x12[0])\n",
        "#printing the actual test label\n",
        "print(y_testss[21])\n",
        "#predicted labe\n",
        "print(labels[x12[0]])"
      ],
      "execution_count": 28,
      "outputs": [
        {
          "output_type": "stream",
          "text": [
            "1\n",
            "[0. 1. 0. 0. 0. 0. 0. 0.]\n",
            "car\n"
          ],
          "name": "stdout"
        }
      ]
    },
    {
      "cell_type": "code",
      "metadata": {
        "id": "Lnj8FajNkS2g",
        "colab_type": "code",
        "colab": {
          "base_uri": "https://localhost:8080/",
          "height": 280
        },
        "outputId": "c0090fb5-b9f9-42cd-d7b4-2762c78dd3fe"
      },
      "source": [
        "import matplotlib.pyplot as plt\n",
        "plt.imshow(x_tests[21,:,:],cmap='gray')\n",
        "plt.title('Ground Truth : {}'.format(y_tests[21]))\n",
        "plt.show()"
      ],
      "execution_count": 26,
      "outputs": [
        {
          "output_type": "display_data",
          "data": {
            "image/png": "[encoded data removed]",
            "text/plain": [
              "<Figure size 432x288 with 1 Axes>"
            ]
          },
          "metadata": {
            "tags": [],
            "needs_background": "light"
          }
        }
      ]
    },
    {
      "cell_type": "code",
      "metadata": {
        "id": "VVLzuFG4Ynq4",
        "colab_type": "code",
        "colab": {}
      },
      "source": [
        "model.save(\"mod.h5\")"
      ],
      "execution_count": 0,
      "outputs": []
    },
    {
      "cell_type": "code",
      "metadata": {
        "id": "2OFvtlKGk6u1",
        "colab_type": "code",
        "colab": {
          "base_uri": "https://localhost:8080/",
          "height": 295
        },
        "outputId": "1d801d1b-c9c2-4223-9a85-4e5bb4c67c62"
      },
      "source": [
        "import matplotlib.pyplot as plt\n",
        "plt.plot(his.history['accuracy'])\n",
        "plt.plot(his.history['val_accuracy'])\n",
        "plt.plot(his.history['loss'])\n",
        "plt.plot(his.history['val_loss'])\n",
        "plt.title('model accuracy')\n",
        "plt.ylabel('accuracy')\n",
        "plt.xlabel('epoch')\n",
        "plt.legend(['accuray', 'validation accuracy','loss','val_loss'], loc='upper left')\n",
        "plt.show()"
      ],
      "execution_count": 32,
      "outputs": [
        {
          "output_type": "display_data",
          "data": {
            "image/png": "[encoded data removed]",
            "text/plain": [
              "<Figure size 432x288 with 1 Axes>"
            ]
          },
          "metadata": {
            "tags": [],
            "needs_background": "light"
          }
        }
      ]
    }
  ]
}