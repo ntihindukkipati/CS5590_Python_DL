{
  "nbformat": 4,
  "nbformat_minor": 0,
  "metadata": {
    "colab": {
      "name": "image_classification.ipynb",
      "provenance": [],
      "collapsed_sections": [],
      "toc_visible": true
    },
    "kernelspec": {
      "name": "python3",
      "display_name": "Python 3"
    },
    "accelerator": "GPU"
  },
  "cells": [
    {
      "cell_type": "markdown",
      "metadata": {
        "id": "pWnbnDd1AqwK",
        "colab_type": "text"
      },
      "source": [
        "# Simple CNN model for CIFAR-10\n"
      ]
    },
    {
      "cell_type": "code",
      "metadata": {
        "id": "iYpSkpfkAJ9c",
        "colab_type": "code",
        "colab": {
          "base_uri": "https://localhost:8080/",
          "height": 52
        },
        "outputId": "a85bf66e-7a90-4539-fc8d-278ee0770ab6"
      },
      "source": [
        "import numpy\n",
        "from keras.datasets import cifar10\n",
        "from keras.models import Sequential\n",
        "from keras.layers import Dense, Flatten, Dropout, Input, BatchNormalization\n",
        "from keras.constraints import maxnorm\n",
        "from keras.models import Model\n",
        "from keras.optimizers import SGD, Adam\n",
        "from keras.layers.convolutional import Conv2D, MaxPooling2D\n",
        "from keras.utils import np_utils\n",
        "from keras import backend as K\n",
        "K.common.image_dim_ordering()"
      ],
      "execution_count": 1,
      "outputs": [
        {
          "output_type": "stream",
          "text": [
            "Using TensorFlow backend.\n"
          ],
          "name": "stderr"
        },
        {
          "output_type": "execute_result",
          "data": {
            "text/plain": [
              "'tf'"
            ]
          },
          "metadata": {
            "tags": []
          },
          "execution_count": 1
        }
      ]
    },
    {
      "cell_type": "code",
      "metadata": {
        "id": "Ortznf9pm6Sl",
        "colab_type": "code",
        "colab": {
          "base_uri": "https://localhost:8080/",
          "height": 126
        },
        "outputId": "3ba5ed79-c34e-4d8c-94b5-f53e9ace7cff"
      },
      "source": [
        "from google.colab import drive\n",
        "drive.mount('/content/drive')"
      ],
      "execution_count": 2,
      "outputs": [
        {
          "output_type": "stream",
          "text": [
            "Go to this URL in a browser: https://accounts.google.com/o/oauth2/auth?client_id=947318989803-6bn6qk8qdgf4n4g3pfee6491hc0brc4i.apps.googleusercontent.com&redirect_uri=urn%3aietf%3awg%3aoauth%3a2.0%3aoob&response_type=code&scope=email%20https%3a%2f%2fwww.googleapis.com%2fauth%2fdocs.test%20https%3a%2f%2fwww.googleapis.com%2fauth%2fdrive%20https%3a%2f%2fwww.googleapis.com%2fauth%2fdrive.photos.readonly%20https%3a%2f%2fwww.googleapis.com%2fauth%2fpeopleapi.readonly\n",
            "\n",
            "Enter your authorization code:\n",
            "··········\n",
            "Mounted at /content/drive\n"
          ],
          "name": "stdout"
        }
      ]
    },
    {
      "cell_type": "markdown",
      "metadata": {
        "id": "DFTE1CTiAu8i",
        "colab_type": "text"
      },
      "source": [
        "fix random seed for reproducibility"
      ]
    },
    {
      "cell_type": "code",
      "metadata": {
        "id": "CwrqU_rIAjIf",
        "colab_type": "code",
        "colab": {}
      },
      "source": [
        "seed = 7\n",
        "numpy.random.seed(seed)"
      ],
      "execution_count": 0,
      "outputs": []
    },
    {
      "cell_type": "markdown",
      "metadata": {
        "id": "GJpsavCTA0Dj",
        "colab_type": "text"
      },
      "source": [
        "load data"
      ]
    },
    {
      "cell_type": "code",
      "metadata": {
        "id": "QCOqhYJqAxmj",
        "colab_type": "code",
        "colab": {
          "base_uri": "https://localhost:8080/",
          "height": 52
        },
        "outputId": "097e168b-e6fd-42c4-ca29-cfb2a6a61c94"
      },
      "source": [
        "(X_train, y_train), (X_test, y_test) = cifar10.load_data()"
      ],
      "execution_count": 3,
      "outputs": [
        {
          "output_type": "stream",
          "text": [
            "Downloading data from https://www.cs.toronto.edu/~kriz/cifar-10-python.tar.gz\n",
            "170500096/170498071 [==============================] - 3s 0us/step\n"
          ],
          "name": "stdout"
        }
      ]
    },
    {
      "cell_type": "code",
      "metadata": {
        "id": "4C92OJUxnP0k",
        "colab_type": "code",
        "colab": {
          "base_uri": "https://localhost:8080/",
          "height": 284
        },
        "outputId": "2af6206c-292e-4c59-93d8-dd132ac63545"
      },
      "source": [
        "import matplotlib.pyplot as plt\n",
        "plt.imshow(X_train[50,:,:],cmap='gray')\n",
        "#plt.title('Ground Truth : {}'.format(test_labels[4]))\n",
        "plt.show()\n",
        "X_train.shape"
      ],
      "execution_count": 5,
      "outputs": [
        {
          "output_type": "display_data",
          "data": {
            "image/png": "[encoded data removed]",
            "text/plain": [
              "<Figure size 432x288 with 1 Axes>"
            ]
          },
          "metadata": {
            "tags": [],
            "needs_background": "light"
          }
        },
        {
          "output_type": "execute_result",
          "data": {
            "text/plain": [
              "(50000, 32, 32, 3)"
            ]
          },
          "metadata": {
            "tags": []
          },
          "execution_count": 5
        }
      ]
    },
    {
      "cell_type": "code",
      "metadata": {
        "id": "BGULw4IUwFTD",
        "colab_type": "code",
        "colab": {}
      },
      "source": [
        "yu=y_test\n"
      ],
      "execution_count": 0,
      "outputs": []
    },
    {
      "cell_type": "markdown",
      "metadata": {
        "id": "knMRFaZUBL8r",
        "colab_type": "text"
      },
      "source": [
        "normalize inputs from 0-255 to 0.0-1.0"
      ]
    },
    {
      "cell_type": "code",
      "metadata": {
        "id": "7YH35TxjBJIH",
        "colab_type": "code",
        "colab": {}
      },
      "source": [
        "X_train = X_train.astype('float32')\n",
        "X_test = X_test.astype('float32')\n",
        "X_train = X_train / 255.0\n",
        "X_test = X_test / 255.0"
      ],
      "execution_count": 0,
      "outputs": []
    },
    {
      "cell_type": "code",
      "metadata": {
        "id": "naxr9g_N6ndt",
        "colab_type": "code",
        "colab": {
          "base_uri": "https://localhost:8080/",
          "height": 888
        },
        "outputId": "f1959ab0-26c0-4c5e-b95c-57505c0aea38"
      },
      "source": [
        "X_train[1]"
      ],
      "execution_count": 32,
      "outputs": [
        {
          "output_type": "execute_result",
          "data": {
            "text/plain": [
              "array([[[0.6039216 , 0.69411767, 0.73333335],\n",
              "        [0.49411765, 0.5372549 , 0.53333336],\n",
              "        [0.4117647 , 0.40784314, 0.37254903],\n",
              "        ...,\n",
              "        [0.35686275, 0.37254903, 0.2784314 ],\n",
              "        [0.34117648, 0.3529412 , 0.2784314 ],\n",
              "        [0.30980393, 0.31764707, 0.27450982]],\n",
              "\n",
              "       [[0.54901963, 0.627451  , 0.6627451 ],\n",
              "        [0.5686275 , 0.6       , 0.6039216 ],\n",
              "        [0.49019608, 0.49019608, 0.4627451 ],\n",
              "        ...,\n",
              "        [0.3764706 , 0.3882353 , 0.30588236],\n",
              "        [0.3019608 , 0.3137255 , 0.24313726],\n",
              "        [0.2784314 , 0.28627452, 0.23921569]],\n",
              "\n",
              "       [[0.54901963, 0.60784316, 0.6431373 ],\n",
              "        [0.54509807, 0.57254905, 0.58431375],\n",
              "        [0.4509804 , 0.4509804 , 0.4392157 ],\n",
              "        ...,\n",
              "        [0.30980393, 0.32156864, 0.2509804 ],\n",
              "        [0.26666668, 0.27450982, 0.21568628],\n",
              "        [0.2627451 , 0.27058825, 0.21568628]],\n",
              "\n",
              "       ...,\n",
              "\n",
              "       [[0.6862745 , 0.654902  , 0.6509804 ],\n",
              "        [0.6117647 , 0.6039216 , 0.627451  ],\n",
              "        [0.6039216 , 0.627451  , 0.6666667 ],\n",
              "        ...,\n",
              "        [0.16470589, 0.13333334, 0.14117648],\n",
              "        [0.23921569, 0.20784314, 0.22352941],\n",
              "        [0.3647059 , 0.3254902 , 0.35686275]],\n",
              "\n",
              "       [[0.64705884, 0.6039216 , 0.5019608 ],\n",
              "        [0.6117647 , 0.59607846, 0.50980395],\n",
              "        [0.62352943, 0.6313726 , 0.5568628 ],\n",
              "        ...,\n",
              "        [0.40392157, 0.3647059 , 0.3764706 ],\n",
              "        [0.48235294, 0.44705883, 0.47058824],\n",
              "        [0.5137255 , 0.4745098 , 0.5137255 ]],\n",
              "\n",
              "       [[0.6392157 , 0.5803922 , 0.47058824],\n",
              "        [0.61960787, 0.5803922 , 0.47843137],\n",
              "        [0.6392157 , 0.6117647 , 0.52156866],\n",
              "        ...,\n",
              "        [0.56078434, 0.52156866, 0.54509807],\n",
              "        [0.56078434, 0.5254902 , 0.5568628 ],\n",
              "        [0.56078434, 0.52156866, 0.5647059 ]]], dtype=float32)"
            ]
          },
          "metadata": {
            "tags": []
          },
          "execution_count": 32
        }
      ]
    },
    {
      "cell_type": "markdown",
      "metadata": {
        "id": "XIVTFI4SBTTU",
        "colab_type": "text"
      },
      "source": [
        "one hot encode outputs"
      ]
    },
    {
      "cell_type": "code",
      "metadata": {
        "id": "1ZqCaDjUBTwl",
        "colab_type": "code",
        "colab": {
          "base_uri": "https://localhost:8080/",
          "height": 35
        },
        "outputId": "26ef5fd5-bca0-47fb-d08c-c96f10ce430c"
      },
      "source": [
        "y_train = np_utils.to_categorical(y_train)\n",
        "y_test = np_utils.to_categorical(y_test)\n",
        "num_classes = y_test.shape[1]\n",
        "type(y_test)"
      ],
      "execution_count": 6,
      "outputs": [
        {
          "output_type": "execute_result",
          "data": {
            "text/plain": [
              "numpy.ndarray"
            ]
          },
          "metadata": {
            "tags": []
          },
          "execution_count": 6
        }
      ]
    },
    {
      "cell_type": "markdown",
      "metadata": {
        "id": "9PXbifxcBXdv",
        "colab_type": "text"
      },
      "source": [
        "Create the model"
      ]
    },
    {
      "cell_type": "code",
      "metadata": {
        "id": "ZYAt9i1FJ8Xo",
        "colab_type": "code",
        "colab": {}
      },
      "source": [
        ""
      ],
      "execution_count": 0,
      "outputs": []
    },
    {
      "cell_type": "code",
      "metadata": {
        "id": "42jnKJGpBV-I",
        "colab_type": "code",
        "colab": {}
      },
      "source": [
        "model = Sequential()\n",
        "model.add(Conv2D(128, (3, 3), input_shape=(X_train.shape[1:]), padding='same', activation='relu'))\n",
        "model.add(Dropout(0.5))\n",
        "model.add(Conv2D(256, (3, 3), activation='relu', padding='same'))\n",
        "model.add(MaxPooling2D(pool_size=(2, 2)))\n",
        "model.add(Dropout(0.5))\n",
        "model.add(Flatten())\n",
        "model.add(Dense(512, activation='relu', kernel_constraint=maxnorm(3)))\n",
        "model.add(Dropout(0.3))\n",
        "model.add(Dense(num_classes, activation='softmax'))"
      ],
      "execution_count": 0,
      "outputs": []
    },
    {
      "cell_type": "markdown",
      "metadata": {
        "id": "Agtcn0FvBc50",
        "colab_type": "text"
      },
      "source": [
        "Compile model"
      ]
    },
    {
      "cell_type": "code",
      "metadata": {
        "id": "mU0e5-U7Ba2q",
        "colab_type": "code",
        "colab": {}
      },
      "source": [
        "epochs = 70\n",
        "lrate = 0.001\n",
        "decay = lrate/epochs\n",
        "sgd = Adam(lr=lrate)\n",
        "model.compile(loss='categorical_crossentropy', optimizer=sgd, metrics=['accuracy'])"
      ],
      "execution_count": 0,
      "outputs": []
    },
    {
      "cell_type": "code",
      "metadata": {
        "id": "jPAxsGBWBgPL",
        "colab_type": "code",
        "colab": {
          "base_uri": "https://localhost:8080/",
          "height": 497
        },
        "outputId": "3c3f8685-5766-4eaa-c915-1283b58ab45c"
      },
      "source": [
        "print(model.summary())"
      ],
      "execution_count": 26,
      "outputs": [
        {
          "output_type": "stream",
          "text": [
            "Model: \"sequential_1\"\n",
            "_________________________________________________________________\n",
            "Layer (type)                 Output Shape              Param #   \n",
            "=================================================================\n",
            "conv2d_5 (Conv2D)            (None, 32, 32, 128)       3584      \n",
            "_________________________________________________________________\n",
            "dropout_5 (Dropout)          (None, 32, 32, 128)       0         \n",
            "_________________________________________________________________\n",
            "conv2d_6 (Conv2D)            (None, 32, 32, 256)       295168    \n",
            "_________________________________________________________________\n",
            "max_pooling2d_3 (MaxPooling2 (None, 16, 16, 256)       0         \n",
            "_________________________________________________________________\n",
            "dropout_6 (Dropout)          (None, 16, 16, 256)       0         \n",
            "_________________________________________________________________\n",
            "flatten_3 (Flatten)          (None, 65536)             0         \n",
            "_________________________________________________________________\n",
            "dense_5 (Dense)              (None, 512)               33554944  \n",
            "_________________________________________________________________\n",
            "dropout_7 (Dropout)          (None, 512)               0         \n",
            "_________________________________________________________________\n",
            "dense_6 (Dense)              (None, 10)                5130      \n",
            "=================================================================\n",
            "Total params: 33,858,826\n",
            "Trainable params: 33,858,826\n",
            "Non-trainable params: 0\n",
            "_________________________________________________________________\n",
            "None\n"
          ],
          "name": "stdout"
        }
      ]
    },
    {
      "cell_type": "markdown",
      "metadata": {
        "id": "vI3s6IHMBogK",
        "colab_type": "text"
      },
      "source": [
        "Fit the model"
      ]
    },
    {
      "cell_type": "code",
      "metadata": {
        "id": "hFS521-iBh-n",
        "colab_type": "code",
        "colab": {
          "base_uri": "https://localhost:8080/",
          "height": 230
        },
        "outputId": "09ba2ec6-a8a9-455e-a53e-1a8a80132531"
      },
      "source": [
        "model.fit(X_train, y_train, validation_data=(X_test, y_test), epochs=5, batch_size=128)"
      ],
      "execution_count": 9,
      "outputs": [
        {
          "output_type": "stream",
          "text": [
            "Train on 50000 samples, validate on 10000 samples\n",
            "Epoch 1/5\n",
            "50000/50000 [==============================] - 53s 1ms/step - loss: 1.8891 - accuracy: 0.3158 - val_loss: 1.3749 - val_accuracy: 0.5033\n",
            "Epoch 2/5\n",
            "50000/50000 [==============================] - 45s 905us/step - loss: 1.3676 - accuracy: 0.5095 - val_loss: 1.1896 - val_accuracy: 0.5784\n",
            "Epoch 3/5\n",
            "50000/50000 [==============================] - 45s 903us/step - loss: 1.2057 - accuracy: 0.5701 - val_loss: 1.0826 - val_accuracy: 0.6211\n",
            "Epoch 4/5\n",
            "50000/50000 [==============================] - 45s 901us/step - loss: 1.0974 - accuracy: 0.6126 - val_loss: 1.0081 - val_accuracy: 0.6473\n",
            "Epoch 5/5\n",
            "50000/50000 [==============================] - 45s 903us/step - loss: 1.0244 - accuracy: 0.6355 - val_loss: 0.9503 - val_accuracy: 0.6686\n"
          ],
          "name": "stdout"
        },
        {
          "output_type": "execute_result",
          "data": {
            "text/plain": [
              "<keras.callbacks.callbacks.History at 0x7fa43557c978>"
            ]
          },
          "metadata": {
            "tags": []
          },
          "execution_count": 9
        }
      ]
    },
    {
      "cell_type": "markdown",
      "metadata": {
        "id": "b5c_zYozCLFF",
        "colab_type": "text"
      },
      "source": [
        "Final evaluation of the model"
      ]
    },
    {
      "cell_type": "code",
      "metadata": {
        "id": "j7l-gnT2Bt1O",
        "colab_type": "code",
        "colab": {
          "base_uri": "https://localhost:8080/",
          "height": 35
        },
        "outputId": "e584bc2e-74cc-49e7-8e71-d4f184f5631d"
      },
      "source": [
        "scores = model.evaluate(X_test, y_test, verbose=0)\n",
        "print(\"Accuracy: %.2f%%\" % (scores[1]*100))"
      ],
      "execution_count": 23,
      "outputs": [
        {
          "output_type": "stream",
          "text": [
            "Accuracy: 73.02%\n"
          ],
          "name": "stdout"
        }
      ]
    },
    {
      "cell_type": "code",
      "metadata": {
        "id": "uf5oKALjCOoY",
        "colab_type": "code",
        "colab": {
          "base_uri": "https://localhost:8080/",
          "height": 70
        },
        "outputId": "b5f0bdc4-3717-4ea3-8cc1-b3c5c27859ff"
      },
      "source": [
        "y=model.predict_classes(X_train[[1],:])\n",
        "\n",
        "c=model.predict_proba(X_train[[1],:],1)\n",
        "print(c[0])"
      ],
      "execution_count": 57,
      "outputs": [
        {
          "output_type": "stream",
          "text": [
            "[1.07895415e-02 3.09150703e-02 4.78956522e-03 7.15145434e-04\n",
            " 2.16493514e-04 4.19678632e-04 6.39861082e-06 7.60670332e-03\n",
            " 3.31977382e-02 9.11343575e-01]\n"
          ],
          "name": "stdout"
        }
      ]
    },
    {
      "cell_type": "code",
      "metadata": {
        "id": "BfBm13_GZMh4",
        "colab_type": "code",
        "colab": {
          "base_uri": "https://localhost:8080/",
          "height": 70
        },
        "outputId": "d366a461-8638-4c30-faca-92e17f2e9cf0"
      },
      "source": [
        "model.predict_proba(X_test[[1],:])\n"
      ],
      "execution_count": 62,
      "outputs": [
        {
          "output_type": "execute_result",
          "data": {
            "text/plain": [
              "array([[5.2959276e-03, 8.4246629e-01, 4.8647448e-06, 3.6685069e-06,\n",
              "        1.4894716e-06, 1.9243375e-07, 1.9330430e-07, 4.9870170e-07,\n",
              "        1.4799957e-01, 4.2272490e-03]], dtype=float32)"
            ]
          },
          "metadata": {
            "tags": []
          },
          "execution_count": 62
        }
      ]
    },
    {
      "cell_type": "code",
      "metadata": {
        "id": "rxcVT56IhTos",
        "colab_type": "code",
        "colab": {}
      },
      "source": [
        "import pickle\n",
        "with open(\"/content/drive/My Drive/Colab Notebooks/chest_xray/First_Model.pk2\",'wb') as file:\n",
        "      pickle.dump(model,file)"
      ],
      "execution_count": 0,
      "outputs": []
    },
    {
      "cell_type": "code",
      "metadata": {
        "id": "8M5D22CBZTlU",
        "colab_type": "code",
        "colab": {
          "base_uri": "https://localhost:8080/",
          "height": 35
        },
        "outputId": "e17f6f81-5d7d-4fbf-e571-541eb1306d34"
      },
      "source": [
        "y_train[1]"
      ],
      "execution_count": 44,
      "outputs": [
        {
          "output_type": "execute_result",
          "data": {
            "text/plain": [
              "array([0., 0., 0., 0., 0., 0., 0., 0., 0., 1.], dtype=float32)"
            ]
          },
          "metadata": {
            "tags": []
          },
          "execution_count": 44
        }
      ]
    },
    {
      "cell_type": "code",
      "metadata": {
        "id": "hcfEmBAoY2Z6",
        "colab_type": "code",
        "colab": {
          "base_uri": "https://localhost:8080/",
          "height": 35
        },
        "outputId": "aefea93f-5515-4b28-8d8d-e0c596f10721"
      },
      "source": [
        "print(y[0])"
      ],
      "execution_count": 41,
      "outputs": [
        {
          "output_type": "stream",
          "text": [
            "9\n"
          ],
          "name": "stdout"
        }
      ]
    },
    {
      "cell_type": "markdown",
      "metadata": {
        "id": "i9rf5SBXgv-X",
        "colab_type": "text"
      },
      "source": [
        "1. build a model with given instructions\n"
      ]
    },
    {
      "cell_type": "code",
      "metadata": {
        "id": "PzcSG093D5FA",
        "colab_type": "code",
        "colab": {
          "base_uri": "https://localhost:8080/",
          "height": 1000
        },
        "outputId": "ce1ed8e2-0fc1-4bb1-a5e0-474e3bb47419"
      },
      "source": [
        "m1 = Sequential()\n",
        "m1.add(Conv2D(32, (3, 3), input_shape=(X_train.shape[1:]), padding='same', activation='relu'))\n",
        "m1.add(Dropout(0.2))\n",
        "m1.add(Conv2D(32, (3, 3), activation='relu', padding='same'))\n",
        "m1.add(MaxPooling2D(pool_size=(2, 2)))\n",
        "m1.add(Conv2D(64, (3, 3), activation='relu', padding='same'))\n",
        "m1.add(Dropout(0.2))\n",
        "m1.add(Conv2D(64, (3, 3), activation='relu', padding='same'))\n",
        "m1.add(MaxPooling2D(pool_size=(2, 2)))\n",
        "m1.add(Conv2D(128, (3, 3), activation='relu', padding='same'))\n",
        "m1.add(Dropout(0.2))\n",
        "m1.add(Conv2D(128, (3, 3), activation='relu', padding='same'))\n",
        "m1.add(MaxPooling2D(pool_size=(2, 2)))\n",
        "m1.add(Flatten())\n",
        "m1.add(Dropout(0.2))\n",
        "m1.add(Dense(1024, activation='relu', kernel_constraint=maxnorm(3)))\n",
        "m1.add(Dropout(0.2))\n",
        "m1.add(Dense(512, activation='relu', kernel_constraint=maxnorm(3)))\n",
        "m1.add(Dropout(0.2))\n",
        "m1.add(Dense(num_classes, activation='softmax'))\n",
        "epochs = 5\n",
        "lrate = 0.001\n",
        "decay = lrate/epochs\n",
        "sgd = Adam(lr=lrate)\n",
        "m1.compile(loss='categorical_crossentropy', optimizer=sgd, metrics=['accuracy'])\n",
        "print(m1.summary())\n",
        "m1.fit(X_train, y_train, validation_data=(X_test, y_test), epochs=epochs, batch_size=128)"
      ],
      "execution_count": 11,
      "outputs": [
        {
          "output_type": "stream",
          "text": [
            "Model: \"sequential_2\"\n",
            "_________________________________________________________________\n",
            "Layer (type)                 Output Shape              Param #   \n",
            "=================================================================\n",
            "conv2d_3 (Conv2D)            (None, 32, 32, 32)        896       \n",
            "_________________________________________________________________\n",
            "dropout_4 (Dropout)          (None, 32, 32, 32)        0         \n",
            "_________________________________________________________________\n",
            "conv2d_4 (Conv2D)            (None, 32, 32, 32)        9248      \n",
            "_________________________________________________________________\n",
            "max_pooling2d_2 (MaxPooling2 (None, 16, 16, 32)        0         \n",
            "_________________________________________________________________\n",
            "conv2d_5 (Conv2D)            (None, 16, 16, 64)        18496     \n",
            "_________________________________________________________________\n",
            "dropout_5 (Dropout)          (None, 16, 16, 64)        0         \n",
            "_________________________________________________________________\n",
            "conv2d_6 (Conv2D)            (None, 16, 16, 64)        36928     \n",
            "_________________________________________________________________\n",
            "max_pooling2d_3 (MaxPooling2 (None, 8, 8, 64)          0         \n",
            "_________________________________________________________________\n",
            "conv2d_7 (Conv2D)            (None, 8, 8, 128)         73856     \n",
            "_________________________________________________________________\n",
            "dropout_6 (Dropout)          (None, 8, 8, 128)         0         \n",
            "_________________________________________________________________\n",
            "conv2d_8 (Conv2D)            (None, 8, 8, 128)         147584    \n",
            "_________________________________________________________________\n",
            "max_pooling2d_4 (MaxPooling2 (None, 4, 4, 128)         0         \n",
            "_________________________________________________________________\n",
            "flatten_2 (Flatten)          (None, 2048)              0         \n",
            "_________________________________________________________________\n",
            "dropout_7 (Dropout)          (None, 2048)              0         \n",
            "_________________________________________________________________\n",
            "dense_3 (Dense)              (None, 1024)              2098176   \n",
            "_________________________________________________________________\n",
            "dropout_8 (Dropout)          (None, 1024)              0         \n",
            "_________________________________________________________________\n",
            "dense_4 (Dense)              (None, 512)               524800    \n",
            "_________________________________________________________________\n",
            "dropout_9 (Dropout)          (None, 512)               0         \n",
            "_________________________________________________________________\n",
            "dense_5 (Dense)              (None, 10)                5130      \n",
            "=================================================================\n",
            "Total params: 2,915,114\n",
            "Trainable params: 2,915,114\n",
            "Non-trainable params: 0\n",
            "_________________________________________________________________\n",
            "None\n",
            "Train on 50000 samples, validate on 10000 samples\n",
            "Epoch 1/20\n",
            "50000/50000 [==============================] - 12s 245us/step - loss: 1.7345 - accuracy: 0.3470 - val_loss: 1.4061 - val_accuracy: 0.4839\n",
            "Epoch 2/20\n",
            "50000/50000 [==============================] - 11s 225us/step - loss: 1.2751 - accuracy: 0.5364 - val_loss: 1.0951 - val_accuracy: 0.6094\n",
            "Epoch 3/20\n",
            "50000/50000 [==============================] - 11s 226us/step - loss: 1.0434 - accuracy: 0.6283 - val_loss: 0.9410 - val_accuracy: 0.6665\n",
            "Epoch 4/20\n",
            "50000/50000 [==============================] - 11s 224us/step - loss: 0.9020 - accuracy: 0.6811 - val_loss: 0.8369 - val_accuracy: 0.7063\n",
            "Epoch 5/20\n",
            "50000/50000 [==============================] - 11s 227us/step - loss: 0.7973 - accuracy: 0.7184 - val_loss: 0.7889 - val_accuracy: 0.7282\n",
            "Epoch 6/20\n",
            "50000/50000 [==============================] - 11s 225us/step - loss: 0.7231 - accuracy: 0.7470 - val_loss: 0.7625 - val_accuracy: 0.7372\n",
            "Epoch 7/20\n",
            "50000/50000 [==============================] - 11s 225us/step - loss: 0.6665 - accuracy: 0.7653 - val_loss: 0.6776 - val_accuracy: 0.7663\n",
            "Epoch 8/20\n",
            "50000/50000 [==============================] - 11s 226us/step - loss: 0.6019 - accuracy: 0.7878 - val_loss: 0.6814 - val_accuracy: 0.7687\n",
            "Epoch 9/20\n",
            "50000/50000 [==============================] - 11s 228us/step - loss: 0.5621 - accuracy: 0.8012 - val_loss: 0.6563 - val_accuracy: 0.7767\n",
            "Epoch 10/20\n",
            "50000/50000 [==============================] - 11s 226us/step - loss: 0.5216 - accuracy: 0.8150 - val_loss: 0.6325 - val_accuracy: 0.7821\n",
            "Epoch 11/20\n",
            "50000/50000 [==============================] - 11s 228us/step - loss: 0.4935 - accuracy: 0.8254 - val_loss: 0.6587 - val_accuracy: 0.7792\n",
            "Epoch 12/20\n",
            "50000/50000 [==============================] - 11s 225us/step - loss: 0.4552 - accuracy: 0.8397 - val_loss: 0.6445 - val_accuracy: 0.7933\n",
            "Epoch 13/20\n",
            "50000/50000 [==============================] - 11s 225us/step - loss: 0.4342 - accuracy: 0.8470 - val_loss: 0.6719 - val_accuracy: 0.7814\n",
            "Epoch 14/20\n",
            "50000/50000 [==============================] - 11s 225us/step - loss: 0.4107 - accuracy: 0.8529 - val_loss: 0.6254 - val_accuracy: 0.7980\n",
            "Epoch 15/20\n",
            "50000/50000 [==============================] - 11s 225us/step - loss: 0.3791 - accuracy: 0.8660 - val_loss: 0.6317 - val_accuracy: 0.7976\n",
            "Epoch 16/20\n",
            "50000/50000 [==============================] - 11s 226us/step - loss: 0.3624 - accuracy: 0.8720 - val_loss: 0.6360 - val_accuracy: 0.7952\n",
            "Epoch 17/20\n",
            "50000/50000 [==============================] - 11s 225us/step - loss: 0.3490 - accuracy: 0.8756 - val_loss: 0.6469 - val_accuracy: 0.7951\n",
            "Epoch 18/20\n",
            "50000/50000 [==============================] - 11s 225us/step - loss: 0.3311 - accuracy: 0.8826 - val_loss: 0.6390 - val_accuracy: 0.8017\n",
            "Epoch 19/20\n",
            "50000/50000 [==============================] - 11s 225us/step - loss: 0.3197 - accuracy: 0.8866 - val_loss: 0.6510 - val_accuracy: 0.8046\n",
            "Epoch 20/20\n",
            "50000/50000 [==============================] - 11s 224us/step - loss: 0.3080 - accuracy: 0.8926 - val_loss: 0.6516 - val_accuracy: 0.7980\n"
          ],
          "name": "stdout"
        },
        {
          "output_type": "execute_result",
          "data": {
            "text/plain": [
              "<keras.callbacks.callbacks.History at 0x7fce4c7355f8>"
            ]
          },
          "metadata": {
            "tags": []
          },
          "execution_count": 11
        }
      ]
    },
    {
      "cell_type": "markdown",
      "metadata": {
        "id": "W4CC2zeig_vJ",
        "colab_type": "text"
      },
      "source": [
        "2. FUNCTIONAL API MODEL\n"
      ]
    },
    {
      "cell_type": "code",
      "metadata": {
        "id": "aJEqj1xxJ929",
        "colab_type": "code",
        "colab": {}
      },
      "source": [
        "\n",
        "from keras.models import Model\n",
        "from keras.layers import Input\n",
        "i=Input(shape=X_train.shape[1:])\n",
        "x=Conv2D(32,(3,3),input_shape=(X_train.shape[1:]),padding=\"same\",activation='relu')(i)\n",
        "x=Dropout(0.2)(x)\n",
        "x=Conv2D(256, (3, 3), activation='relu', padding='same')(x)\n",
        "x=MaxPooling2D(pool_size=(2, 2))(x)\n",
        "x=Dropout(0.5)(x)\n",
        "x=Flatten()(x)\n",
        "x=Dense(512, activation='relu',kernel_constraint=maxnorm(3))(x)\n",
        "x=Dense(10, activation='softmax')(x)\n",
        "#p2 = Model(input=i,output=x)\n"
      ],
      "execution_count": 0,
      "outputs": []
    },
    {
      "cell_type": "code",
      "metadata": {
        "id": "si-SfQGDRzOY",
        "colab_type": "code",
        "colab": {
          "base_uri": "https://localhost:8080/",
          "height": 52
        },
        "outputId": "63193936-7a76-486f-fdfc-7bdf7ddacd95"
      },
      "source": [
        "p2 = Model(input=i,output=x)"
      ],
      "execution_count": 15,
      "outputs": [
        {
          "output_type": "stream",
          "text": [
            "/usr/local/lib/python3.6/dist-packages/ipykernel_launcher.py:1: UserWarning: Update your `Model` call to the Keras 2 API: `Model(inputs=Tensor(\"in..., outputs=Tensor(\"de...)`\n",
            "  \"\"\"Entry point for launching an IPython kernel.\n"
          ],
          "name": "stderr"
        }
      ]
    },
    {
      "cell_type": "code",
      "metadata": {
        "id": "hTM7DgRdM5a2",
        "colab_type": "code",
        "colab": {}
      },
      "source": [
        "p2.compile(optimizer='rmsprop', loss='categorical_crossentropy', metrics=['accuracy'])\n"
      ],
      "execution_count": 0,
      "outputs": []
    },
    {
      "cell_type": "code",
      "metadata": {
        "id": "uxUaUUbvMJna",
        "colab_type": "code",
        "colab": {
          "base_uri": "https://localhost:8080/",
          "height": 230
        },
        "outputId": "1db3e559-e7d2-47da-f394-ca065fa0e2d6"
      },
      "source": [
        "#p.compile(optimizer='rmsprop', loss='categorical_crossentropy', metrics=['accuracy'])\n",
        "p2.fit(X_train, y_train, validation_data=(X_test, y_test), epochs=5, batch_size=128)"
      ],
      "execution_count": 17,
      "outputs": [
        {
          "output_type": "stream",
          "text": [
            "Train on 50000 samples, validate on 10000 samples\n",
            "Epoch 1/5\n",
            "50000/50000 [==============================] - 22s 435us/step - loss: 1.7073 - accuracy: 0.4427 - val_loss: 1.2426 - val_accuracy: 0.5671\n",
            "Epoch 2/5\n",
            "50000/50000 [==============================] - 22s 433us/step - loss: 1.1359 - accuracy: 0.6027 - val_loss: 1.1270 - val_accuracy: 0.6038\n",
            "Epoch 3/5\n",
            "50000/50000 [==============================] - 21s 429us/step - loss: 0.9970 - accuracy: 0.6513 - val_loss: 0.9819 - val_accuracy: 0.6562\n",
            "Epoch 4/5\n",
            "50000/50000 [==============================] - 21s 428us/step - loss: 0.9130 - accuracy: 0.6809 - val_loss: 1.0178 - val_accuracy: 0.6445\n",
            "Epoch 5/5\n",
            "50000/50000 [==============================] - 21s 429us/step - loss: 0.8423 - accuracy: 0.7078 - val_loss: 0.9713 - val_accuracy: 0.6638\n"
          ],
          "name": "stdout"
        },
        {
          "output_type": "execute_result",
          "data": {
            "text/plain": [
              "<keras.callbacks.callbacks.History at 0x7fd7e453fda0>"
            ]
          },
          "metadata": {
            "tags": []
          },
          "execution_count": 17
        }
      ]
    },
    {
      "cell_type": "markdown",
      "metadata": {
        "id": "KGzFNN2qhEuA",
        "colab_type": "text"
      },
      "source": [
        "3. PREDICT FIRST 5 IMAGES IN TEST DATA\n"
      ]
    },
    {
      "cell_type": "code",
      "metadata": {
        "id": "RGIA9-HdV6M-",
        "colab_type": "code",
        "colab": {
          "base_uri": "https://localhost:8080/",
          "height": 1000
        },
        "outputId": "32b01026-4ddc-4048-f5e5-721936cfe7e4"
      },
      "source": [
        "import matplotlib.pyplot as plt\n",
        "for i in range(1,5):\n",
        "  plt.imshow(X_test[i,:,:])\n",
        "  plt.title('Ground Truth : {}'.format(yu[i]))\n",
        "  plt.show()\n",
        "  y=model.predict_classes(X_test[[i],:])\n",
        "  print(\"Predicted as\",y[0])\n",
        "  "
      ],
      "execution_count": 10,
      "outputs": [
        {
          "output_type": "display_data",
          "data": {
            "image/png": "[encoded data removed]",
            "text/plain": [
              "<Figure size 432x288 with 1 Axes>"
            ]
          },
          "metadata": {
            "tags": [],
            "needs_background": "light"
          }
        },
        {
          "output_type": "stream",
          "text": [
            "Predicted as 1\n"
          ],
          "name": "stdout"
        },
        {
          "output_type": "display_data",
          "data": {
            "image/png": "[encoded data removed]",
            "text/plain": [
              "<Figure size 432x288 with 1 Axes>"
            ]
          },
          "metadata": {
            "tags": [],
            "needs_background": "light"
          }
        },
        {
          "output_type": "stream",
          "text": [
            "Predicted as 8\n"
          ],
          "name": "stdout"
        },
        {
          "output_type": "display_data",
          "data": {
            "image/png": "[encoded data removed]",
            "text/plain": [
              "<Figure size 432x288 with 1 Axes>"
            ]
          },
          "metadata": {
            "tags": [],
            "needs_background": "light"
          }
        },
        {
          "output_type": "stream",
          "text": [
            "Predicted as 0\n"
          ],
          "name": "stdout"
        },
        {
          "output_type": "display_data",
          "data": {
            "image/png": "[encoded data removed]",
            "text/plain": [
              "<Figure size 432x288 with 1 Axes>"
            ]
          },
          "metadata": {
            "tags": [],
            "needs_background": "light"
          }
        },
        {
          "output_type": "stream",
          "text": [
            "Predicted as 6\n"
          ],
          "name": "stdout"
        }
      ]
    }
  ]
}