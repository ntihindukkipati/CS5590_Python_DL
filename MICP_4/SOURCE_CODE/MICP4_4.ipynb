{
  "nbformat": 4,
  "nbformat_minor": 0,
  "metadata": {
    "colab": {
      "name": "MICP4_4.ipynb",
      "provenance": []
    },
    "kernelspec": {
      "name": "python3",
      "display_name": "Python 3"
    }
  },
  "cells": [
    {
      "cell_type": "code",
      "metadata": {
        "id": "tS3kXJFlq2Yd",
        "colab_type": "code",
        "colab": {
          "base_uri": "https://localhost:8080/",
          "height": 141
        },
        "outputId": "a2ea3782-e070-4045-d57f-da36fa962cdc"
      },
      "source": [
        "%tensorflow_version 1.15\n",
        "import tensorflow as tf\n",
        "from keras import Sequential\n",
        "from keras.datasets import mnist\n",
        "import numpy as np\n",
        "from keras.layers import Dense\n",
        "from keras.utils import to_categorical\n",
        "from keras.preprocessing.image import ImageDataGenerator, load_img\n",
        "import os\n",
        "import matplotlib.pyplot as plt\n",
        "from keras.layers import Dense, Flatten, Dropout, Input, BatchNormalization\n",
        "from keras.constraints import maxnorm\n",
        "from keras.models import Model\n",
        "from keras.optimizers import SGD, Adam\n",
        "from keras.layers.convolutional import Conv2D, MaxPooling2D\n",
        "from keras.utils import np_utils\n",
        "from keras import backend as K\n",
        "K.common.image_dim_ordering()"
      ],
      "execution_count": 1,
      "outputs": [
        {
          "output_type": "stream",
          "text": [
            "`%tensorflow_version` only switches the major version: 1.x or 2.x.\n",
            "You set: `1.15`. This will be interpreted as: `1.x`.\n",
            "\n",
            "\n",
            "TensorFlow 1.x selected.\n"
          ],
          "name": "stdout"
        },
        {
          "output_type": "stream",
          "text": [
            "Using TensorFlow backend.\n"
          ],
          "name": "stderr"
        },
        {
          "output_type": "execute_result",
          "data": {
            "text/plain": [
              "'tf'"
            ]
          },
          "metadata": {
            "tags": []
          },
          "execution_count": 1
        }
      ]
    },
    {
      "cell_type": "code",
      "metadata": {
        "id": "HoZaVJewtTeI",
        "colab_type": "code",
        "colab": {}
      },
      "source": [
        "from PIL import Image\n",
        "import glob\n",
        "import cv2\n",
        "train_images=[]\n",
        "for filename in glob.glob('/content/drive/My Drive/Colab Notebooks/MY_data/train/paper/*.png'): #assuming gif\n",
        "    #img_normal = load_img(filename)\n",
        "    #print(img_normal)\n",
        "    img_normal = cv2.imread(filename)\n",
        "    #print(im.shape)\n",
        "    #print(type(im.shape))\n",
        "    output = cv2.resize(img_normal, (32,32))\n",
        "    train_images.append([output,0])"
      ],
      "execution_count": 0,
      "outputs": []
    },
    {
      "cell_type": "code",
      "metadata": {
        "id": "I-AW5lv9OH3M",
        "colab_type": "code",
        "colab": {}
      },
      "source": [
        "for filename in glob.glob('/content/drive/My Drive/Colab Notebooks/MY_data/train/rock/*.png'): #assuming gif\n",
        "    #img_normal = load_img(filename)\n",
        "    #print(img_normal)\n",
        "    img_normal = cv2.imread(filename)\n",
        "    #print(im.shape)\n",
        "    #print(type(im.shape))\n",
        "    output = cv2.resize(img_normal, (32,32))\n",
        "    train_images.append([output,1])"
      ],
      "execution_count": 0,
      "outputs": []
    },
    {
      "cell_type": "code",
      "metadata": {
        "id": "Q5I3OK5QOMnq",
        "colab_type": "code",
        "colab": {}
      },
      "source": [
        "for filename in glob.glob('/content/drive/My Drive/Colab Notebooks/MY_data/train/scissors/*.jpg'): #assuming gif\n",
        "    #img_normal = load_img(filename)\n",
        "    #print(img_normal)\n",
        "    img_normal = cv2.imread(filename)\n",
        "    #print(im.shape)\n",
        "    #print(type(im.shape))\n",
        "    output = cv2.resize(img_normal, (32,32))\n",
        "    train_images.append([output,2])"
      ],
      "execution_count": 0,
      "outputs": []
    },
    {
      "cell_type": "code",
      "metadata": {
        "id": "vIl7zuDPOT9m",
        "colab_type": "code",
        "colab": {}
      },
      "source": [
        "import random\n",
        "random.shuffle(train_images)"
      ],
      "execution_count": 0,
      "outputs": []
    },
    {
      "cell_type": "code",
      "metadata": {
        "id": "FkmEZEAqOb_v",
        "colab_type": "code",
        "colab": {}
      },
      "source": [
        "x_train=[]\n",
        "y_train=[]\n",
        "for im,label in train_images:\n",
        "  x_train.append(im)\n",
        "  y_train.append(label)"
      ],
      "execution_count": 0,
      "outputs": []
    },
    {
      "cell_type": "code",
      "metadata": {
        "id": "fpn3rtjsO1Ll",
        "colab_type": "code",
        "colab": {}
      },
      "source": [
        "from PIL import Image\n",
        "import glob\n",
        "import cv2\n",
        "test_images=[]\n",
        "for filename in glob.glob('/content/drive/My Drive/Colab Notebooks/MY_data/test/paper/*.png'): #assuming gif\n",
        "    #img_normal = load_img(filename)\n",
        "    #print(img_normal)\n",
        "    img_normal = cv2.imread(filename)\n",
        "    #print(im.shape)\n",
        "    #print(type(im.shape))\n",
        "    output = cv2.resize(img_normal, (32,32))\n",
        "    test_images.append([output,0])"
      ],
      "execution_count": 0,
      "outputs": []
    },
    {
      "cell_type": "code",
      "metadata": {
        "id": "D9l4bOXXO8aW",
        "colab_type": "code",
        "colab": {}
      },
      "source": [
        "for filename in glob.glob('/content/drive/My Drive/Colab Notebooks/MY_data/test/rock/*.png'): #assuming gif\n",
        "    #img_normal = load_img(filename)\n",
        "    #print(img_normal)\n",
        "    img_normal = cv2.imread(filename)\n",
        "    #print(im.shape)\n",
        "    #print(type(im.shape))\n",
        "    output = cv2.resize(img_normal, (32,32))\n",
        "    test_images.append([output,1])"
      ],
      "execution_count": 0,
      "outputs": []
    },
    {
      "cell_type": "code",
      "metadata": {
        "id": "Z0A7LXVVO9QX",
        "colab_type": "code",
        "colab": {}
      },
      "source": [
        "for filename in glob.glob('/content/drive/My Drive/Colab Notebooks/MY_data/test/scissors/*.jpg'): #assuming gif\n",
        "    #img_normal = load_img(filename)\n",
        "    #print(img_normal)\n",
        "    img_normal = cv2.imread(filename)\n",
        "    #print(im.shape)\n",
        "    #print(type(im.shape))\n",
        "    output = cv2.resize(img_normal, (32,32))\n",
        "    test_images.append([output,2])"
      ],
      "execution_count": 0,
      "outputs": []
    },
    {
      "cell_type": "code",
      "metadata": {
        "id": "07V3LIF8PAmR",
        "colab_type": "code",
        "colab": {}
      },
      "source": [
        "random.shuffle(test_images)\n",
        "x_test=[]\n",
        "y_test=[]\n",
        "for im,label in train_images:\n",
        "  x_test.append(im)\n",
        "  y_test.append(label)"
      ],
      "execution_count": 0,
      "outputs": []
    },
    {
      "cell_type": "code",
      "metadata": {
        "id": "z8Vvhp8SPybf",
        "colab_type": "code",
        "colab": {
          "base_uri": "https://localhost:8080/",
          "height": 281
        },
        "outputId": "5b095ecf-f9b5-4133-973d-cb88abe7c3e6"
      },
      "source": [
        "x_train=np.array(x_train).reshape(-1,32,32,3)\n",
        "import matplotlib.pyplot as plt\n",
        "plt.imshow(x_train[50,:,:])\n",
        "plt.title('Ground Truth : {}'.format(y_train[50]))\n",
        "plt.show()\n",
        "x_test=np.array(x_test).reshape(-1,32,32,3)"
      ],
      "execution_count": 11,
      "outputs": [
        {
          "output_type": "display_data",
          "data": {
            "image/png": "[encoded data removed]",
            "text/plain": [
              "<Figure size 432x288 with 1 Axes>"
            ]
          },
          "metadata": {
            "tags": [],
            "needs_background": "light"
          }
        }
      ]
    },
    {
      "cell_type": "code",
      "metadata": {
        "id": "BiFWV-xZQL1k",
        "colab_type": "code",
        "colab": {}
      },
      "source": [
        "x_train = x_train.astype('float32')\n",
        "x_test = x_test.astype('float32')\n",
        "x_train = x_train / 255.0\n",
        "x_test = x_test / 255.0"
      ],
      "execution_count": 0,
      "outputs": []
    },
    {
      "cell_type": "code",
      "metadata": {
        "id": "Y3dgQhqnQXSb",
        "colab_type": "code",
        "colab": {}
      },
      "source": [
        "y_train = np_utils.to_categorical(y_train)\n",
        "y_test = np_utils.to_categorical(y_test)\n",
        "num_classes = y_test.shape[1]"
      ],
      "execution_count": 0,
      "outputs": []
    },
    {
      "cell_type": "code",
      "metadata": {
        "id": "K5lFAb0-QbQv",
        "colab_type": "code",
        "colab": {
          "base_uri": "https://localhost:8080/",
          "height": 126
        },
        "outputId": "c3dff3aa-950c-4d8f-cb58-ed65f227c3af"
      },
      "source": [
        "model = Sequential()\n",
        "model.add(Conv2D(256, (3, 3), input_shape=(x_train.shape[1:]), padding='same', activation='relu'))\n",
        "model.add(Dropout(0.5))\n",
        "model.add(Conv2D(256, (3, 3), activation='relu', padding='same'))\n",
        "model.add(MaxPooling2D(pool_size=(2, 2)))\n",
        "model.add(Dropout(0.5))\n",
        "model.add(Flatten())\n",
        "model.add(Dense(512, activation='relu', kernel_constraint=maxnorm(3)))\n",
        "model.add(Dropout(0.3))\n",
        "model.add(Dense(num_classes, activation='softmax'))"
      ],
      "execution_count": 14,
      "outputs": [
        {
          "output_type": "stream",
          "text": [
            "WARNING:tensorflow:From /tensorflow-1.15.2/python3.6/tensorflow_core/python/ops/resource_variable_ops.py:1630: calling BaseResourceVariable.__init__ (from tensorflow.python.ops.resource_variable_ops) with constraint is deprecated and will be removed in a future version.\n",
            "Instructions for updating:\n",
            "If using Keras pass *_constraint arguments to layers.\n",
            "WARNING:tensorflow:From /usr/local/lib/python3.6/dist-packages/keras/backend/tensorflow_backend.py:4070: The name tf.nn.max_pool is deprecated. Please use tf.nn.max_pool2d instead.\n",
            "\n"
          ],
          "name": "stdout"
        }
      ]
    },
    {
      "cell_type": "code",
      "metadata": {
        "id": "loba4eWPQgwZ",
        "colab_type": "code",
        "colab": {}
      },
      "source": [
        "epochs = 20\n",
        "lrate = 0.001\n",
        "decay = lrate/epochs\n",
        "sgd = Adam(lr=lrate)\n",
        "model.compile(loss='categorical_crossentropy', optimizer=sgd, metrics=['accuracy'])"
      ],
      "execution_count": 0,
      "outputs": []
    },
    {
      "cell_type": "code",
      "metadata": {
        "id": "tFZrNfPMQh3R",
        "colab_type": "code",
        "colab": {
          "base_uri": "https://localhost:8080/",
          "height": 819
        },
        "outputId": "d86cad24-2585-49d1-dfb1-5b5448fb196b"
      },
      "source": [
        "model.fit(x_train, y_train, validation_data=(x_test, y_test), epochs=epochs, batch_size=128)"
      ],
      "execution_count": 16,
      "outputs": [
        {
          "output_type": "stream",
          "text": [
            "WARNING:tensorflow:From /usr/local/lib/python3.6/dist-packages/keras/backend/tensorflow_backend.py:422: The name tf.global_variables is deprecated. Please use tf.compat.v1.global_variables instead.\n",
            "\n",
            "Train on 1344 samples, validate on 1344 samples\n",
            "Epoch 1/20\n",
            "1344/1344 [==============================] - 140s 104ms/step - loss: 1.6107 - accuracy: 0.4888 - val_loss: 0.6930 - val_accuracy: 0.5119\n",
            "Epoch 2/20\n",
            "1344/1344 [==============================] - 135s 101ms/step - loss: 0.6911 - accuracy: 0.5171 - val_loss: 0.6845 - val_accuracy: 0.5119\n",
            "Epoch 3/20\n",
            "1344/1344 [==============================] - 135s 101ms/step - loss: 0.6694 - accuracy: 0.5982 - val_loss: 0.6074 - val_accuracy: 0.8125\n",
            "Epoch 4/20\n",
            "1344/1344 [==============================] - 134s 100ms/step - loss: 0.5184 - accuracy: 0.7872 - val_loss: 0.4005 - val_accuracy: 0.8438\n",
            "Epoch 5/20\n",
            "1344/1344 [==============================] - 138s 103ms/step - loss: 0.4367 - accuracy: 0.8095 - val_loss: 0.3645 - val_accuracy: 0.8757\n",
            "Epoch 6/20\n",
            "1344/1344 [==============================] - 135s 100ms/step - loss: 0.3820 - accuracy: 0.8430 - val_loss: 0.2916 - val_accuracy: 0.8936\n",
            "Epoch 7/20\n",
            "1344/1344 [==============================] - 134s 100ms/step - loss: 0.3345 - accuracy: 0.8772 - val_loss: 0.2585 - val_accuracy: 0.9055\n",
            "Epoch 8/20\n",
            "1344/1344 [==============================] - 134s 100ms/step - loss: 0.3328 - accuracy: 0.8728 - val_loss: 0.2660 - val_accuracy: 0.9152\n",
            "Epoch 9/20\n",
            "1344/1344 [==============================] - 135s 100ms/step - loss: 0.3139 - accuracy: 0.8631 - val_loss: 0.2755 - val_accuracy: 0.9129\n",
            "Epoch 10/20\n",
            "1344/1344 [==============================] - 139s 104ms/step - loss: 0.3123 - accuracy: 0.8772 - val_loss: 0.2476 - val_accuracy: 0.9263\n",
            "Epoch 11/20\n",
            "1344/1344 [==============================] - 136s 101ms/step - loss: 0.3088 - accuracy: 0.8765 - val_loss: 0.2181 - val_accuracy: 0.9226\n",
            "Epoch 12/20\n",
            "1344/1344 [==============================] - 137s 102ms/step - loss: 0.2973 - accuracy: 0.8869 - val_loss: 0.1893 - val_accuracy: 0.9308\n",
            "Epoch 13/20\n",
            "1344/1344 [==============================] - 138s 103ms/step - loss: 0.2752 - accuracy: 0.8891 - val_loss: 0.2205 - val_accuracy: 0.9397\n",
            "Epoch 14/20\n",
            "1344/1344 [==============================] - 141s 105ms/step - loss: 0.2736 - accuracy: 0.8943 - val_loss: 0.1932 - val_accuracy: 0.9427\n",
            "Epoch 15/20\n",
            "1344/1344 [==============================] - 137s 102ms/step - loss: 0.2476 - accuracy: 0.9040 - val_loss: 0.1714 - val_accuracy: 0.9360\n",
            "Epoch 16/20\n",
            "1344/1344 [==============================] - 136s 102ms/step - loss: 0.2671 - accuracy: 0.8966 - val_loss: 0.1607 - val_accuracy: 0.9509\n",
            "Epoch 17/20\n",
            "1344/1344 [==============================] - 137s 102ms/step - loss: 0.2445 - accuracy: 0.8981 - val_loss: 0.1666 - val_accuracy: 0.9568\n",
            "Epoch 18/20\n",
            "1344/1344 [==============================] - 139s 103ms/step - loss: 0.2359 - accuracy: 0.9025 - val_loss: 0.1831 - val_accuracy: 0.9516\n",
            "Epoch 19/20\n",
            "1344/1344 [==============================] - 135s 100ms/step - loss: 0.2120 - accuracy: 0.9219 - val_loss: 0.1401 - val_accuracy: 0.9516\n",
            "Epoch 20/20\n",
            "1344/1344 [==============================] - 135s 100ms/step - loss: 0.2188 - accuracy: 0.9144 - val_loss: 0.1375 - val_accuracy: 0.9568\n"
          ],
          "name": "stdout"
        },
        {
          "output_type": "execute_result",
          "data": {
            "text/plain": [
              "<keras.callbacks.callbacks.History at 0x7fed2cf9e358>"
            ]
          },
          "metadata": {
            "tags": []
          },
          "execution_count": 16
        }
      ]
    },
    {
      "cell_type": "code",
      "metadata": {
        "id": "MTvL_4jTQnuW",
        "colab_type": "code",
        "colab": {}
      },
      "source": [
        "import pickle\n",
        "with open(\"/content/drive/My Drive/Colab Notebooks/chest_xray/Nithin.pk2\",'wb') as file:\n",
        "      pickle.dump(model,file)"
      ],
      "execution_count": 0,
      "outputs": []
    },
    {
      "cell_type": "markdown",
      "metadata": {
        "id": "q4mHgyQTO5I2",
        "colab_type": "text"
      },
      "source": [
        ""
      ]
    }
  ]
}