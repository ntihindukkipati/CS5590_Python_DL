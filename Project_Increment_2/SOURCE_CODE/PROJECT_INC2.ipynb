{
  "nbformat": 4,
  "nbformat_minor": 0,
  "metadata": {
    "colab": {
      "name": "PROJECT_INC2.ipynb",
      "provenance": [],
      "machine_shape": "hm"
    },
    "kernelspec": {
      "name": "python3",
      "display_name": "Python 3"
    }
  },
  "cells": [
    {
      "cell_type": "code",
      "metadata": {
        "id": "-xOVM7kFq0uL",
        "colab_type": "code",
        "outputId": "06024212-7360-4814-e3b6-704eb5877570",
        "colab": {
          "base_uri": "https://localhost:8080/",
          "height": 119
        }
      },
      "source": [
        "%tensorflow_version 1.15\n",
        "import tensorflow as tf\n",
        "from keras import Sequential\n",
        "import numpy as np\n",
        "from keras.layers import Dense\n",
        "from keras.utils import to_categorical\n",
        "from keras.preprocessing.image import ImageDataGenerator, load_img\n",
        "import os\n",
        "import matplotlib.pyplot as plt\n",
        "from keras.layers import Dense, Flatten, Dropout, Input, BatchNormalization\n",
        "from keras.constraints import maxnorm\n",
        "from keras.models import Model\n",
        "from keras.optimizers import SGD, Adam\n",
        "from keras.layers.convolutional import Conv2D, MaxPooling2D\n",
        "from keras.utils import np_utils\n",
        "from keras import backend as K\n",
        "K.common.image_dim_ordering()\n",
        "from tensorflow.keras.callbacks import EarlyStopping"
      ],
      "execution_count": 0,
      "outputs": [
        {
          "output_type": "stream",
          "text": [
            "`%tensorflow_version` only switches the major version: 1.x or 2.x.\n",
            "You set: `1.15`. This will be interpreted as: `1.x`.\n",
            "\n",
            "\n",
            "TensorFlow 1.x selected.\n"
          ],
          "name": "stdout"
        },
        {
          "output_type": "stream",
          "text": [
            "Using TensorFlow backend.\n"
          ],
          "name": "stderr"
        }
      ]
    },
    {
      "cell_type": "code",
      "metadata": {
        "id": "VWbKDaXmts2p",
        "colab_type": "code",
        "colab": {}
      },
      "source": [
        "from PIL import Image\n",
        "import glob\n",
        "import cv2\n",
        "train_images=[]\n",
        "for filename in glob.glob('/content/drive/My Drive/Colab Notebooks/chest_xray/train/NORMAL/*.jpeg'):\n",
        "    img_normal = cv2.imread(filename)\n",
        "    output = cv2.resize(img_normal, (50,50))\n",
        "    train_images.append([output,0])"
      ],
      "execution_count": 0,
      "outputs": []
    },
    {
      "cell_type": "code",
      "metadata": {
        "id": "VTn_E2L-jZ0B",
        "colab_type": "code",
        "colab": {}
      },
      "source": [
        "for filename in glob.glob('/content/drive/My Drive/Colab Notebooks/chest_xray/train/PNEUMONIA/*.jpeg'): \n",
        "    img_normal = cv2.imread(filename)\n",
        "    output = cv2.resize(img_normal,(50,50))\n",
        "    train_images.append([output,1])"
      ],
      "execution_count": 0,
      "outputs": []
    },
    {
      "cell_type": "code",
      "metadata": {
        "id": "UNVAufGmzy5r",
        "colab_type": "code",
        "colab": {}
      },
      "source": [
        "import random\n",
        "random.shuffle(train_images)"
      ],
      "execution_count": 0,
      "outputs": []
    },
    {
      "cell_type": "code",
      "metadata": {
        "id": "MaUkE_hukVn3",
        "colab_type": "code",
        "colab": {}
      },
      "source": [
        "x_train=[]\n",
        "y_train=[]\n",
        "for im,label in train_images:\n",
        "  x_train.append(im)\n",
        "  y_train.append(label)"
      ],
      "execution_count": 0,
      "outputs": []
    },
    {
      "cell_type": "markdown",
      "metadata": {
        "id": "cmA4D-yeN5vt",
        "colab_type": "text"
      },
      "source": [
        "[[][][][],[][][][]\n",
        "[[][][][]],[[][][][]]"
      ]
    },
    {
      "cell_type": "code",
      "metadata": {
        "id": "abXZO9tTkssi",
        "colab_type": "code",
        "colab": {}
      },
      "source": [
        "x_train=np.array(x_train).reshape(-1,50,50,3)"
      ],
      "execution_count": 0,
      "outputs": []
    },
    {
      "cell_type": "code",
      "metadata": {
        "id": "-_PR8_b6kvWn",
        "colab_type": "code",
        "outputId": "b8f6c825-d82e-4de3-9c31-803884ee168f",
        "colab": {
          "base_uri": "https://localhost:8080/",
          "height": 281
        }
      },
      "source": [
        "import matplotlib.pyplot as plt\n",
        "plt.imshow(x_train[50,:,:])\n",
        "plt.title('Ground Truth : {}'.format(y_train[50]))\n",
        "plt.show()"
      ],
      "execution_count": 0,
      "outputs": [
        {
          "output_type": "display_data",
          "data": {
            "image/png": "[encoded data removed]",
            "text/plain": [
              "<Figure size 432x288 with 1 Axes>"
            ]
          },
          "metadata": {
            "tags": [],
            "needs_background": "light"
          }
        }
      ]
    },
    {
      "cell_type": "code",
      "metadata": {
        "id": "YPJYrI3Vk2pG",
        "colab_type": "code",
        "colab": {}
      },
      "source": [
        "test_images=[]\n",
        "for filename in glob.glob('/content/drive/My Drive/Colab Notebooks/chest_xray/test/NORMAL/*.jpeg'): \n",
        "    img_normal = cv2.imread(filename)\n",
        "    output = cv2.resize(img_normal, (50,50))\n",
        "    test_images.append([output,0])"
      ],
      "execution_count": 0,
      "outputs": []
    },
    {
      "cell_type": "code",
      "metadata": {
        "id": "7OS5zriJk7I-",
        "colab_type": "code",
        "colab": {}
      },
      "source": [
        "for filename in glob.glob('/content/drive/My Drive/Colab Notebooks/chest_xray/test/PNEUMONIA/*.jpeg'): \n",
        "    img_normal = cv2.imread(filename)\n",
        "    #print(im.shape)\n",
        "    #print(type(im.shape))\n",
        "    output = cv2.resize(img_normal, (50,50))\n",
        "    test_images.append([output,1])"
      ],
      "execution_count": 0,
      "outputs": []
    },
    {
      "cell_type": "code",
      "metadata": {
        "id": "r3f1KTPclMFg",
        "colab_type": "code",
        "colab": {}
      },
      "source": [
        "random.shuffle(test_images)"
      ],
      "execution_count": 0,
      "outputs": []
    },
    {
      "cell_type": "code",
      "metadata": {
        "id": "6tLmkepKlPYR",
        "colab_type": "code",
        "colab": {}
      },
      "source": [
        "x_test=[]\n",
        "y_test=[]\n",
        "for im,label in test_images:\n",
        "  x_test.append(im)\n",
        "  y_test.append(label)"
      ],
      "execution_count": 0,
      "outputs": []
    },
    {
      "cell_type": "code",
      "metadata": {
        "id": "Vt6nibPtlTCJ",
        "colab_type": "code",
        "colab": {}
      },
      "source": [
        "x_test=np.array(x_test).reshape(-1,50,50,3)"
      ],
      "execution_count": 0,
      "outputs": []
    },
    {
      "cell_type": "code",
      "metadata": {
        "id": "DZ5frBc8lXZG",
        "colab_type": "code",
        "colab": {}
      },
      "source": [
        "x_train = x_train.astype('float32')\n",
        "x_test = x_test.astype('float32')\n",
        "x_train = x_train / 255.0\n",
        "x_test = x_test / 255.0"
      ],
      "execution_count": 0,
      "outputs": []
    },
    {
      "cell_type": "markdown",
      "metadata": {
        "id": "VvO9Q71MOfv7",
        "colab_type": "text"
      },
      "source": [
        "01\n",
        "\n",
        "[1,0] [0,1]\n",
        "51231,50,50,3\n",
        "\n",
        "pnemonia \n",
        "\n",
        "\n",
        "\n",
        "\n"
      ]
    },
    {
      "cell_type": "code",
      "metadata": {
        "id": "R7ZbCU8Ila0m",
        "colab_type": "code",
        "colab": {}
      },
      "source": [
        "y_train = np_utils.to_categorical(y_train)\n",
        "y_test = np_utils.to_categorical(y_test)\n",
        "num_classes = y_test.shape[1]"
      ],
      "execution_count": 0,
      "outputs": []
    },
    {
      "cell_type": "code",
      "metadata": {
        "id": "nJBN-vMVlfaV",
        "colab_type": "code",
        "outputId": "2e67af4d-95e2-486a-9b69-c46203d60bf2",
        "colab": {
          "base_uri": "https://localhost:8080/",
          "height": 122
        }
      },
      "source": [
        "model = Sequential()\n",
        "model.add(Conv2D(256, (3, 3), input_shape=(x_train.shape[1:]), padding='same', activation='relu'))\n",
        "model.add(Dropout(0.5))\n",
        "model.add(Conv2D(256, (3, 3), activation='relu', padding='same'))\n",
        "model.add(MaxPooling2D(pool_size=(2, 2)))\n",
        "model.add(Dropout(0.5))\n",
        "model.add(Flatten())\n",
        "model.add(Dense(512, activation='relu', kernel_constraint=maxnorm(3)))\n",
        "model.add(Dropout(0.3))\n",
        "model.add(Dense(num_classes, activation='softmax'))"
      ],
      "execution_count": 0,
      "outputs": [
        {
          "output_type": "stream",
          "text": [
            "WARNING:tensorflow:From /tensorflow-1.15.2/python3.6/tensorflow_core/python/ops/resource_variable_ops.py:1630: calling BaseResourceVariable.__init__ (from tensorflow.python.ops.resource_variable_ops) with constraint is deprecated and will be removed in a future version.\n",
            "Instructions for updating:\n",
            "If using Keras pass *_constraint arguments to layers.\n",
            "WARNING:tensorflow:From /usr/local/lib/python3.6/dist-packages/keras/backend/tensorflow_backend.py:4070: The name tf.nn.max_pool is deprecated. Please use tf.nn.max_pool2d instead.\n",
            "\n"
          ],
          "name": "stdout"
        }
      ]
    },
    {
      "cell_type": "code",
      "metadata": {
        "id": "2bluz9yKlhxk",
        "colab_type": "code",
        "colab": {}
      },
      "source": [
        "epochs = 150\n",
        "lrate = 0.001\n",
        "decay = lrate/epochs\n",
        "sgd = Adam(lr=lrate)\n",
        "model.compile(loss='categorical_crossentropy', optimizer=sgd, metrics=['accuracy'])"
      ],
      "execution_count": 0,
      "outputs": []
    },
    {
      "cell_type": "code",
      "metadata": {
        "id": "ed4MBUoDnPMK",
        "colab_type": "code",
        "colab": {}
      },
      "source": [
        "monitor=EarlyStopping(monitor='val_loss', min_delta=1e-3, patience=5, verbose=1, mode='auto',restore_best_weights=True)"
      ],
      "execution_count": 0,
      "outputs": []
    },
    {
      "cell_type": "code",
      "metadata": {
        "id": "-x7ZCMeIllJg",
        "colab_type": "code",
        "outputId": "02b76c0e-3350-4bfe-f619-25414adad303",
        "colab": {
          "base_uri": "https://localhost:8080/",
          "height": 1000
        }
      },
      "source": [
        "\n",
        "model.fit(x_train, y_train, validation_data=(x_test, y_test), callbacks=[monitor],epochs=150, batch_size=512)"
      ],
      "execution_count": 0,
      "outputs": [
        {
          "output_type": "stream",
          "text": [
            "WARNING:tensorflow:From /usr/local/lib/python3.6/dist-packages/keras/backend/tensorflow_backend.py:422: The name tf.global_variables is deprecated. Please use tf.compat.v1.global_variables instead.\n",
            "\n",
            "Train on 5216 samples, validate on 624 samples\n",
            "Epoch 1/150\n",
            "5216/5216 [==============================] - 499s 96ms/step - loss: 5.2437 - accuracy: 0.7297 - val_loss: 0.6923 - val_accuracy: 0.6250\n",
            "Epoch 2/150\n",
            "5216/5216 [==============================] - 489s 94ms/step - loss: 0.6897 - accuracy: 0.7429 - val_loss: 0.6900 - val_accuracy: 0.6250\n",
            "Epoch 3/150\n",
            "5216/5216 [==============================] - 490s 94ms/step - loss: 0.6849 - accuracy: 0.7429 - val_loss: 0.6876 - val_accuracy: 0.6250\n",
            "Epoch 4/150\n",
            "5216/5216 [==============================] - 487s 93ms/step - loss: 0.6800 - accuracy: 0.7429 - val_loss: 0.6852 - val_accuracy: 0.6250\n",
            "Epoch 5/150\n",
            "5216/5216 [==============================] - 486s 93ms/step - loss: 0.6751 - accuracy: 0.7429 - val_loss: 0.6829 - val_accuracy: 0.6250\n",
            "Epoch 6/150\n",
            "5216/5216 [==============================] - 487s 93ms/step - loss: 0.6704 - accuracy: 0.7429 - val_loss: 0.6808 - val_accuracy: 0.6250\n",
            "Epoch 7/150\n",
            "5216/5216 [==============================] - 488s 94ms/step - loss: 0.6658 - accuracy: 0.7429 - val_loss: 0.6789 - val_accuracy: 0.6250\n",
            "Epoch 8/150\n",
            "5216/5216 [==============================] - 488s 94ms/step - loss: 0.6615 - accuracy: 0.7429 - val_loss: 0.6770 - val_accuracy: 0.6250\n",
            "Epoch 9/150\n",
            "5216/5216 [==============================] - 485s 93ms/step - loss: 0.6573 - accuracy: 0.7429 - val_loss: 0.6753 - val_accuracy: 0.6250\n",
            "Epoch 10/150\n",
            "5216/5216 [==============================] - 486s 93ms/step - loss: 0.6533 - accuracy: 0.7429 - val_loss: 0.6737 - val_accuracy: 0.6250\n",
            "Epoch 11/150\n",
            "5216/5216 [==============================] - 487s 93ms/step - loss: 0.6494 - accuracy: 0.7429 - val_loss: 0.6722 - val_accuracy: 0.6250\n",
            "Epoch 12/150\n",
            "5216/5216 [==============================] - 487s 93ms/step - loss: 0.6457 - accuracy: 0.7429 - val_loss: 0.6709 - val_accuracy: 0.6250\n",
            "Epoch 13/150\n",
            "5216/5216 [==============================] - 487s 93ms/step - loss: 0.6422 - accuracy: 0.7429 - val_loss: 0.6697 - val_accuracy: 0.6250\n",
            "Epoch 14/150\n",
            "5216/5216 [==============================] - 489s 94ms/step - loss: 0.6388 - accuracy: 0.7429 - val_loss: 0.6686 - val_accuracy: 0.6250\n",
            "Epoch 15/150\n",
            "5216/5216 [==============================] - 485s 93ms/step - loss: 0.6355 - accuracy: 0.7429 - val_loss: 0.6675 - val_accuracy: 0.6250\n",
            "Epoch 16/150\n",
            "5216/5216 [==============================] - 487s 93ms/step - loss: 0.6324 - accuracy: 0.7429 - val_loss: 0.6666 - val_accuracy: 0.6250\n",
            "Epoch 17/150\n",
            "5216/5216 [==============================] - 487s 93ms/step - loss: 0.6293 - accuracy: 0.7429 - val_loss: 0.6657 - val_accuracy: 0.6250\n",
            "Epoch 18/150\n",
            "5216/5216 [==============================] - 488s 94ms/step - loss: 0.6264 - accuracy: 0.7429 - val_loss: 0.6650 - val_accuracy: 0.6250\n",
            "Epoch 19/150\n",
            "5216/5216 [==============================] - 484s 93ms/step - loss: 0.6236 - accuracy: 0.7429 - val_loss: 0.6643 - val_accuracy: 0.6250\n",
            "Epoch 20/150\n",
            "5216/5216 [==============================] - 487s 93ms/step - loss: 0.6209 - accuracy: 0.7429 - val_loss: 0.6637 - val_accuracy: 0.6250\n",
            "Epoch 21/150\n",
            "5216/5216 [==============================] - 487s 93ms/step - loss: 0.6183 - accuracy: 0.7429 - val_loss: 0.6632 - val_accuracy: 0.6250\n",
            "Epoch 22/150\n",
            "5216/5216 [==============================] - 487s 93ms/step - loss: 0.6159 - accuracy: 0.7429 - val_loss: 0.6628 - val_accuracy: 0.6250\n",
            "Epoch 23/150\n",
            "5216/5216 [==============================] - 485s 93ms/step - loss: 0.6135 - accuracy: 0.7429 - val_loss: 0.6624 - val_accuracy: 0.6250\n",
            "Epoch 24/150\n",
            "5216/5216 [==============================] - 486s 93ms/step - loss: 0.6113 - accuracy: 0.7429 - val_loss: 0.6621 - val_accuracy: 0.6250\n",
            "Epoch 25/150\n",
            "5216/5216 [==============================] - 488s 94ms/step - loss: 0.6092 - accuracy: 0.7429 - val_loss: 0.6619 - val_accuracy: 0.6250\n",
            "Epoch 26/150\n",
            "5216/5216 [==============================] - 486s 93ms/step - loss: 0.6071 - accuracy: 0.7429 - val_loss: 0.6617 - val_accuracy: 0.6250\n",
            "Epoch 27/150\n",
            "5216/5216 [==============================] - 486s 93ms/step - loss: 0.6052 - accuracy: 0.7429 - val_loss: 0.6616 - val_accuracy: 0.6250\n",
            "Epoch 28/150\n",
            "5216/5216 [==============================] - 485s 93ms/step - loss: 0.6033 - accuracy: 0.7429 - val_loss: 0.6616 - val_accuracy: 0.6250\n",
            "Epoch 29/150\n",
            "5216/5216 [==============================] - 484s 93ms/step - loss: 0.6014 - accuracy: 0.7429 - val_loss: 0.6616 - val_accuracy: 0.6250\n",
            "Restoring model weights from the end of the best epoch.\n",
            "Epoch 00029: early stopping\n"
          ],
          "name": "stdout"
        },
        {
          "output_type": "execute_result",
          "data": {
            "text/plain": [
              "<keras.callbacks.callbacks.History at 0x7f4bb4148668>"
            ]
          },
          "metadata": {
            "tags": []
          },
          "execution_count": 18
        }
      ]
    },
    {
      "cell_type": "code",
      "metadata": {
        "id": "RV5i47FOlrVG",
        "colab_type": "code",
        "colab": {}
      },
      "source": [
        "import pickle\n",
        "with open(\"/content/drive/My Drive/Colab Notebooks/chest_xray/MODEL_V2_PN.pk2\",'wb') as file:\n",
        "      pickle.dump(model,file)"
      ],
      "execution_count": 0,
      "outputs": []
    },
    {
      "cell_type": "code",
      "metadata": {
        "id": "-GviDi-2lwen",
        "colab_type": "code",
        "outputId": "84b40242-9e82-427d-f145-c89df2438f8b",
        "colab": {
          "base_uri": "https://localhost:8080/",
          "height": 34
        }
      },
      "source": [
        "x=model.predict_classes(x_train[[50],:])\n",
        "print(x[0])"
      ],
      "execution_count": 0,
      "outputs": [
        {
          "output_type": "stream",
          "text": [
            "1\n"
          ],
          "name": "stdout"
        }
      ]
    }
  ]
}