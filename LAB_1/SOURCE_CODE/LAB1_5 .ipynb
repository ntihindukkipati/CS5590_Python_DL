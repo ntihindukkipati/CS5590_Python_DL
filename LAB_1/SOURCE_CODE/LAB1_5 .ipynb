{
  "nbformat": 4,
  "nbformat_minor": 0,
  "metadata": {
    "colab": {
      "name": "LAB1_5.ipynb",
      "provenance": [],
      "collapsed_sections": []
    },
    "kernelspec": {
      "name": "python3",
      "display_name": "Python 3"
    }
  },
  "cells": [
    {
      "cell_type": "code",
      "metadata": {
        "id": "UTdwfyaaBrgj",
        "colab_type": "code",
        "outputId": "102feb18-e219-42f1-c025-97d70b0fb8e8",
        "colab": {
          "base_uri": "https://localhost:8080/",
          "height": 710
        }
      },
      "source": [
        "import pandas as pd\n",
        "from sklearn.model_selection import train_test_split\n",
        "from sklearn.metrics import classification_report\n",
        "from sklearn.preprocessing import LabelEncoder\n",
        "\n",
        "\n",
        "train_df = pd.read_csv('/content/drive/My Drive/Colab Notebooks/glass_type.csv')\n",
        "Label_Encoder = LabelEncoder()\n",
        "print(\"Before transforming the data using labelencoder\",train_df)\n",
        "train_df[\"Type\"] = Label_Encoder.fit_transform(train_df[\"Type\"])\n",
        "train_df=train_df.apply(lambda x: x.fillna(x.mean()),axis=0)\n",
        "print(\"After transforming the data using labelencoder\",train_df)\n",
        "\n",
        "print(train_df.isnull().sum())\n",
        "X_train = train_df.drop(\"Type\",axis=1)\n",
        "Y_train = train_df[\"Type\"]\n",
        "\n",
        "\n",
        "X_train, X_test, Y_train, y_test= train_test_split(X_train, Y_train, test_size=0.4, random_state=0)\n"
      ],
      "execution_count": 5,
      "outputs": [
        {
          "output_type": "stream",
          "text": [
            "Before transforming the data using labelencoder           RI     Na    Mg    Al     Si     K    Ca    Ba   Fe             Type\n",
            "0    1.52101  13.64  4.49  1.10  71.78  0.06  8.75  0.00  0.0  Patterned glass\n",
            "1    1.51761  13.89  3.60  1.36  72.73  0.48  7.83  0.00  0.0  Patterned glass\n",
            "2    1.51618  13.53  3.55  1.54  72.99  0.39  7.78  0.00  0.0  Patterned glass\n",
            "3    1.51766  13.21  3.69  1.29  72.61  0.57  8.22  0.00  0.0  Patterned glass\n",
            "4    1.51742  13.27  3.62  1.24  73.08  0.55  8.07  0.00  0.0  Patterned glass\n",
            "..       ...    ...   ...   ...    ...   ...   ...   ...  ...              ...\n",
            "209  1.51623  14.14  0.00  2.88  72.61  0.08  9.18  1.06  0.0   silicate glass\n",
            "210  1.51685  14.92  0.00  1.99  73.06  0.00  8.40  1.59  0.0   silicate glass\n",
            "211  1.52065  14.36  0.00  2.02  73.42  0.00  8.44  1.64  0.0   silicate glass\n",
            "212  1.51651  14.38  0.00  1.94  73.61  0.00  8.48  1.57  0.0   silicate glass\n",
            "213  1.51711  14.23  0.00  2.08  73.36  0.00  8.62  1.67  0.0   silicate glass\n",
            "\n",
            "[214 rows x 10 columns]\n",
            "After transforming the data using labelencoder           RI     Na    Mg    Al     Si     K    Ca    Ba   Fe  Type\n",
            "0    1.52101  13.64  4.49  1.10  71.78  0.06  8.75  0.00  0.0     2\n",
            "1    1.51761  13.89  3.60  1.36  72.73  0.48  7.83  0.00  0.0     2\n",
            "2    1.51618  13.53  3.55  1.54  72.99  0.39  7.78  0.00  0.0     2\n",
            "3    1.51766  13.21  3.69  1.29  72.61  0.57  8.22  0.00  0.0     2\n",
            "4    1.51742  13.27  3.62  1.24  73.08  0.55  8.07  0.00  0.0     2\n",
            "..       ...    ...   ...   ...    ...   ...   ...   ...  ...   ...\n",
            "209  1.51623  14.14  0.00  2.88  72.61  0.08  9.18  1.06  0.0     5\n",
            "210  1.51685  14.92  0.00  1.99  73.06  0.00  8.40  1.59  0.0     5\n",
            "211  1.52065  14.36  0.00  2.02  73.42  0.00  8.44  1.64  0.0     5\n",
            "212  1.51651  14.38  0.00  1.94  73.61  0.00  8.48  1.57  0.0     5\n",
            "213  1.51711  14.23  0.00  2.08  73.36  0.00  8.62  1.67  0.0     5\n",
            "\n",
            "[214 rows x 10 columns]\n",
            "RI      0\n",
            "Na      0\n",
            "Mg      0\n",
            "Al      0\n",
            "Si      0\n",
            "K       0\n",
            "Ca      0\n",
            "Ba      0\n",
            "Fe      0\n",
            "Type    0\n",
            "dtype: int64\n"
          ],
          "name": "stdout"
        }
      ]
    },
    {
      "cell_type": "code",
      "metadata": {
        "id": "_YROs-3os3WI",
        "colab_type": "code",
        "outputId": "3eb5a666-245c-4ffa-887d-8e4f808e75ce",
        "colab": {
          "base_uri": "https://localhost:8080/",
          "height": 126
        }
      },
      "source": [
        "from google.colab import drive\n",
        "drive.mount('/content/drive')"
      ],
      "execution_count": 2,
      "outputs": [
        {
          "output_type": "stream",
          "text": [
            "Go to this URL in a browser: https://accounts.google.com/o/oauth2/auth?client_id=947318989803-6bn6qk8qdgf4n4g3pfee6491hc0brc4i.apps.googleusercontent.com&redirect_uri=urn%3aietf%3awg%3aoauth%3a2.0%3aoob&response_type=code&scope=email%20https%3a%2f%2fwww.googleapis.com%2fauth%2fdocs.test%20https%3a%2f%2fwww.googleapis.com%2fauth%2fdrive%20https%3a%2f%2fwww.googleapis.com%2fauth%2fdrive.photos.readonly%20https%3a%2f%2fwww.googleapis.com%2fauth%2fpeopleapi.readonly\n",
            "\n",
            "Enter your authorization code:\n",
            "··········\n",
            "Mounted at /content/drive\n"
          ],
          "name": "stdout"
        }
      ]
    },
    {
      "cell_type": "code",
      "metadata": {
        "id": "22vwn3HqoEyu",
        "colab_type": "code",
        "outputId": "609fbaf9-822b-4973-fd2d-2946ed53c7ed",
        "colab": {
          "base_uri": "https://localhost:8080/",
          "height": 106
        }
      },
      "source": [
        "#GNB  (Gaussian Navie Bayes Classifier)\n",
        "from sklearn.naive_bayes import GaussianNB \n",
        "\n",
        "GNB = GaussianNB()\n",
        "\n",
        "y_pred = GNB.fit(X_train, Y_train).predict(X_test)\n",
        "GNB.fit(X_train, Y_train)\n",
        "Y_pred = GNB.predict(X_train)\n",
        "print(Y_pred)\n",
        "Y_pred=Y_pred.reshape(-1,1)\n",
        "ACC_GNB = round(GNB.score(X_test,y_test) * 100, 2)\n",
        "print(\"GNB accuracy is:\",ACC_GNB)"
      ],
      "execution_count": 0,
      "outputs": [
        {
          "output_type": "stream",
          "text": [
            "[1 1 1 1 5 1 1 1 5 1 1 2 1 1 3 5 2 1 1 1 5 5 5 1 3 1 1 1 0 5 2 1 2 1 1 1 1\n",
            " 1 1 2 1 2 1 5 1 1 3 0 0 5 1 2 5 1 5 3 4 4 3 1 4 1 1 3 1 1 1 1 1 0 1 0 1 5\n",
            " 1 2 1 3 5 0 1 1 1 0 4 1 4 3 5 3 0 3 4 1 1 4 3 1 0 1 1 1 5 1 1 1 3 1 0 0 5\n",
            " 2 5 1 1 1 1 1 3 1 1 0 5 2 5 1 2 0]\n",
            "GNB accuracy is: 31.4\n"
          ],
          "name": "stdout"
        }
      ]
    },
    {
      "cell_type": "code",
      "metadata": {
        "id": "CxIbDsRqwKvy",
        "colab_type": "code",
        "outputId": "4191ecca-5de8-4323-bde6-f8c9a6f27eba",
        "colab": {
          "base_uri": "https://localhost:8080/",
          "height": 35
        }
      },
      "source": [
        "#KNN (K-NeighborsClassifier)\n",
        "from sklearn.neighbors import KNeighborsClassifier\n",
        "KNN = KNeighborsClassifier(n_neighbors = 3)\n",
        "KNN.fit(X_train, Y_train)\n",
        "Y_pred = KNN.predict(X_test)\n",
        "ACC_KNN = round(KNN.score(X_test, y_test) * 100, 2)\n",
        "print(\"KNN accuracy is:\",ACC_KNN)"
      ],
      "execution_count": 0,
      "outputs": [
        {
          "output_type": "stream",
          "text": [
            "KNN accuracy is: 66.28\n"
          ],
          "name": "stdout"
        }
      ]
    },
    {
      "cell_type": "code",
      "metadata": {
        "id": "MaBaKcBDxQ23",
        "colab_type": "code",
        "outputId": "a45a816b-bfac-48a5-91aa-9c5bb4c6be1b",
        "colab": {
          "base_uri": "https://localhost:8080/",
          "height": 35
        }
      },
      "source": [
        "#SVM\n",
        "from sklearn.svm import SVC, LinearSVC\n",
        "svc = SVC()\n",
        "svc.fit(X_train, Y_train)\n",
        "Y_pred = svc.predict(X_test)\n",
        "acc_svc = round(svc.score(X_test, y_test) * 100, 2)\n",
        "print(\"svm accuracy is:\", acc_svc)"
      ],
      "execution_count": 0,
      "outputs": [
        {
          "output_type": "stream",
          "text": [
            "svm accuracy is: 38.37\n"
          ],
          "name": "stdout"
        }
      ]
    }
  ]
}