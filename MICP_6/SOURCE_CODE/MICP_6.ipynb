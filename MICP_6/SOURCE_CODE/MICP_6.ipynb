{
  "nbformat": 4,
  "nbformat_minor": 0,
  "metadata": {
    "colab": {
      "name": "autoencoder.ipynb",
      "provenance": []
    },
    "kernelspec": {
      "name": "python3",
      "display_name": "Python 3"
    }
  },
  "cells": [
    {
      "cell_type": "code",
      "metadata": {
        "id": "JKJaBjb9-TW7",
        "colab_type": "code",
        "colab": {
          "base_uri": "https://localhost:8080/",
          "height": 33
        },
        "outputId": "702aa98b-985b-40bc-8b6b-78b63fe5c5f1"
      },
      "source": [
        "from keras.layers import Input, Dense\n",
        "from keras.models import Model\n"
      ],
      "execution_count": 1,
      "outputs": [
        {
          "output_type": "stream",
          "text": [
            "Using TensorFlow backend.\n"
          ],
          "name": "stderr"
        }
      ]
    },
    {
      "cell_type": "code",
      "metadata": {
        "id": "S2N8zNvr-cvi",
        "colab_type": "code",
        "colab": {}
      },
      "source": [
        "# this is the size of our encoded representations\n",
        "encoding_dim = 32  # 32 floats -> compression of factor 24.5, assuming the input is 784 floats"
      ],
      "execution_count": 0,
      "outputs": []
    },
    {
      "cell_type": "code",
      "metadata": {
        "id": "GFAweGCA-fu8",
        "colab_type": "code",
        "colab": {}
      },
      "source": [
        "# this is our input placeholder\n",
        "input_img = Input(shape=(784,))\n",
        "# \"encoded\" is the encoded representation of the input\n",
        "encoded = Dense(encoding_dim, activation='relu')(input_img)\n",
        "# \"decoded\" is the lossy reconstruction of the input\n",
        "decoded = Dense(784, activation='sigmoid')(encoded)\n",
        "# this model maps an input to its reconstruction\n",
        "autoencoder = Model(input_img, decoded)\n",
        "# this model maps an input to its encoded representation\n",
        "autoencoder.compile(optimizer='adadelta', loss='binary_crossentropy')"
      ],
      "execution_count": 0,
      "outputs": []
    },
    {
      "cell_type": "code",
      "metadata": {
        "id": "VSjUgwTB-kBH",
        "colab_type": "code",
        "colab": {
          "base_uri": "https://localhost:8080/",
          "height": 151
        },
        "outputId": "568fa06b-be4a-4738-e9a9-37c32b50f3c9"
      },
      "source": [
        "from keras.datasets import mnist, fashion_mnist\n",
        "import numpy as np\n",
        "(x_train, y_train), (x_test, y_test) = fashion_mnist.load_data()\n",
        "x_train = x_train.astype('float32') / 255.\n",
        "x_test = x_test.astype('float32') / 255.\n",
        "x_train = x_train.reshape((len(x_train), np.prod(x_train.shape[1:])))\n",
        "x_test = x_test.reshape((len(x_test), np.prod(x_test.shape[1:])))"
      ],
      "execution_count": 5,
      "outputs": [
        {
          "output_type": "stream",
          "text": [
            "Downloading data from http://fashion-mnist.s3-website.eu-central-1.amazonaws.com/train-labels-idx1-ubyte.gz\n",
            "32768/29515 [=================================] - 0s 3us/step\n",
            "Downloading data from http://fashion-mnist.s3-website.eu-central-1.amazonaws.com/train-images-idx3-ubyte.gz\n",
            "26427392/26421880 [==============================] - 2s 0us/step\n",
            "Downloading data from http://fashion-mnist.s3-website.eu-central-1.amazonaws.com/t10k-labels-idx1-ubyte.gz\n",
            "8192/5148 [===============================================] - 0s 0us/step\n",
            "Downloading data from http://fashion-mnist.s3-website.eu-central-1.amazonaws.com/t10k-images-idx3-ubyte.gz\n",
            "4423680/4422102 [==============================] - 1s 0us/step\n"
          ],
          "name": "stdout"
        }
      ]
    },
    {
      "cell_type": "code",
      "metadata": {
        "id": "m3IXCoHM-qz-",
        "colab_type": "code",
        "colab": {
          "base_uri": "https://localhost:8080/",
          "height": 218
        },
        "outputId": "57282c9c-b125-4708-a716-1b349ea54a44"
      },
      "source": [
        "autoencoder.fit(x_train, x_train,\n",
        "                epochs=5,\n",
        "                batch_size=256,\n",
        "                shuffle=True,\n",
        "                validation_data=(x_test, x_test))"
      ],
      "execution_count": 6,
      "outputs": [
        {
          "output_type": "stream",
          "text": [
            "Train on 60000 samples, validate on 10000 samples\n",
            "Epoch 1/5\n",
            "60000/60000 [==============================] - 3s 45us/step - loss: 0.5344 - val_loss: 0.4594\n",
            "Epoch 2/5\n",
            "60000/60000 [==============================] - 2s 40us/step - loss: 0.4249 - val_loss: 0.4049\n",
            "Epoch 3/5\n",
            "60000/60000 [==============================] - 2s 40us/step - loss: 0.3935 - val_loss: 0.3853\n",
            "Epoch 4/5\n",
            "60000/60000 [==============================] - 2s 39us/step - loss: 0.3756 - val_loss: 0.3696\n",
            "Epoch 5/5\n",
            "60000/60000 [==============================] - 2s 40us/step - loss: 0.3615 - val_loss: 0.3573\n"
          ],
          "name": "stdout"
        },
        {
          "output_type": "execute_result",
          "data": {
            "text/plain": [
              "<keras.callbacks.callbacks.History at 0x7f9375653e48>"
            ]
          },
          "metadata": {
            "tags": []
          },
          "execution_count": 6
        }
      ]
    },
    {
      "cell_type": "markdown",
      "metadata": {
        "id": "gw8HoP18EUFg",
        "colab_type": "text"
      },
      "source": [
        "**2.visualize the inputand reconstructed representationof the autoencoder using Matplotlib**"
      ]
    },
    {
      "cell_type": "code",
      "metadata": {
        "id": "j4j7kgw7ACGn",
        "colab_type": "code",
        "colab": {
          "base_uri": "https://localhost:8080/",
          "height": 235
        },
        "outputId": "e5aff840-6a0c-48e9-f23a-5338aa8fa90c"
      },
      "source": [
        "prediction = autoencoder.predict(x_test[0:])\n",
        "prediction"
      ],
      "execution_count": 9,
      "outputs": [
        {
          "output_type": "execute_result",
          "data": {
            "text/plain": [
              "array([[1.5690327e-03, 1.9554198e-03, 5.8808923e-04, ..., 5.9972405e-03,\n",
              "        2.3566782e-03, 7.1671605e-04],\n",
              "       [4.0697090e-05, 2.4084948e-05, 2.2025211e-05, ..., 2.5148094e-03,\n",
              "        3.2696128e-04, 9.9983401e-05],\n",
              "       [4.0400719e-05, 5.2491773e-06, 1.4907122e-04, ..., 8.7681413e-04,\n",
              "        1.3726950e-04, 7.9168465e-05],\n",
              "       ...,\n",
              "       [5.5504143e-03, 1.6146898e-03, 3.6002994e-03, ..., 9.2867613e-03,\n",
              "        7.1963668e-03, 3.9929152e-03],\n",
              "       [1.6778708e-04, 3.6371555e-05, 5.8916211e-04, ..., 2.3181140e-03,\n",
              "        3.9353967e-04, 3.0368567e-04],\n",
              "       [3.6914349e-03, 5.5284798e-03, 2.4310648e-03, ..., 1.2442648e-02,\n",
              "        5.5637956e-03, 2.3921430e-03]], dtype=float32)"
            ]
          },
          "metadata": {
            "tags": []
          },
          "execution_count": 9
        }
      ]
    },
    {
      "cell_type": "markdown",
      "metadata": {
        "id": "V_owGffQkmel",
        "colab_type": "text"
      },
      "source": [
        "INPUT DATA VISUALIZATION"
      ]
    },
    {
      "cell_type": "code",
      "metadata": {
        "id": "V2dT9133AVvO",
        "colab_type": "code",
        "colab": {
          "base_uri": "https://localhost:8080/",
          "height": 265
        },
        "outputId": "69115e5e-bb7b-4986-9029-b99e039f66e0"
      },
      "source": [
        "from matplotlib import pyplot as plt\n",
        "plt.imshow(x_test[0].reshape(28,28))\n",
        "plt.show()\n"
      ],
      "execution_count": 13,
      "outputs": [
        {
          "output_type": "display_data",
          "data": {
            "image/png": "[encoded data removed]",
            "text/plain": [
              "<Figure size 432x288 with 1 Axes>"
            ]
          },
          "metadata": {
            "tags": [],
            "needs_background": "light"
          }
        }
      ]
    },
    {
      "cell_type": "markdown",
      "metadata": {
        "id": "jKWYk6mqkrif",
        "colab_type": "text"
      },
      "source": [
        "RECONSTRUCTED IMAGE"
      ]
    },
    {
      "cell_type": "code",
      "metadata": {
        "id": "vBO8l3swAhlO",
        "colab_type": "code",
        "colab": {
          "base_uri": "https://localhost:8080/",
          "height": 265
        },
        "outputId": "1bdf9db5-3028-45a9-c4ff-bbaee7d137b6"
      },
      "source": [
        "from matplotlib import pyplot as plt\n",
        "plt.imshow(prediction[0].reshape(28,28))\n",
        "plt.show()"
      ],
      "execution_count": 12,
      "outputs": [
        {
          "output_type": "display_data",
          "data": {
            "image/png": "[encoded data removed]",
            "text/plain": [
              "<Figure size 432x288 with 1 Axes>"
            ]
          },
          "metadata": {
            "tags": [],
            "needs_background": "light"
          }
        }
      ]
    },
    {
      "cell_type": "markdown",
      "metadata": {
        "id": "XVMucum0Earn",
        "colab_type": "text"
      },
      "source": [
        "**3. visualize the input, noisy inputand reconstructed representation(denosed output)of the Denosing_Autoencoder using Matplotlib**"
      ]
    },
    {
      "cell_type": "code",
      "metadata": {
        "id": "a1ncK4DnA1o5",
        "colab_type": "code",
        "colab": {
          "base_uri": "https://localhost:8080/",
          "height": 386
        },
        "outputId": "e2b23b9e-9837-41fe-d159-43c4be597fab"
      },
      "source": [
        "encoding_dim = 32  # 32 floats -> compression of factor 24.5, assuming the input is 784 floats\n",
        "\n",
        "# this is our input placeholder\n",
        "input_img = Input(shape=(784,))\n",
        "# \"encoded\" is the encoded representation of the input\n",
        "encoded = Dense(encoding_dim, activation='relu')(input_img)\n",
        "# \"decoded\" is the lossy reconstruction of the input\n",
        "decoded = Dense(784, activation='sigmoid')(encoded)\n",
        "# this model maps an input to its reconstruction\n",
        "autoencoder1 = Model(input_img, decoded)\n",
        "# this model maps an input to its encoded representation\n",
        "autoencoder1.compile(optimizer='adadelta', loss='binary_crossentropy')\n",
        "from keras.datasets import fashion_mnist\n",
        "import numpy as np\n",
        "(x_train, _), (x_test, _) = fashion_mnist.load_data()\n",
        "x_train = x_train.astype('float32') / 255.\n",
        "x_test = x_test.astype('float32') / 255.\n",
        "x_train = x_train.reshape((len(x_train), np.prod(x_train.shape[1:])))\n",
        "x_test = x_test.reshape((len(x_test), np.prod(x_test.shape[1:])))\n",
        "\n",
        "#introducing noise\n",
        "noise_factor = 0.5\n",
        "x_train_noisy = x_train + noise_factor * np.random.normal(loc=0.0, scale=1.0, size=x_train.shape)\n",
        "x_test_noisy = x_test + noise_factor * np.random.normal(loc=0.0, scale=1.0, size=x_test.shape)\n",
        "\n",
        "autoencoder1.fit(x_train_noisy, x_train,\n",
        "                epochs=10,\n",
        "                batch_size=256,\n",
        "                shuffle=True,\n",
        "                validation_data=(x_test_noisy, x_test_noisy))"
      ],
      "execution_count": 15,
      "outputs": [
        {
          "output_type": "stream",
          "text": [
            "Train on 60000 samples, validate on 10000 samples\n",
            "Epoch 1/10\n",
            "60000/60000 [==============================] - 3s 43us/step - loss: 0.5294 - val_loss: 0.4575\n",
            "Epoch 2/10\n",
            "60000/60000 [==============================] - 3s 42us/step - loss: 0.4282 - val_loss: 0.4042\n",
            "Epoch 3/10\n",
            "60000/60000 [==============================] - 3s 43us/step - loss: 0.3973 - val_loss: 0.3850\n",
            "Epoch 4/10\n",
            "60000/60000 [==============================] - 3s 43us/step - loss: 0.3824 - val_loss: 0.3710\n",
            "Epoch 5/10\n",
            "60000/60000 [==============================] - 3s 43us/step - loss: 0.3708 - val_loss: 0.3591\n",
            "Epoch 6/10\n",
            "60000/60000 [==============================] - 3s 43us/step - loss: 0.3609 - val_loss: 0.3490\n",
            "Epoch 7/10\n",
            "60000/60000 [==============================] - 3s 43us/step - loss: 0.3528 - val_loss: 0.3405\n",
            "Epoch 8/10\n",
            "60000/60000 [==============================] - 3s 43us/step - loss: 0.3462 - val_loss: 0.3336\n",
            "Epoch 9/10\n",
            "60000/60000 [==============================] - 3s 43us/step - loss: 0.3410 - val_loss: 0.3280\n",
            "Epoch 10/10\n",
            "60000/60000 [==============================] - 3s 43us/step - loss: 0.3367 - val_loss: 0.3233\n"
          ],
          "name": "stdout"
        },
        {
          "output_type": "execute_result",
          "data": {
            "text/plain": [
              "<keras.callbacks.callbacks.History at 0x7f936d9760f0>"
            ]
          },
          "metadata": {
            "tags": []
          },
          "execution_count": 15
        }
      ]
    },
    {
      "cell_type": "markdown",
      "metadata": {
        "id": "61VrZRknkYzL",
        "colab_type": "text"
      },
      "source": [
        "INPUT DATA\n"
      ]
    },
    {
      "cell_type": "code",
      "metadata": {
        "id": "-eiv4ZdGiT2n",
        "colab_type": "code",
        "colab": {
          "base_uri": "https://localhost:8080/",
          "height": 265
        },
        "outputId": "0768e1c2-eaaf-4a83-cfe4-53b00d293fa8"
      },
      "source": [
        "from matplotlib import pyplot as plt\n",
        "plt.imshow(x_train[1].reshape(28,28))\n",
        "plt.show()"
      ],
      "execution_count": 50,
      "outputs": [
        {
          "output_type": "display_data",
          "data": {
            "image/png": "[encoded data removed]",
            "text/plain": [
              "<Figure size 432x288 with 1 Axes>"
            ]
          },
          "metadata": {
            "tags": [],
            "needs_background": "light"
          }
        }
      ]
    },
    {
      "cell_type": "markdown",
      "metadata": {
        "id": "lT4yX9cGkcrm",
        "colab_type": "text"
      },
      "source": [
        "ADDED NOISE"
      ]
    },
    {
      "cell_type": "code",
      "metadata": {
        "id": "atNcKChGB-Ms",
        "colab_type": "code",
        "colab": {
          "base_uri": "https://localhost:8080/",
          "height": 265
        },
        "outputId": "5006011a-d97b-48f4-f311-a4a632b6ff47"
      },
      "source": [
        "from matplotlib import pyplot as plt\n",
        "plt.imshow(x_train_noisy[1].reshape(28,28))\n",
        "plt.show()"
      ],
      "execution_count": 27,
      "outputs": [
        {
          "output_type": "display_data",
          "data": {
            "image/png": "[encoded data removed]",
            "text/plain": [
              "<Figure size 432x288 with 1 Axes>"
            ]
          },
          "metadata": {
            "tags": [],
            "needs_background": "light"
          }
        }
      ]
    },
    {
      "cell_type": "code",
      "metadata": {
        "id": "8t7GgGTpBiec",
        "colab_type": "code",
        "colab": {}
      },
      "source": [
        "prediction1 = autoencoder1.predict(x_train_noisy[1:])"
      ],
      "execution_count": 0,
      "outputs": []
    },
    {
      "cell_type": "markdown",
      "metadata": {
        "id": "uHrgq8ufkgBc",
        "colab_type": "text"
      },
      "source": [
        "DECODED NOISE\n"
      ]
    },
    {
      "cell_type": "code",
      "metadata": {
        "id": "kEHAVNi-BbAg",
        "colab_type": "code",
        "colab": {
          "base_uri": "https://localhost:8080/",
          "height": 265
        },
        "outputId": "b16845b1-3f31-47d6-f2cc-05ea2fbb12dc"
      },
      "source": [
        "from matplotlib import pyplot as plt\n",
        "plt.imshow(prediction1[0].reshape(28,28))\n",
        "plt.show()"
      ],
      "execution_count": 29,
      "outputs": [
        {
          "output_type": "display_data",
          "data": {
            "image/png": "[encoded data removed]",
            "text/plain": [
              "<Figure size 432x288 with 1 Axes>"
            ]
          },
          "metadata": {
            "tags": [],
            "needs_background": "light"
          }
        }
      ]
    },
    {
      "cell_type": "markdown",
      "metadata": {
        "id": "Kojxoct3D__l",
        "colab_type": "text"
      },
      "source": [
        "1. **ADDING A HIDDEN LAYER**"
      ]
    },
    {
      "cell_type": "code",
      "metadata": {
        "id": "5PTXkTOjDSAL",
        "colab_type": "code",
        "colab": {}
      },
      "source": [
        "encoding_dim = 32  # 32 floats -> compression of factor 24.5, assuming the input is 784 floats\n",
        "\n",
        "# this is our input placeholder\n",
        "input_img = Input(shape=(784,))\n",
        "# \"encoded\" is the encoded representation of the input\n",
        "encoded = Dense(encoding_dim, activation='relu')(input_img)\n",
        "#addining a hidden layer\n",
        "i=Dense(512,activation='relu')(encoded)\n",
        "# \"decoded\" is the lossy reconstruction of the input\n",
        "decoded = Dense(784, activation='sigmoid')(i)\n",
        "# this model maps an input to its reconstruction\n",
        "autoencoder1 = Model(input_img, decoded)\n",
        "# this model maps an input to its encoded representation\n",
        "autoencoder1.compile(optimizer='adadelta', loss='binary_crossentropy',metrics=['accuracy'])\n",
        "from keras.datasets import fashion_mnist\n",
        "import numpy as np\n",
        "(x_train, _), (x_test, _) = fashion_mnist.load_data()\n",
        "x_train = x_train.astype('float32') / 255.\n",
        "x_test = x_test.astype('float32') / 255.\n",
        "x_train = x_train.reshape((len(x_train), np.prod(x_train.shape[1:])))\n",
        "x_test = x_test.reshape((len(x_test), np.prod(x_test.shape[1:])))\n",
        "\n",
        "#introducing noise\n",
        "noise_factor = 0.5\n",
        "x_train_noisy = x_train + noise_factor * np.random.normal(loc=0.0, scale=1.0, size=x_train.shape)\n",
        "x_test_noisy = x_test + noise_factor * np.random.normal(loc=0.0, scale=1.0, size=x_test.shape)\n",
        "\n"
      ],
      "execution_count": 0,
      "outputs": []
    },
    {
      "cell_type": "code",
      "metadata": {
        "id": "ylOxvRgzF18V",
        "colab_type": "code",
        "colab": {
          "base_uri": "https://localhost:8080/",
          "height": 369
        },
        "outputId": "9cdb982d-4610-4d79-bc58-b756131e6c40"
      },
      "source": [
        "history=autoencoder1.fit(x_train_noisy, x_train,\n",
        "                epochs=10,\n",
        "                batch_size=256,\n",
        "                shuffle=True,\n",
        "                validation_data=(x_test_noisy, x_test_noisy),verbose=1)"
      ],
      "execution_count": 48,
      "outputs": [
        {
          "output_type": "stream",
          "text": [
            "Train on 60000 samples, validate on 10000 samples\n",
            "Epoch 1/10\n",
            "60000/60000 [==============================] - 7s 111us/step - loss: 0.3923 - accuracy: 0.4915 - val_loss: 0.3750 - val_accuracy: 0.0000e+00\n",
            "Epoch 2/10\n",
            "60000/60000 [==============================] - 7s 113us/step - loss: 0.3693 - accuracy: 0.4958 - val_loss: 0.3511 - val_accuracy: 0.0000e+00\n",
            "Epoch 3/10\n",
            "60000/60000 [==============================] - 7s 112us/step - loss: 0.3500 - accuracy: 0.4993 - val_loss: 0.3324 - val_accuracy: 0.0000e+00\n",
            "Epoch 4/10\n",
            "60000/60000 [==============================] - 7s 112us/step - loss: 0.3389 - accuracy: 0.5010 - val_loss: 0.3276 - val_accuracy: 0.0000e+00\n",
            "Epoch 5/10\n",
            "60000/60000 [==============================] - 7s 113us/step - loss: 0.3331 - accuracy: 0.5018 - val_loss: 0.3172 - val_accuracy: 0.0000e+00\n",
            "Epoch 6/10\n",
            "60000/60000 [==============================] - 7s 112us/step - loss: 0.3288 - accuracy: 0.5024 - val_loss: 0.3130 - val_accuracy: 0.0000e+00\n",
            "Epoch 7/10\n",
            "60000/60000 [==============================] - 7s 113us/step - loss: 0.3263 - accuracy: 0.5027 - val_loss: 0.3115 - val_accuracy: 0.0000e+00\n",
            "Epoch 8/10\n",
            "60000/60000 [==============================] - 7s 113us/step - loss: 0.3243 - accuracy: 0.5030 - val_loss: 0.3076 - val_accuracy: 0.0000e+00\n",
            "Epoch 9/10\n",
            "60000/60000 [==============================] - 7s 112us/step - loss: 0.3226 - accuracy: 0.5032 - val_loss: 0.3063 - val_accuracy: 0.0000e+00\n",
            "Epoch 10/10\n",
            "60000/60000 [==============================] - 7s 111us/step - loss: 0.3210 - accuracy: 0.5035 - val_loss: 0.3025 - val_accuracy: 0.0000e+00\n"
          ],
          "name": "stdout"
        }
      ]
    },
    {
      "cell_type": "markdown",
      "metadata": {
        "id": "TyYQ83ZpJO_A",
        "colab_type": "text"
      },
      "source": [
        "**4. GRAPH FOR ACCURACY AND LOSS**\n"
      ]
    },
    {
      "cell_type": "code",
      "metadata": {
        "id": "XrZjyElaGQ1Q",
        "colab_type": "code",
        "colab": {
          "base_uri": "https://localhost:8080/",
          "height": 295
        },
        "outputId": "265beb3f-7968-4f38-bee7-3f0be1ca122f"
      },
      "source": [
        "import matplotlib.pyplot as plt\n",
        "plt.plot(history.history['accuracy'])\n",
        "plt.plot(history.history['loss'])\n",
        "#plt.plot(history.history['loss'])\n",
        "#plt.plot(history.history['val_loss'])\n",
        "plt.title('model accuracy vs loss')\n",
        "#plt.ylabel('accuracy')\n",
        "plt.xlabel('epoch')\n",
        "plt.legend(['accuray','loss'], loc='upper left')\n",
        "plt.show()"
      ],
      "execution_count": 49,
      "outputs": [
        {
          "output_type": "display_data",
          "data": {
            "image/png": "[encoded data removed]",
            "text/plain": [
              "<Figure size 432x288 with 1 Axes>"
            ]
          },
          "metadata": {
            "tags": [],
            "needs_background": "light"
          }
        }
      ]
    }
  ]
}