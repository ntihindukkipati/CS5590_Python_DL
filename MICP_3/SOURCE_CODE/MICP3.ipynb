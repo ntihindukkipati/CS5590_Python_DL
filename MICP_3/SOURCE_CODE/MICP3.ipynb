{
  "nbformat": 4,
  "nbformat_minor": 0,
  "metadata": {
    "colab": {
      "name": "MICP3.ipynb",
      "provenance": [],
      "collapsed_sections": [],
      "machine_shape": "hm"
    },
    "kernelspec": {
      "name": "python3",
      "display_name": "Python 3"
    }
  },
  "cells": [
    {
      "cell_type": "code",
      "metadata": {
        "id": "YCGsF9irW4Cz",
        "colab_type": "code",
        "outputId": "99d8c044-f8c0-4f5c-cdb0-d497a5973b70",
        "colab": {
          "base_uri": "https://localhost:8080/",
          "height": 124
        }
      },
      "source": [
        "%tensorflow_version 1.14\n",
        "from tensorflow.keras.models import Sequential\n",
        "from tensorflow.keras import layers\n",
        "from tensorflow.keras.preprocessing.text import Tokenizer\n",
        "import pandas as pd\n",
        "from sklearn import preprocessing\n",
        "from sklearn.model_selection import train_test_split\n",
        "from tensorflow.keras.layers import Embedding\n",
        "from tensorflow.keras.layers import Flatten\n",
        "from keras.callbacks import TensorBoard"
      ],
      "execution_count": 101,
      "outputs": [
        {
          "output_type": "stream",
          "text": [
            "`%tensorflow_version` only switches the major version: 1.x or 2.x.\n",
            "You set: `1.14`. This will be interpreted as: `1.x`.\n",
            "\n",
            "\n",
            "TensorFlow is already loaded. Please restart the runtime to change versions.\n"
          ],
          "name": "stdout"
        },
        {
          "output_type": "stream",
          "text": [
            "Using TensorFlow backend.\n"
          ],
          "name": "stderr"
        }
      ]
    },
    {
      "cell_type": "code",
      "metadata": {
        "id": "MNaC3jEBW9dw",
        "colab_type": "code",
        "outputId": "a959aa03-c113-46ed-ad2b-b04be797108c",
        "colab": {
          "base_uri": "https://localhost:8080/",
          "height": 159
        }
      },
      "source": [
        "df = pd.read_csv('/content/drive/My Drive/Colab Notebooks/imdb_master.csv',encoding='latin-1')\n",
        "print(df.head())\n",
        "sentences = df['review'].values\n",
        "sentences1 = df['review'].values\n",
        "\n",
        "y = df['label'].values"
      ],
      "execution_count": 67,
      "outputs": [
        {
          "output_type": "stream",
          "text": [
            "   Unnamed: 0  type  ... label         file\n",
            "0           0  test  ...   neg      0_2.txt\n",
            "1           1  test  ...   neg  10000_4.txt\n",
            "2           2  test  ...   neg  10001_1.txt\n",
            "3           3  test  ...   neg  10002_3.txt\n",
            "4           4  test  ...   neg  10003_3.txt\n",
            "\n",
            "[5 rows x 5 columns]\n"
          ],
          "name": "stdout"
        }
      ]
    },
    {
      "cell_type": "code",
      "metadata": {
        "id": "g0-DwLbrajYW",
        "colab_type": "code",
        "outputId": "584a31ba-7844-42d6-8365-b8d0e0e3c259",
        "colab": {
          "base_uri": "https://localhost:8080/",
          "height": 35
        }
      },
      "source": [
        "from google.colab import drive\n",
        "drive.mount('/content/drive')"
      ],
      "execution_count": 3,
      "outputs": [
        {
          "output_type": "stream",
          "text": [
            "Drive already mounted at /content/drive; to attempt to forcibly remount, call drive.mount(\"/content/drive\", force_remount=True).\n"
          ],
          "name": "stdout"
        }
      ]
    },
    {
      "cell_type": "code",
      "metadata": {
        "id": "6GzIu2j3a_Pb",
        "colab_type": "code",
        "outputId": "22cb836e-2a82-4cad-df3f-092f1926857d",
        "colab": {
          "base_uri": "https://localhost:8080/",
          "height": 179
        }
      },
      "source": [
        "sentences"
      ],
      "execution_count": 4,
      "outputs": [
        {
          "output_type": "execute_result",
          "data": {
            "text/plain": [
              "array([\"Once again Mr. Costner has dragged out a movie for far longer than necessary. Aside from the terrific sea rescue sequences, of which there are very few I just did not care about any of the characters. Most of us have ghosts in the closet, and Costner's character are realized early on, and then forgotten until much later, by which time I did not care. The character we should really care about is a very cocky, overconfident Ashton Kutcher. The problem is he comes off as kid who thinks he's better than anyone else around him and shows no signs of a cluttered closet. His only obstacle appears to be winning over Costner. Finally when we are well past the half way point of this stinker, Costner tells us all about Kutcher's ghosts. We are told why Kutcher is driven to be the best with no prior inkling or foreshadowing. No magic here, it was all I could do to keep from turning it off an hour in.\",\n",
              "       \"This is an example of why the majority of action films are the same. Generic and boring, there's really nothing worth watching here. A complete waste of the then barely-tapped talents of Ice-T and Ice Cube, who've each proven many times over that they are capable of acting, and acting well. Don't bother with this one, go see New Jack City, Ricochet or watch New York Undercover for Ice-T, or Boyz n the Hood, Higher Learning or Friday for Ice Cube and see the real deal. Ice-T's horribly cliched dialogue alone makes this film grate at the teeth, and I'm still wondering what the heck Bill Paxton was doing in this film? And why the heck does he always play the exact same character? From Aliens onward, every film I've seen with Bill Paxton has him playing the exact same irritating character, and at least in Aliens his character died, which made it somewhat gratifying...<br /><br />Overall, this is second-rate action trash. There are countless better films to see, and if you really want to see this one, watch Judgement Night, which is practically a carbon copy but has better acting and a better script. The only thing that made this at all worth watching was a decent hand on the camera - the cinematography was almost refreshing, which comes close to making up for the horrible film itself - but not quite. 4/10.\",\n",
              "       \"First of all I hate those moronic rappers, who could'nt act if they had a gun pressed against their foreheads. All they do is curse and shoot each other and acting like clichÃ©'e version of gangsters.<br /><br />The movie doesn't take more than five minutes to explain what is going on before we're already at the warehouse There is not a single sympathetic character in this movie, except for the homeless guy, who is also the only one with half a brain.<br /><br />Bill Paxton and William Sadler are both hill billies and Sadlers character is just as much a villain as the gangsters. I did'nt like him right from the start.<br /><br />The movie is filled with pointless violence and Walter Hills specialty: people falling through windows with glass flying everywhere. There is pretty much no plot and it is a big problem when you root for no-one. Everybody dies, except from Paxton and the homeless guy and everybody get what they deserve.<br /><br />The only two black people that can act is the homeless guy and the junkie but they're actors by profession, not annoying ugly brain dead rappers.<br /><br />Stay away from this crap and watch 48 hours 1 and 2 instead. At lest they have characters you care about, a sense of humor and nothing but real actors in the cast.\",\n",
              "       ...,\n",
              "       'At the beginning we can see members of Troma team company and Uwe Boll says \" This is bad, it\\'s a big s***, don\\'t watch it, don\\'t even think about it, stay away from this movie\", now we are warn...<br /><br />But they are wrong, the film is brilliant. OK it have a lot bad things like : no budget (of course), no good acting, no fancy FX, no good location, no good editing, no good sound.....etc In fact, in all technical aspect, the film is bad, but that\\'s not a surprise. But when you watch Zombiegeddon a lot of this disappear or make the film pretty funny. And that\\'s the power of this movie, the film is fun, good fun. Because it\\'s not an annoying and boring movie, no that\\'s more a good horror/comedy, between \"shawn of the dead\" and \"an Ed Wood movie\". And that\\'s really enjoying to see a movie like that make you smile at least 75% of the time. The movie is really cool. Great Troma movie !',\n",
              "       'The movie was incredible, ever since I saw it in 1977 I told my wife she had to see it, it was really funny. Right up there with the \"In-Laws.\" As soon as it came out on video we would watch it. Well, 20 years later, and every time I ask in a video store they give me a funny look. Does anyone have any clue how this classic can be viewed??? \"PLEASE HELP\"',\n",
              "       'TCM came through by acquiring this wonderful, silent, comedy/drama for television. Until recently it had been locked away in an achieve somewhere. It premiered on TV for the 1st time since its theatrical release in 1927. Two Americans fighting in World War I (William Boyd and Louis Wolheim) are hiding in a defensive position with German soldiers advancing. They however are fighting with each other and working the nerve of one-an-other. They of course are caught, but after an inventive escape they are taken on a whirlwind adventure in Arabia, with all the humor you might find in an Abbott and Costello movie. Very funny and sometimes even touching. A great silent picture and winner of an Academy Award for \"Best Comedy Direction\". Directed by Lewis Milestone.'],\n",
              "      dtype=object)"
            ]
          },
          "metadata": {
            "tags": []
          },
          "execution_count": 4
        }
      ]
    },
    {
      "cell_type": "markdown",
      "metadata": {
        "id": "Df6hooweXBJo",
        "colab_type": "text"
      },
      "source": [
        "tokenizing data"
      ]
    },
    {
      "cell_type": "code",
      "metadata": {
        "id": "PSUceLgkW-wI",
        "colab_type": "code",
        "colab": {}
      },
      "source": [
        "tokenizer = Tokenizer(num_words=2000)\n",
        "tokenizer.fit_on_texts(sentences)"
      ],
      "execution_count": 0,
      "outputs": []
    },
    {
      "cell_type": "markdown",
      "metadata": {
        "id": "pR78DrA6XD48",
        "colab_type": "text"
      },
      "source": [
        "getting the vocabulary of data\n"
      ]
    },
    {
      "cell_type": "code",
      "metadata": {
        "id": "pWy9t9pLXFki",
        "colab_type": "code",
        "colab": {}
      },
      "source": [
        "sentences = tokenizer.texts_to_matrix(sentences)"
      ],
      "execution_count": 0,
      "outputs": []
    },
    {
      "cell_type": "code",
      "metadata": {
        "id": "OuJJ6l52XHTw",
        "colab_type": "code",
        "colab": {
          "base_uri": "https://localhost:8080/",
          "height": 35
        },
        "outputId": "db35386d-ab7d-4a1e-94d9-09831361ae7a"
      },
      "source": [
        "import numpy as np\n",
        "le = preprocessing.LabelEncoder()\n",
        "y = le.fit_transform(y)\n",
        "X_train, X_test, y_train, y_test = train_test_split(sentences, y, test_size=0.25, random_state=1000)\n",
        "input_dim=np.prod(X_train.shape[1:])\n",
        "print(input_dim)\n",
        "y_train\n"
      ],
      "execution_count": 70,
      "outputs": [
        {
          "output_type": "stream",
          "text": [
            "2000\n"
          ],
          "name": "stdout"
        }
      ]
    },
    {
      "cell_type": "markdown",
      "metadata": {
        "id": "ZpMMRB9fo_qi",
        "colab_type": "text"
      },
      "source": [
        "**1st Question Find out mistakes**"
      ]
    },
    {
      "cell_type": "markdown",
      "metadata": {
        "id": "6FkLb4ueoA30",
        "colab_type": "text"
      },
      "source": [
        "Erros that i have faces are<br>\n",
        "1.Tensorflow version error<br>\n",
        "2.Input_dimension in our case it is 2000<br>\n",
        "3.Neuron in the last layer is 3 because we have 3 for prediction(pos,neg,unsup)<br>\n",
        "4.activation function i have used softmax as it is giving better accuracy<br>\n",
        "As far i have learned softmax gives good accuracy then other activation functions  "
      ]
    },
    {
      "cell_type": "code",
      "metadata": {
        "id": "rcyQwlRNXI6V",
        "colab_type": "code",
        "colab": {}
      },
      "source": [
        "model = Sequential()\n",
        "model.add(layers.Dense(512, activation='relu',input_dim=input_dim))\n",
        "model.add(layers.Dense(3, activation='softmax'))\n",
        "model.compile(loss='sparse_categorical_crossentropy',optimizer='adam',metrics=['acc'])"
      ],
      "execution_count": 0,
      "outputs": []
    },
    {
      "cell_type": "code",
      "metadata": {
        "id": "HGpcm3BIXNmL",
        "colab_type": "code",
        "colab": {
          "base_uri": "https://localhost:8080/",
          "height": 212
        },
        "outputId": "693ce987-050a-49a2-f6a4-9c48dc7db399"
      },
      "source": [
        "hist=model.fit(X_train,y_train, epochs=5, verbose=1, batch_size=256, validation_data=(X_test,y_test))\n"
      ],
      "execution_count": 77,
      "outputs": [
        {
          "output_type": "stream",
          "text": [
            "Train on 75000 samples, validate on 25000 samples\n",
            "Epoch 1/5\n",
            "75000/75000 [==============================] - 5s 70us/sample - loss: 0.0944 - acc: 0.9899 - val_loss: 1.2552 - val_acc: 0.5022\n",
            "Epoch 2/5\n",
            "75000/75000 [==============================] - 5s 69us/sample - loss: 0.0714 - acc: 0.9921 - val_loss: 1.3020 - val_acc: 0.5090\n",
            "Epoch 3/5\n",
            "75000/75000 [==============================] - 5s 67us/sample - loss: 0.0643 - acc: 0.9923 - val_loss: 1.3504 - val_acc: 0.5126\n",
            "Epoch 4/5\n",
            "75000/75000 [==============================] - 5s 67us/sample - loss: 0.0598 - acc: 0.9925 - val_loss: 1.3936 - val_acc: 0.5108\n",
            "Epoch 5/5\n",
            "75000/75000 [==============================] - 5s 67us/sample - loss: 0.0566 - acc: 0.9925 - val_loss: 1.4170 - val_acc: 0.5038\n"
          ],
          "name": "stdout"
        }
      ]
    },
    {
      "cell_type": "markdown",
      "metadata": {
        "id": "fHwar5tlnsZF",
        "colab_type": "text"
      },
      "source": [
        "**2nd Question adding embedded layer**"
      ]
    },
    {
      "cell_type": "code",
      "metadata": {
        "id": "PV6yKnXo_5fT",
        "colab_type": "code",
        "colab": {}
      },
      "source": [
        "from tensorflow.keras.preprocessing.sequence import pad_sequences\n",
        "max_review_len= max([len(s.split()) for s in sentences1])\n",
        "vocab_size= len(tokenizer.word_index)+1\n",
        "sentences_pre = tokenizer.texts_to_sequences(sentences1)\n",
        "padded_docs= pad_sequences(sentences_pre,maxlen=max_review_len)\n"
      ],
      "execution_count": 0,
      "outputs": []
    },
    {
      "cell_type": "code",
      "metadata": {
        "id": "IKBIM9hwB-ZV",
        "colab_type": "code",
        "colab": {}
      },
      "source": [
        "#from keras.layers import Embedding\n",
        "#model.add(Embedding(vocab_size, 50, input_length=max_review_len)\n",
        "X_train, X_test, y_train, y_test = train_test_split(padded_docs, y, test_size=0.25, random_state=1000)\n",
        "temp_X=X_test\n",
        "temp_y=y_test\n"
      ],
      "execution_count": 0,
      "outputs": []
    },
    {
      "cell_type": "code",
      "metadata": {
        "id": "qPM9J7f1HAK_",
        "colab_type": "code",
        "colab": {
          "base_uri": "https://localhost:8080/",
          "height": 35
        },
        "outputId": "03a982ea-9bf4-47c7-b4b6-d1b514094348"
      },
      "source": [
        "len(padded_docs)\n",
        "#max_review_len\n",
        "#padded_docs.shape\n",
        "#X_train.shape\n",
        "#vocab_size\n"
      ],
      "execution_count": 17,
      "outputs": [
        {
          "output_type": "execute_result",
          "data": {
            "text/plain": [
              "100000"
            ]
          },
          "metadata": {
            "tags": []
          },
          "execution_count": 17
        }
      ]
    },
    {
      "cell_type": "code",
      "metadata": {
        "id": "czZeuKO2--RW",
        "colab_type": "code",
        "colab": {}
      },
      "source": [
        "#from tensorflow.keras.layers import Embedding\n",
        "m = Sequential()\n",
        "m.add(Embedding(vocab_size, 50, input_length=max_review_len))\n",
        "m.add(Flatten())\n",
        "m.add(layers.Dense(300,input_dim=max_review_len, activation='relu'))\n",
        "m.add(layers.Dense(3, activation='softmax'))\n",
        "#m = Sequential()\n",
        "#m.add(layers.Dense(512, activation='relu',input_shape=(max_review_len,)))\n",
        "#m.add(Embedding(vocab_size, 50,input_length=len(padded_docs)))\n",
        "#m.add(layers.Dense(512, activation='relu'))\n",
        "#m.add(layers.Dense(3, activation='softmax'))\n",
        "m.compile(loss='sparse_categorical_crossentropy',optimizer='adam',metrics=['acc'])\n",
        "#h=m.fit(X_train,y_train, epochs=5, verbose=1, batch_size=256, validation_data=(X_test,y_test))"
      ],
      "execution_count": 0,
      "outputs": []
    },
    {
      "cell_type": "code",
      "metadata": {
        "id": "NcKcwurDOfX1",
        "colab_type": "code",
        "colab": {
          "base_uri": "https://localhost:8080/",
          "height": 230
        },
        "outputId": "cfae8e2b-8eef-4f48-a5b0-2d7a1372e0bc"
      },
      "source": [
        "m.fit(X_train,y_train,batch_size=256,epochs=5,verbose=1,validation_data=(X_test,y_test))"
      ],
      "execution_count": 108,
      "outputs": [
        {
          "output_type": "stream",
          "text": [
            "Train on 75000 samples, validate on 25000 samples\n",
            "Epoch 1/5\n",
            "75000/75000 [==============================] - 233s 3ms/sample - loss: 0.8886 - acc: 0.5116 - val_loss: 0.6730 - val_acc: 0.6254\n",
            "Epoch 2/5\n",
            "75000/75000 [==============================] - 228s 3ms/sample - loss: 0.7859 - acc: 0.5497 - val_loss: 0.5682 - val_acc: 0.7039\n",
            "Epoch 3/5\n",
            "75000/75000 [==============================] - 228s 3ms/sample - loss: 0.7294 - acc: 0.5977 - val_loss: 0.5154 - val_acc: 0.7777\n",
            "Epoch 4/5\n",
            "75000/75000 [==============================] - 229s 3ms/sample - loss: 0.6495 - acc: 0.6623 - val_loss: 0.4957 - val_acc: 0.7855\n",
            "Epoch 5/5\n",
            "75000/75000 [==============================] - 221s 3ms/sample - loss: 0.5317 - acc: 0.7464 - val_loss: 0.4182 - val_acc: 0.8173\n"
          ],
          "name": "stdout"
        },
        {
          "output_type": "execute_result",
          "data": {
            "text/plain": [
              "<tensorflow.python.keras.callbacks.History at 0x7f31dcf52588>"
            ]
          },
          "metadata": {
            "tags": []
          },
          "execution_count": 108
        }
      ]
    },
    {
      "cell_type": "markdown",
      "metadata": {
        "id": "D4t_fLZ9gl3_",
        "colab_type": "text"
      },
      "source": [
        "**3rd Question training model on 20newsgroups dataset**\n"
      ]
    },
    {
      "cell_type": "code",
      "metadata": {
        "id": "sywXIn6cgmqI",
        "colab_type": "code",
        "colab": {}
      },
      "source": [
        "from sklearn.datasets import fetch_20newsgroups\n",
        "newsgroups_train =fetch_20newsgroups(subset='train', shuffle=True)"
      ],
      "execution_count": 0,
      "outputs": []
    },
    {
      "cell_type": "code",
      "metadata": {
        "id": "Vyy-cZephU54",
        "colab_type": "code",
        "colab": {}
      },
      "source": [
        "sentences=newsgroups_train.data\n",
        "y=newsgroups_train.target"
      ],
      "execution_count": 0,
      "outputs": []
    },
    {
      "cell_type": "code",
      "metadata": {
        "id": "zai9_Y30htrk",
        "colab_type": "code",
        "colab": {}
      },
      "source": [
        "max_review_len= max([len(s.split()) for s in sentences])\n",
        "vocab_size= len(tokenizer.word_index)+1\n",
        "sentences_pre = tokenizer.texts_to_sequences(sentences)\n",
        "padded_docs= pad_sequences(sentences_pre,maxlen=max_review_len)"
      ],
      "execution_count": 0,
      "outputs": []
    },
    {
      "cell_type": "code",
      "metadata": {
        "id": "fLdnzwWwh4vy",
        "colab_type": "code",
        "colab": {
          "base_uri": "https://localhost:8080/",
          "height": 35
        },
        "outputId": "15544ff2-bcb3-4a23-f038-fe12cdfa02b5"
      },
      "source": [
        "max_review_len\n",
        "y\n",
        "X_train, X_test, y_train, y_test = train_test_split(padded_docs, y, test_size=0.25, random_state=1000)\n",
        "max_review_len"
      ],
      "execution_count": 57,
      "outputs": [
        {
          "output_type": "execute_result",
          "data": {
            "text/plain": [
              "11821"
            ]
          },
          "metadata": {
            "tags": []
          },
          "execution_count": 57
        }
      ]
    },
    {
      "cell_type": "code",
      "metadata": {
        "id": "BHZRgdEtiLtI",
        "colab_type": "code",
        "colab": {}
      },
      "source": [
        "p = Sequential()\n",
        "p.add(Embedding(vocab_size, 50, input_length=max_review_len))\n",
        "p.add(Flatten())\n",
        "p.add(layers.Dense(300,input_dim=max_review_len, activation='relu'))\n",
        "p.add(layers.Dense(20, activation='softmax'))\n",
        "p.compile(loss='sparse_categorical_crossentropy',optimizer='adam',metrics=['acc'])"
      ],
      "execution_count": 0,
      "outputs": []
    },
    {
      "cell_type": "code",
      "metadata": {
        "id": "eLq4JF6giyv6",
        "colab_type": "code",
        "colab": {
          "base_uri": "https://localhost:8080/",
          "height": 212
        },
        "outputId": "a88beb82-e682-4efb-860a-08a76689d6f5"
      },
      "source": [
        "h1=p.fit(X_train,y_train, epochs=5, verbose=1, batch_size=256, validation_data=(X_test,y_test))"
      ],
      "execution_count": 60,
      "outputs": [
        {
          "output_type": "stream",
          "text": [
            "Train on 8485 samples, validate on 2829 samples\n",
            "Epoch 1/5\n",
            "8485/8485 [==============================] - 132s 16ms/sample - loss: 12.3796 - acc: 0.0529 - val_loss: 3.0152 - val_acc: 0.0375\n",
            "Epoch 2/5\n",
            "8485/8485 [==============================] - 127s 15ms/sample - loss: 3.0063 - acc: 0.0500 - val_loss: 2.9939 - val_acc: 0.0559\n",
            "Epoch 3/5\n",
            "8485/8485 [==============================] - 127s 15ms/sample - loss: 2.9784 - acc: 0.0574 - val_loss: 3.0011 - val_acc: 0.0604\n",
            "Epoch 4/5\n",
            "8485/8485 [==============================] - 127s 15ms/sample - loss: 2.9676 - acc: 0.0673 - val_loss: 2.9778 - val_acc: 0.0633\n",
            "Epoch 5/5\n",
            "8485/8485 [==============================] - 132s 16ms/sample - loss: 2.9420 - acc: 0.0704 - val_loss: 2.9549 - val_acc: 0.0675\n"
          ],
          "name": "stdout"
        }
      ]
    },
    {
      "cell_type": "markdown",
      "metadata": {
        "id": "8JLdaD0apJTw",
        "colab_type": "text"
      },
      "source": [
        "**4th Question Plot a graph for acc, val_acc, loss, val_loss for history model**"
      ]
    },
    {
      "cell_type": "code",
      "metadata": {
        "id": "XtfcAh3pldfv",
        "colab_type": "code",
        "colab": {
          "base_uri": "https://localhost:8080/",
          "height": 295
        },
        "outputId": "2f1ced12-aeb6-41b7-a07c-a2a9e1cd8ef5"
      },
      "source": [
        "import matplotlib.pyplot as plt\n",
        "plt.plot(history.history['acc'])\n",
        "plt.plot(history.history['val_acc'])\n",
        "plt.plot(history.history['loss'])\n",
        "plt.plot(history.history['val_loss'])\n",
        "plt.title('model accuracy')\n",
        "plt.ylabel('accuracy')\n",
        "plt.xlabel('epoch')\n",
        "plt.legend(['accuray', 'validation accuracy','loss','val_loss'], loc='upper left')\n",
        "plt.show()"
      ],
      "execution_count": 61,
      "outputs": [
        {
          "output_type": "display_data",
          "data": {
            "image/png": "[encoded data removed]",
            "text/plain": [
              "<Figure size 432x288 with 1 Axes>"
            ]
          },
          "metadata": {
            "tags": []
          }
        }
      ]
    },
    {
      "cell_type": "markdown",
      "metadata": {
        "id": "FNOANazqnV77",
        "colab_type": "text"
      },
      "source": [
        "**`BONUS QUESTIONS**"
      ]
    },
    {
      "cell_type": "markdown",
      "metadata": {
        "id": "iLc_6pKzpelW",
        "colab_type": "text"
      },
      "source": [
        " **1st Question Predicting over Sample data**"
      ]
    },
    {
      "cell_type": "code",
      "metadata": {
        "id": "e8TGnRZmptzF",
        "colab_type": "code",
        "colab": {}
      },
      "source": [
        "x=m.predict_classes(temp_X[[1],:])"
      ],
      "execution_count": 0,
      "outputs": []
    },
    {
      "cell_type": "code",
      "metadata": {
        "id": "nJ3N1T4hqJUL",
        "colab_type": "code",
        "colab": {
          "base_uri": "https://localhost:8080/",
          "height": 35
        },
        "outputId": "9c12745c-b30c-495b-c6dc-dad0b7b0b34b"
      },
      "source": [
        "print(\"ACTUAL\",temp_y[1],\"PREDICTION\",x)"
      ],
      "execution_count": 107,
      "outputs": [
        {
          "output_type": "stream",
          "text": [
            "ACTUAL 2 PREDICTION [1]\n"
          ],
          "name": "stdout"
        }
      ]
    },
    {
      "cell_type": "markdown",
      "metadata": {
        "id": "Dg2P7YXWwoMA",
        "colab_type": "text"
      },
      "source": [
        "**2nd Question TENSOR BOARD**"
      ]
    },
    {
      "cell_type": "code",
      "metadata": {
        "id": "74UgOciJwnJ6",
        "colab_type": "code",
        "colab": {
          "base_uri": "https://localhost:8080/",
          "height": 230
        },
        "outputId": "bf1b6b3c-3ac6-4fb1-8465-637125809ff8"
      },
      "source": [
        "from time import time\n",
        "tensorboard=TensorBoard(log_dir=\"/content/drive/My Drive/Colab Notebooks/logs/{}\".format(time()))\n",
        "m.fit(temp_X,temp_y,verbose=1,epochs=5,callbacks=[tensorboard])"
      ],
      "execution_count": 106,
      "outputs": [
        {
          "output_type": "stream",
          "text": [
            "Train on 25000 samples\n",
            "Epoch 1/5\n",
            "25000/25000 [==============================] - 179s 7ms/sample - loss: 0.7605 - acc: 0.5623\n",
            "Epoch 2/5\n",
            "25000/25000 [==============================] - 179s 7ms/sample - loss: 0.5971 - acc: 0.6986\n",
            "Epoch 3/5\n",
            "25000/25000 [==============================] - 181s 7ms/sample - loss: 0.3430 - acc: 0.8555\n",
            "Epoch 4/5\n",
            "25000/25000 [==============================] - 178s 7ms/sample - loss: 0.1382 - acc: 0.9590\n",
            "Epoch 5/5\n",
            "25000/25000 [==============================] - 179s 7ms/sample - loss: 0.0571 - acc: 0.9923\n"
          ],
          "name": "stdout"
        },
        {
          "output_type": "execute_result",
          "data": {
            "text/plain": [
              "<tensorflow.python.keras.callbacks.History at 0x7f31dde877f0>"
            ]
          },
          "metadata": {
            "tags": []
          },
          "execution_count": 106
        }
      ]
    }
  ]
}