{
  "nbformat": 4,
  "nbformat_minor": 0,
  "metadata": {
    "colab": {
      "name": "MICP5.ipynb",
      "provenance": []
    },
    "kernelspec": {
      "name": "python3",
      "display_name": "Python 3"
    }
  },
  "cells": [
    {
      "cell_type": "code",
      "metadata": {
        "id": "u70o2knoVDtt",
        "colab_type": "code",
        "colab": {}
      },
      "source": [
        "import pandas as pd # data processing, CSV file I/O (e.g. pd.read_csv)\n",
        "from keras.preprocessing.text import Tokenizer\n",
        "from keras.preprocessing.sequence import pad_sequences\n",
        "from keras.models import Sequential\n",
        "from keras.layers import Dense, Embedding, LSTM, SpatialDropout1D\n",
        "from matplotlib import pyplot\n",
        "from sklearn.model_selection import train_test_split\n",
        "from keras.utils.np_utils import to_categorical\n",
        "import re\n",
        "from sklearn.preprocessing import LabelEncoder"
      ],
      "execution_count": 0,
      "outputs": []
    },
    {
      "cell_type": "code",
      "metadata": {
        "id": "ZVtPfKcXVKfy",
        "colab_type": "code",
        "colab": {
          "base_uri": "https://localhost:8080/",
          "height": 35
        },
        "outputId": "e218c06c-066f-4082-adef-8b7728ccb0fd"
      },
      "source": [
        "data = pd.read_csv('/content/Sentiment.csv')\n",
        "\n",
        "# Keeping only the neccessary columns\n",
        "data = data[['text','sentiment']]\n",
        "type(data)"
      ],
      "execution_count": 54,
      "outputs": [
        {
          "output_type": "execute_result",
          "data": {
            "text/plain": [
              "pandas.core.frame.DataFrame"
            ]
          },
          "metadata": {
            "tags": []
          },
          "execution_count": 54
        }
      ]
    },
    {
      "cell_type": "code",
      "metadata": {
        "id": "QZjgo8n7VQA1",
        "colab_type": "code",
        "colab": {}
      },
      "source": [
        "data['text'] = data['text'].apply(lambda x: x.lower())\n",
        "data['text'] = data['text'].apply((lambda x: re.sub('[^a-zA-z0-9\\s]', '', x)))"
      ],
      "execution_count": 0,
      "outputs": []
    },
    {
      "cell_type": "code",
      "metadata": {
        "id": "GvzWGl1rVRZY",
        "colab_type": "code",
        "colab": {}
      },
      "source": [
        "for idx, row in data.iterrows():\n",
        "    row[0] = row[0].replace('rt', ' ')"
      ],
      "execution_count": 0,
      "outputs": []
    },
    {
      "cell_type": "code",
      "metadata": {
        "id": "rcn-Si3-VTMZ",
        "colab_type": "code",
        "colab": {}
      },
      "source": [
        "max_fatures = 2000\n",
        "tokenizer = Tokenizer(num_words=max_fatures, split=' ')\n",
        "tokenizer.fit_on_texts(data['text'].values)\n",
        "X = tokenizer.texts_to_sequences(data['text'].values)\n",
        "\n",
        "X = pad_sequences(X)"
      ],
      "execution_count": 0,
      "outputs": []
    },
    {
      "cell_type": "code",
      "metadata": {
        "id": "fnm7lViYuhCv",
        "colab_type": "code",
        "colab": {
          "base_uri": "https://localhost:8080/",
          "height": 35
        },
        "outputId": "5e85e39a-50e5-4d11-d1f8-af110039134e"
      },
      "source": [
        "X.shape\n",
        "\n"
      ],
      "execution_count": 31,
      "outputs": [
        {
          "output_type": "execute_result",
          "data": {
            "text/plain": [
              "(13871, 28)"
            ]
          },
          "metadata": {
            "tags": []
          },
          "execution_count": 31
        }
      ]
    },
    {
      "cell_type": "code",
      "metadata": {
        "id": "t8b9O4zfVU0f",
        "colab_type": "code",
        "colab": {}
      },
      "source": [
        "def createmodel():\n",
        "  embed_dim=128\n",
        "  lstm_out=196\n",
        "  model = Sequential()\n",
        "  model.add(Embedding(max_fatures, embed_dim,input_length = X.shape[1]))\n",
        "  model.add(LSTM(lstm_out, dropout=0.2, recurrent_dropout=0.2))\n",
        "  model.add(Dense(3,activation='softmax'))\n",
        "  model.compile(loss = 'categorical_crossentropy', optimizer='adam',metrics = ['accuracy'])\n",
        "  return model\n",
        "# print(model.summary())"
      ],
      "execution_count": 0,
      "outputs": []
    },
    {
      "cell_type": "code",
      "metadata": {
        "id": "COz3ygFvcbX-",
        "colab_type": "code",
        "colab": {
          "base_uri": "https://localhost:8080/",
          "height": 35
        },
        "outputId": "14d4a8a7-b6ec-4c0b-adc6-3c4da8043c84"
      },
      "source": [
        ""
      ],
      "execution_count": 59,
      "outputs": [
        {
          "output_type": "execute_result",
          "data": {
            "text/plain": [
              "(13871,)"
            ]
          },
          "metadata": {
            "tags": []
          },
          "execution_count": 59
        }
      ]
    },
    {
      "cell_type": "code",
      "metadata": {
        "id": "dKOVUeyJVWcZ",
        "colab_type": "code",
        "colab": {}
      },
      "source": [
        "labelencoder = LabelEncoder()\n",
        "integer_encoded = labelencoder.fit_transform(data['sentiment'])\n",
        "y = to_categorical(integer_encoded)\n",
        "X_train, X_test, Y_train, Y_test = train_test_split(X,y, test_size = 0.33, random_state = 42)"
      ],
      "execution_count": 0,
      "outputs": []
    },
    {
      "cell_type": "code",
      "metadata": {
        "id": "oGVzIeqHclx0",
        "colab_type": "code",
        "colab": {
          "base_uri": "https://localhost:8080/",
          "height": 248
        },
        "outputId": "76e03f3a-861e-4901-baff-67bb28a0061c"
      },
      "source": [
        "print(data['sentiment'])\n",
        "print(integer_encoded)"
      ],
      "execution_count": 67,
      "outputs": [
        {
          "output_type": "stream",
          "text": [
            "0         Neutral\n",
            "1        Positive\n",
            "2         Neutral\n",
            "3        Positive\n",
            "4        Positive\n",
            "           ...   \n",
            "13866    Negative\n",
            "13867    Positive\n",
            "13868    Positive\n",
            "13869    Negative\n",
            "13870    Positive\n",
            "Name: sentiment, Length: 13871, dtype: object\n",
            "[1 2 1 ... 2 0 2]\n"
          ],
          "name": "stdout"
        }
      ]
    },
    {
      "cell_type": "code",
      "metadata": {
        "id": "_gyUU0LtVYIC",
        "colab_type": "code",
        "colab": {
          "base_uri": "https://localhost:8080/",
          "height": 837
        },
        "outputId": "0bc3c43a-13d4-435e-85f7-74fb12a882eb"
      },
      "source": [
        "batch_size = 32\n",
        "model = createmodel()\n",
        "model.fit(X_train, Y_train, epochs = 20, batch_size=batch_size, verbose = 2)\n",
        "score,acc = model.evaluate(X_test,Y_test,verbose=2,batch_size=batch_size)\n",
        "print(score)\n",
        "print(acc)\n",
        "print(model.metrics_names)"
      ],
      "execution_count": 92,
      "outputs": [
        {
          "output_type": "stream",
          "text": [
            "/usr/local/lib/python3.6/dist-packages/tensorflow/python/framework/indexed_slices.py:434: UserWarning: Converting sparse IndexedSlices to a dense Tensor of unknown shape. This may consume a large amount of memory.\n",
            "  \"Converting sparse IndexedSlices to a dense Tensor of unknown shape. \"\n"
          ],
          "name": "stderr"
        },
        {
          "output_type": "stream",
          "text": [
            "Epoch 1/20\n",
            " - 26s - loss: 0.8253 - accuracy: 0.6402\n",
            "Epoch 2/20\n",
            " - 25s - loss: 0.6863 - accuracy: 0.7081\n",
            "Epoch 3/20\n",
            " - 25s - loss: 0.6273 - accuracy: 0.7356\n",
            "Epoch 4/20\n",
            " - 26s - loss: 0.5813 - accuracy: 0.7536\n",
            "Epoch 5/20\n",
            " - 26s - loss: 0.5420 - accuracy: 0.7780\n",
            "Epoch 6/20\n",
            " - 25s - loss: 0.5059 - accuracy: 0.7925\n",
            "Epoch 7/20\n",
            " - 31s - loss: 0.4728 - accuracy: 0.8072\n",
            "Epoch 8/20\n",
            " - 25s - loss: 0.4359 - accuracy: 0.8208\n",
            "Epoch 9/20\n",
            " - 25s - loss: 0.4056 - accuracy: 0.8348\n",
            "Epoch 10/20\n",
            " - 26s - loss: 0.3819 - accuracy: 0.8419\n",
            "Epoch 11/20\n",
            " - 26s - loss: 0.3592 - accuracy: 0.8515\n",
            "Epoch 12/20\n",
            " - 26s - loss: 0.3353 - accuracy: 0.8643\n",
            "Epoch 13/20\n",
            " - 25s - loss: 0.3221 - accuracy: 0.8691\n",
            "Epoch 14/20\n",
            " - 25s - loss: 0.3017 - accuracy: 0.8751\n",
            "Epoch 15/20\n",
            " - 25s - loss: 0.2935 - accuracy: 0.8811\n",
            "Epoch 16/20\n",
            " - 25s - loss: 0.2751 - accuracy: 0.8883\n",
            "Epoch 17/20\n",
            " - 26s - loss: 0.2665 - accuracy: 0.8917\n",
            "Epoch 18/20\n",
            " - 26s - loss: 0.2626 - accuracy: 0.8925\n",
            "Epoch 19/20\n",
            " - 26s - loss: 0.2574 - accuracy: 0.8952\n",
            "Epoch 20/20\n",
            " - 26s - loss: 0.2397 - accuracy: 0.9005\n",
            "1.7702173299276969\n",
            "0.6496286392211914\n",
            "['loss', 'accuracy']\n"
          ],
          "name": "stdout"
        }
      ]
    },
    {
      "cell_type": "markdown",
      "metadata": {
        "id": "82s0mXarfe_j",
        "colab_type": "text"
      },
      "source": [
        "MODEL SAVED\n"
      ]
    },
    {
      "cell_type": "code",
      "metadata": {
        "id": "XawRD7mre-Gr",
        "colab_type": "code",
        "colab": {}
      },
      "source": [
        "model.save(\"model.h5\")"
      ],
      "execution_count": 0,
      "outputs": []
    },
    {
      "cell_type": "markdown",
      "metadata": {
        "id": "9VYze5c8fkYi",
        "colab_type": "text"
      },
      "source": [
        "EXTRACTING MODEL"
      ]
    },
    {
      "cell_type": "code",
      "metadata": {
        "id": "McmNXtB_fTGv",
        "colab_type": "code",
        "colab": {
          "base_uri": "https://localhost:8080/",
          "height": 72
        },
        "outputId": "4c45d817-423b-4964-b355-73894ef8276b"
      },
      "source": [
        "from keras.models import load_model\n",
        "model_save= load_model('/content/model.h5')"
      ],
      "execution_count": 80,
      "outputs": [
        {
          "output_type": "stream",
          "text": [
            "/usr/local/lib/python3.6/dist-packages/tensorflow/python/framework/indexed_slices.py:434: UserWarning: Converting sparse IndexedSlices to a dense Tensor of unknown shape. This may consume a large amount of memory.\n",
            "  \"Converting sparse IndexedSlices to a dense Tensor of unknown shape. \"\n"
          ],
          "name": "stderr"
        }
      ]
    },
    {
      "cell_type": "markdown",
      "metadata": {
        "id": "pCHXfNNWftQE",
        "colab_type": "text"
      },
      "source": [
        "PREDICTING GIVEN RESULTS\n"
      ]
    },
    {
      "cell_type": "code",
      "metadata": {
        "id": "UQSwAXYoXh26",
        "colab_type": "code",
        "colab": {
          "base_uri": "https://localhost:8080/",
          "height": 35
        },
        "outputId": "449ff2c0-678c-4d15-f91c-ff4ac4a9dd99"
      },
      "source": [
        "\n",
        "import numpy as np\n",
        "sentence = ['A lot of good things are happening. We are respected again throughout the world, and that is a great thing']\n",
        "#vectorizing the tweet by the pre-fitted tokenizer instance\n",
        "sentence = tokenizer.texts_to_sequences(sentence)\n",
        "#padding the tweet to have exactly the same shape as `embedding_2` input\n",
        "sentence = pad_sequences(sentence, maxlen=28, dtype='int32', value=0)\n",
        "\n",
        "sentiment = model_save.predict_classes(sentence,batch_size=1)[0]\n",
        "\n",
        "\n",
        "if sentiment == 0:\n",
        "  print(\"negative\")\n",
        "elif sentiment==1:\n",
        "     print(\"neutral\")\n",
        "else:\n",
        "        print(\"positve\")\n"
      ],
      "execution_count": 81,
      "outputs": [
        {
          "output_type": "stream",
          "text": [
            "positve\n"
          ],
          "name": "stdout"
        }
      ]
    },
    {
      "cell_type": "markdown",
      "metadata": {
        "id": "cFVsveKTfyhq",
        "colab_type": "text"
      },
      "source": [
        "2.GRID SEARCH\n"
      ]
    },
    {
      "cell_type": "code",
      "metadata": {
        "id": "hDBC2osdeQsv",
        "colab_type": "code",
        "colab": {
          "base_uri": "https://localhost:8080/",
          "height": 1000
        },
        "outputId": "1324d7af-2cf6-4d1c-9b07-4d377c06586c"
      },
      "source": [
        "from sklearn.model_selection import GridSearchCV\n",
        "from keras.wrappers.scikit_learn import KerasClassifier\n",
        "# model = createmodel()\n",
        "model = KerasClassifier(build_fn=createmodel,verbose=2)\n",
        "batch_size= [40, 50, 60]\n",
        "epochs = [1, 2, 3]\n",
        "param_grid= dict(batch_size=batch_size, epochs=epochs)\n",
        "grid  = GridSearchCV(estimator=model, param_grid=param_grid)\n",
        "grid_result= grid.fit(X_train, y=Y_train)\n",
        "# summarize results\n",
        "print(\"Best: %f using %s\" % (grid_result.best_score_, grid_result.best_params_))"
      ],
      "execution_count": 113,
      "outputs": [
        {
          "output_type": "stream",
          "text": [
            "/usr/local/lib/python3.6/dist-packages/tensorflow/python/framework/indexed_slices.py:434: UserWarning: Converting sparse IndexedSlices to a dense Tensor of unknown shape. This may consume a large amount of memory.\n",
            "  \"Converting sparse IndexedSlices to a dense Tensor of unknown shape. \"\n"
          ],
          "name": "stderr"
        },
        {
          "output_type": "stream",
          "text": [
            "Epoch 1/1\n",
            " - 19s - loss: 0.8547 - accuracy: 0.6318\n",
            "Epoch 1/1\n",
            " - 19s - loss: 0.8521 - accuracy: 0.6321\n",
            "Epoch 1/1\n",
            " - 19s - loss: 0.8511 - accuracy: 0.6340\n",
            "Epoch 1/1\n",
            " - 18s - loss: 0.8486 - accuracy: 0.6328\n",
            "Epoch 1/1\n",
            " - 18s - loss: 0.8477 - accuracy: 0.6355\n",
            "Epoch 1/2\n",
            " - 18s - loss: 0.8436 - accuracy: 0.6329\n",
            "Epoch 2/2\n",
            " - 18s - loss: 0.7006 - accuracy: 0.6991\n",
            "Epoch 1/2\n",
            " - 18s - loss: 0.8491 - accuracy: 0.6349\n",
            "Epoch 2/2\n",
            " - 18s - loss: 0.7043 - accuracy: 0.7027\n",
            "Epoch 1/2\n",
            " - 18s - loss: 0.8558 - accuracy: 0.6340\n",
            "Epoch 2/2\n",
            " - 18s - loss: 0.7038 - accuracy: 0.7035\n",
            "Epoch 1/2\n",
            " - 18s - loss: 0.8517 - accuracy: 0.6362\n",
            "Epoch 2/2\n",
            " - 18s - loss: 0.6961 - accuracy: 0.7017\n",
            "Epoch 1/2\n",
            " - 18s - loss: 0.8550 - accuracy: 0.6343\n",
            "Epoch 2/2\n",
            " - 18s - loss: 0.6869 - accuracy: 0.7059\n",
            "Epoch 1/3\n",
            " - 18s - loss: 0.8516 - accuracy: 0.6334\n",
            "Epoch 2/3\n",
            " - 18s - loss: 0.7030 - accuracy: 0.7008\n",
            "Epoch 3/3\n",
            " - 17s - loss: 0.6265 - accuracy: 0.7341\n",
            "Epoch 1/3\n",
            " - 18s - loss: 0.8442 - accuracy: 0.6349\n",
            "Epoch 2/3\n",
            " - 18s - loss: 0.7029 - accuracy: 0.6976\n",
            "Epoch 3/3\n",
            " - 18s - loss: 0.6226 - accuracy: 0.7333\n",
            "Epoch 1/3\n",
            " - 18s - loss: 0.8501 - accuracy: 0.6321\n",
            "Epoch 2/3\n",
            " - 18s - loss: 0.6898 - accuracy: 0.7031\n",
            "Epoch 3/3\n",
            " - 18s - loss: 0.6194 - accuracy: 0.7370\n",
            "Epoch 1/3\n",
            " - 18s - loss: 0.8493 - accuracy: 0.6308\n",
            "Epoch 2/3\n",
            " - 18s - loss: 0.6959 - accuracy: 0.7003\n",
            "Epoch 3/3\n",
            " - 18s - loss: 0.6126 - accuracy: 0.7430\n",
            "Epoch 1/3\n",
            " - 21s - loss: 0.8504 - accuracy: 0.6325\n",
            "Epoch 2/3\n",
            " - 18s - loss: 0.6899 - accuracy: 0.7045\n",
            "Epoch 3/3\n",
            " - 18s - loss: 0.6115 - accuracy: 0.7469\n",
            "Epoch 1/1\n",
            " - 16s - loss: 0.8588 - accuracy: 0.6320\n",
            "Epoch 1/1\n",
            " - 17s - loss: 0.8479 - accuracy: 0.6364\n",
            "Epoch 1/1\n",
            " - 17s - loss: 0.8718 - accuracy: 0.6246\n",
            "Epoch 1/1\n",
            " - 16s - loss: 0.8585 - accuracy: 0.6286\n",
            "Epoch 1/1\n",
            " - 17s - loss: 0.8538 - accuracy: 0.6272\n",
            "Epoch 1/2\n",
            " - 16s - loss: 0.8582 - accuracy: 0.6325\n",
            "Epoch 2/2\n",
            " - 16s - loss: 0.7077 - accuracy: 0.7016\n",
            "Epoch 1/2\n",
            " - 16s - loss: 0.8572 - accuracy: 0.6329\n",
            "Epoch 2/2\n",
            " - 16s - loss: 0.7029 - accuracy: 0.6980\n",
            "Epoch 1/2\n",
            " - 16s - loss: 0.8599 - accuracy: 0.6293\n",
            "Epoch 2/2\n",
            " - 16s - loss: 0.7027 - accuracy: 0.7022\n",
            "Epoch 1/2\n",
            " - 16s - loss: 0.8638 - accuracy: 0.6278\n",
            "Epoch 2/2\n",
            " - 16s - loss: 0.7088 - accuracy: 0.7010\n",
            "Epoch 1/2\n",
            " - 16s - loss: 0.8592 - accuracy: 0.6292\n",
            "Epoch 2/2\n",
            " - 16s - loss: 0.6963 - accuracy: 0.7017\n",
            "Epoch 1/3\n",
            " - 16s - loss: 0.8629 - accuracy: 0.6248\n",
            "Epoch 2/3\n",
            " - 16s - loss: 0.7026 - accuracy: 0.7016\n",
            "Epoch 3/3\n",
            " - 16s - loss: 0.6222 - accuracy: 0.7404\n",
            "Epoch 1/3\n",
            " - 16s - loss: 0.8548 - accuracy: 0.6328\n",
            "Epoch 2/3\n",
            " - 16s - loss: 0.7076 - accuracy: 0.7000\n",
            "Epoch 3/3\n",
            " - 16s - loss: 0.6279 - accuracy: 0.7366\n",
            "Epoch 1/3\n",
            " - 17s - loss: 0.8602 - accuracy: 0.6321\n",
            "Epoch 2/3\n",
            " - 16s - loss: 0.6989 - accuracy: 0.7046\n",
            "Epoch 3/3\n",
            " - 16s - loss: 0.6210 - accuracy: 0.7370\n",
            "Epoch 1/3\n",
            " - 17s - loss: 0.8519 - accuracy: 0.6323\n",
            "Epoch 2/3\n",
            " - 16s - loss: 0.6980 - accuracy: 0.6999\n",
            "Epoch 3/3\n",
            " - 16s - loss: 0.6232 - accuracy: 0.7318\n",
            "Epoch 1/3\n",
            " - 16s - loss: 0.8556 - accuracy: 0.6328\n",
            "Epoch 2/3\n",
            " - 16s - loss: 0.6875 - accuracy: 0.7064\n",
            "Epoch 3/3\n",
            " - 16s - loss: 0.6132 - accuracy: 0.7395\n",
            "Epoch 1/1\n",
            " - 17s - loss: 0.8636 - accuracy: 0.6283\n",
            "Epoch 1/1\n",
            " - 16s - loss: 0.8665 - accuracy: 0.6303\n",
            "Epoch 1/1\n",
            " - 16s - loss: 0.8676 - accuracy: 0.6228\n",
            "Epoch 1/1\n",
            " - 16s - loss: 0.8694 - accuracy: 0.6254\n",
            "Epoch 1/1\n",
            " - 16s - loss: 0.8748 - accuracy: 0.6225\n",
            "Epoch 1/2\n",
            " - 16s - loss: 0.8710 - accuracy: 0.6297\n",
            "Epoch 2/2\n",
            " - 15s - loss: 0.7188 - accuracy: 0.6920\n",
            "Epoch 1/2\n",
            " - 16s - loss: 0.8583 - accuracy: 0.6316\n",
            "Epoch 2/2\n",
            " - 15s - loss: 0.7014 - accuracy: 0.6979\n",
            "Epoch 1/2\n",
            " - 16s - loss: 0.8723 - accuracy: 0.6204\n",
            "Epoch 2/2\n",
            " - 15s - loss: 0.7039 - accuracy: 0.6967\n",
            "Epoch 1/2\n",
            " - 16s - loss: 0.8627 - accuracy: 0.6285\n",
            "Epoch 2/2\n",
            " - 16s - loss: 0.7159 - accuracy: 0.6993\n",
            "Epoch 1/2\n",
            " - 16s - loss: 0.8568 - accuracy: 0.6299\n",
            "Epoch 2/2\n",
            " - 15s - loss: 0.6959 - accuracy: 0.7053\n",
            "Epoch 1/3\n",
            " - 16s - loss: 0.8693 - accuracy: 0.6254\n",
            "Epoch 2/3\n",
            " - 16s - loss: 0.7177 - accuracy: 0.6916\n",
            "Epoch 3/3\n",
            " - 15s - loss: 0.6335 - accuracy: 0.7339\n",
            "Epoch 1/3\n",
            " - 16s - loss: 0.8580 - accuracy: 0.6258\n",
            "Epoch 2/3\n",
            " - 15s - loss: 0.7098 - accuracy: 0.6956\n",
            "Epoch 3/3\n",
            " - 15s - loss: 0.6255 - accuracy: 0.7357\n",
            "Epoch 1/3\n",
            " - 16s - loss: 0.8636 - accuracy: 0.6258\n",
            "Epoch 2/3\n",
            " - 15s - loss: 0.7042 - accuracy: 0.6957\n",
            "Epoch 3/3\n",
            " - 15s - loss: 0.6238 - accuracy: 0.7381\n",
            "Epoch 1/3\n",
            " - 16s - loss: 0.8655 - accuracy: 0.6280\n",
            "Epoch 2/3\n",
            " - 15s - loss: 0.7076 - accuracy: 0.6994\n",
            "Epoch 3/3\n",
            " - 15s - loss: 0.6327 - accuracy: 0.7286\n",
            "Epoch 1/3\n",
            " - 16s - loss: 0.8618 - accuracy: 0.6266\n",
            "Epoch 2/3\n",
            " - 15s - loss: 0.7060 - accuracy: 0.6972\n",
            "Epoch 3/3\n",
            " - 16s - loss: 0.6194 - accuracy: 0.7380\n",
            "Epoch 1/2\n",
            " - 20s - loss: 0.8371 - accuracy: 0.6370\n",
            "Epoch 2/2\n",
            " - 20s - loss: 0.6847 - accuracy: 0.7075\n",
            "Best: 0.680404 using {'batch_size': 50, 'epochs': 2}\n"
          ],
          "name": "stdout"
        }
      ]
    },
    {
      "cell_type": "markdown",
      "metadata": {
        "id": "4T-FbKuJDIRt",
        "colab_type": "text"
      },
      "source": [
        "3. Text Classification On spam.csv"
      ]
    },
    {
      "cell_type": "code",
      "metadata": {
        "id": "yjd_EFgSqLHg",
        "colab_type": "code",
        "colab": {}
      },
      "source": [
        "data1 = pd.read_csv('/content/spam.csv',encoding=\"ISO-8859-1\")\n",
        "\n",
        "# Keeping only the neccessary columns\n",
        "data1 = data1[['v1','v2']]"
      ],
      "execution_count": 0,
      "outputs": []
    },
    {
      "cell_type": "code",
      "metadata": {
        "colab_type": "code",
        "id": "605VK0jaqdHq",
        "colab": {}
      },
      "source": [
        "data1['v2'] = data1['v2'].apply(lambda x: x.lower())\n",
        "data1['v2'] = data1['v2'].apply((lambda x: re.sub('[^a-zA-z0-9\\s]', '', x)))"
      ],
      "execution_count": 0,
      "outputs": []
    },
    {
      "cell_type": "code",
      "metadata": {
        "colab_type": "code",
        "id": "xrsI0e8XqlxX",
        "colab": {}
      },
      "source": [
        "for idx, row in data1.iterrows():\n",
        "    row[0] = row[0].replace('rt', ' ')"
      ],
      "execution_count": 0,
      "outputs": []
    },
    {
      "cell_type": "code",
      "metadata": {
        "colab_type": "code",
        "id": "59ZTlMGjqql5",
        "colab": {}
      },
      "source": [
        "max_fatures = 2000\n",
        "tokenizer = Tokenizer(num_words=max_fatures, split=' ')\n",
        "tokenizer.fit_on_texts(data1['v2'].values)\n",
        "X = tokenizer.texts_to_sequences(data1['v2'].values)\n",
        "\n",
        "X = pad_sequences(X)"
      ],
      "execution_count": 0,
      "outputs": []
    },
    {
      "cell_type": "code",
      "metadata": {
        "colab_type": "code",
        "id": "pXLeBMzgq74E",
        "colab": {}
      },
      "source": [
        "labelencoder = LabelEncoder()\n",
        "integer_encoded = labelencoder.fit_transform(data1['v1'])\n",
        "y = to_categorical(integer_encoded)\n",
        "X_train, X_test, Y_train, Y_test = train_test_split(X,y, test_size = 0.33, random_state = 42)"
      ],
      "execution_count": 0,
      "outputs": []
    },
    {
      "cell_type": "code",
      "metadata": {
        "id": "Xw72dprwBk5k",
        "colab_type": "code",
        "colab": {}
      },
      "source": [
        "def createmodel1():\n",
        "  embed_dim=128\n",
        "  lstm_out=196\n",
        "  model = Sequential()\n",
        "  model.add(Embedding(max_fatures, embed_dim,input_length = X.shape[1]))\n",
        "  model.add(LSTM(lstm_out, dropout=0.2, recurrent_dropout=0.2))\n",
        "  model.add(Dense(2,activation='softmax'))\n",
        "  model.compile(loss = 'categorical_crossentropy', optimizer='adam',metrics = ['accuracy'])\n",
        "  return model"
      ],
      "execution_count": 0,
      "outputs": []
    },
    {
      "cell_type": "code",
      "metadata": {
        "colab_type": "code",
        "outputId": "7953f2e4-fa9b-4737-e9b1-ea5a55726688",
        "id": "l7_iV3ugrCXk",
        "colab": {
          "base_uri": "https://localhost:8080/",
          "height": 304
        }
      },
      "source": [
        "batch_size = 32\n",
        "model1 = createmodel1()\n",
        "model1.fit(X_train, Y_train, epochs = 5, batch_size=batch_size, verbose = 2)\n",
        "score,acc = model1.evaluate(X_test,Y_test,verbose=2,batch_size=batch_size)\n",
        "print(score)\n",
        "print(acc)\n",
        "print(model1.metrics_names)"
      ],
      "execution_count": 128,
      "outputs": [
        {
          "output_type": "stream",
          "text": [
            "/usr/local/lib/python3.6/dist-packages/tensorflow/python/framework/indexed_slices.py:434: UserWarning: Converting sparse IndexedSlices to a dense Tensor of unknown shape. This may consume a large amount of memory.\n",
            "  \"Converting sparse IndexedSlices to a dense Tensor of unknown shape. \"\n"
          ],
          "name": "stderr"
        },
        {
          "output_type": "stream",
          "text": [
            "Epoch 1/5\n",
            " - 53s - loss: 0.1708 - accuracy: 0.9387\n",
            "Epoch 2/5\n",
            " - 56s - loss: 0.0414 - accuracy: 0.9863\n",
            "Epoch 3/5\n",
            " - 52s - loss: 0.0207 - accuracy: 0.9928\n",
            "Epoch 4/5\n",
            " - 52s - loss: 0.0109 - accuracy: 0.9965\n",
            "Epoch 5/5\n",
            " - 51s - loss: 0.0066 - accuracy: 0.9981\n",
            "0.10051059928637093\n",
            "0.9831430315971375\n",
            "['loss', 'accuracy']\n"
          ],
          "name": "stdout"
        }
      ]
    }
  ]
}