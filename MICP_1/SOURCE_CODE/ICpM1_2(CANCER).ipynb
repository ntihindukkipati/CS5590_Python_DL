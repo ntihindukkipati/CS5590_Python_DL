{
  "nbformat": 4,
  "nbformat_minor": 0,
  "metadata": {
    "colab": {
      "name": "ICpM1_2.ipynb",
      "provenance": []
    },
    "kernelspec": {
      "name": "python3",
      "display_name": "Python 3"
    }
  },
  "cells": [
    {
      "cell_type": "code",
      "metadata": {
        "id": "IhMSv_Mm3JPt",
        "colab_type": "code",
        "colab": {
          "base_uri": "https://localhost:8080/",
          "height": 82
        },
        "outputId": "c3241266-9827-4fa9-abfd-362941ff407e"
      },
      "source": [
        "import pandas\n",
        "from keras.models import Sequential\n",
        "from keras.layers.core import Dense, Activation\n",
        "\n",
        "# load dataset\n",
        "from sklearn.model_selection import train_test_split\n",
        "import pandas as pd\n",
        "import numpy as np"
      ],
      "execution_count": 2,
      "outputs": [
        {
          "output_type": "stream",
          "text": [
            "Using TensorFlow backend.\n"
          ],
          "name": "stderr"
        },
        {
          "output_type": "display_data",
          "data": {
            "text/html": [
              "<p style=\"color: red;\">\n",
              "The default version of TensorFlow in Colab will soon switch to TensorFlow 2.x.<br>\n",
              "We recommend you <a href=\"https://www.tensorflow.org/guide/migrate\" target=\"_blank\">upgrade</a> now \n",
              "or ensure your notebook will continue to use TensorFlow 1.x via the <code>%tensorflow_version 1.x</code> magic:\n",
              "<a href=\"https://colab.research.google.com/notebooks/tensorflow_version.ipynb\" target=\"_blank\">more info</a>.</p>\n"
            ],
            "text/plain": [
              "<IPython.core.display.HTML object>"
            ]
          },
          "metadata": {
            "tags": []
          }
        }
      ]
    },
    {
      "cell_type": "code",
      "metadata": {
        "id": "K0dAj4Wx3Vrs",
        "colab_type": "code",
        "colab": {
          "base_uri": "https://localhost:8080/",
          "height": 126
        },
        "outputId": "34db4ea9-6215-41ef-c285-d421851b9348"
      },
      "source": [
        "from google.colab import drive\n",
        "drive.mount('/content/drive')"
      ],
      "execution_count": 1,
      "outputs": [
        {
          "output_type": "stream",
          "text": [
            "Go to this URL in a browser: https://accounts.google.com/o/oauth2/auth?client_id=947318989803-6bn6qk8qdgf4n4g3pfee6491hc0brc4i.apps.googleusercontent.com&redirect_uri=urn%3aietf%3awg%3aoauth%3a2.0%3aoob&response_type=code&scope=email%20https%3a%2f%2fwww.googleapis.com%2fauth%2fdocs.test%20https%3a%2f%2fwww.googleapis.com%2fauth%2fdrive%20https%3a%2f%2fwww.googleapis.com%2fauth%2fdrive.photos.readonly%20https%3a%2f%2fwww.googleapis.com%2fauth%2fpeopleapi.readonly\n",
            "\n",
            "Enter your authorization code:\n",
            "··········\n",
            "Mounted at /content/drive\n"
          ],
          "name": "stdout"
        }
      ]
    },
    {
      "cell_type": "code",
      "metadata": {
        "id": "go7Mkb4m3Yqy",
        "colab_type": "code",
        "colab": {}
      },
      "source": [
        "dataset = pd.read_csv(\"/content/drive/My Drive/Colab Notebooks/breastcancer.csv\").values"
      ],
      "execution_count": 0,
      "outputs": []
    },
    {
      "cell_type": "code",
      "metadata": {
        "id": "wZnIiZBn4Vau",
        "colab_type": "code",
        "colab": {}
      },
      "source": [
        "from sklearn import preprocessing\n",
        "le = preprocessing.LabelEncoder()\n",
        "le.fit(dataset[:,1])\n",
        "\n",
        "dataset[:,1] = le.transform(dataset[:,1])\n",
        "\n",
        "mapping = {'M': 1, 'B': 2}"
      ],
      "execution_count": 0,
      "outputs": []
    },
    {
      "cell_type": "code",
      "metadata": {
        "id": "iHSl4_T2CfV_",
        "colab_type": "code",
        "outputId": "51ab8e3f-b6a5-4ba5-af6d-c9fb883735b2",
        "colab": {
          "base_uri": "https://localhost:8080/",
          "height": 106
        }
      },
      "source": [
        "# Standardize features by removing the mean and scaling to unit variance\n",
        "from sklearn.preprocessing import StandardScaler\n",
        "sc = StandardScaler()\n",
        "print (sc.fit(dataset))"
      ],
      "execution_count": 57,
      "outputs": [
        {
          "output_type": "stream",
          "text": [
            "StandardScaler(copy=True, with_mean=True, with_std=True)\n"
          ],
          "name": "stdout"
        },
        {
          "output_type": "stream",
          "text": [
            "/usr/local/lib/python3.6/dist-packages/sklearn/utils/extmath.py:765: RuntimeWarning: invalid value encountered in true_divide\n",
            "  updated_mean = (last_sum + new_sum) / updated_sample_count\n",
            "/usr/local/lib/python3.6/dist-packages/sklearn/utils/extmath.py:706: RuntimeWarning: Degrees of freedom <= 0 for slice.\n",
            "  result = op(x, *args, **kwargs)\n"
          ],
          "name": "stderr"
        }
      ]
    },
    {
      "cell_type": "code",
      "metadata": {
        "id": "YKXGBJC13c5l",
        "colab_type": "code",
        "colab": {}
      },
      "source": [
        " X_train, X_test, Y_train, Y_test = train_test_split(dataset[:,2:31], dataset[:,1],test_size=0.25, random_state=87)                                                   "
      ],
      "execution_count": 0,
      "outputs": []
    },
    {
      "cell_type": "code",
      "metadata": {
        "id": "3LjAE5gN3jcq",
        "colab_type": "code",
        "colab": {
          "base_uri": "https://localhost:8080/",
          "height": 1000
        },
        "outputId": "275e224f-130e-406d-b2a1-0aaffbd3a784"
      },
      "source": [
        "my_first_nn = Sequential() # create model\n",
        "my_first_nn.add(Dense(50, input_dim=29, activation='relu')) # hidden layer\n",
        "my_first_nn.add(Dense(1, activation='sigmoid')) # output layer\n",
        "my_first_nn.compile(loss='binary_crossentropy', optimizer='adam', metrics=['acc'])\n",
        "my_first_nn_fitted = my_first_nn.fit(X_train, Y_train, epochs=100,initial_epoch=0)"
      ],
      "execution_count": 63,
      "outputs": [
        {
          "output_type": "stream",
          "text": [
            "Epoch 1/100\n",
            "426/426 [==============================] - 0s 688us/step - loss: 6.1294 - acc: 0.6197\n",
            "Epoch 2/100\n",
            "426/426 [==============================] - 0s 58us/step - loss: 6.1294 - acc: 0.6197\n",
            "Epoch 3/100\n",
            "426/426 [==============================] - 0s 56us/step - loss: 6.1294 - acc: 0.6197\n",
            "Epoch 4/100\n",
            "426/426 [==============================] - 0s 54us/step - loss: 6.1294 - acc: 0.6197\n",
            "Epoch 5/100\n",
            "426/426 [==============================] - 0s 54us/step - loss: 6.1294 - acc: 0.6197\n",
            "Epoch 6/100\n",
            "426/426 [==============================] - 0s 57us/step - loss: 6.1294 - acc: 0.6197\n",
            "Epoch 7/100\n",
            "426/426 [==============================] - 0s 79us/step - loss: 6.1294 - acc: 0.6197\n",
            "Epoch 8/100\n",
            "426/426 [==============================] - 0s 62us/step - loss: 6.1294 - acc: 0.6197\n",
            "Epoch 9/100\n",
            "426/426 [==============================] - 0s 65us/step - loss: 6.1294 - acc: 0.6197\n",
            "Epoch 10/100\n",
            "426/426 [==============================] - 0s 53us/step - loss: 6.1294 - acc: 0.6197\n",
            "Epoch 11/100\n",
            "426/426 [==============================] - 0s 64us/step - loss: 6.1294 - acc: 0.6197\n",
            "Epoch 12/100\n",
            "426/426 [==============================] - 0s 61us/step - loss: 6.1294 - acc: 0.6197\n",
            "Epoch 13/100\n",
            "426/426 [==============================] - 0s 58us/step - loss: 6.1294 - acc: 0.6197\n",
            "Epoch 14/100\n",
            "426/426 [==============================] - 0s 81us/step - loss: 6.1294 - acc: 0.6197\n",
            "Epoch 15/100\n",
            "426/426 [==============================] - 0s 64us/step - loss: 6.1294 - acc: 0.6197\n",
            "Epoch 16/100\n",
            "426/426 [==============================] - 0s 73us/step - loss: 6.1294 - acc: 0.6197\n",
            "Epoch 17/100\n",
            "426/426 [==============================] - 0s 56us/step - loss: 6.1294 - acc: 0.6197\n",
            "Epoch 18/100\n",
            "426/426 [==============================] - 0s 65us/step - loss: 6.1294 - acc: 0.6197\n",
            "Epoch 19/100\n",
            "426/426 [==============================] - 0s 66us/step - loss: 6.1294 - acc: 0.6197\n",
            "Epoch 20/100\n",
            "426/426 [==============================] - 0s 55us/step - loss: 6.1294 - acc: 0.6197\n",
            "Epoch 21/100\n",
            "426/426 [==============================] - 0s 49us/step - loss: 6.1294 - acc: 0.6197\n",
            "Epoch 22/100\n",
            "426/426 [==============================] - 0s 74us/step - loss: 6.1294 - acc: 0.6197\n",
            "Epoch 23/100\n",
            "426/426 [==============================] - 0s 51us/step - loss: 6.1294 - acc: 0.6197\n",
            "Epoch 24/100\n",
            "426/426 [==============================] - 0s 56us/step - loss: 6.1294 - acc: 0.6197\n",
            "Epoch 25/100\n",
            "426/426 [==============================] - 0s 57us/step - loss: 6.1294 - acc: 0.6197\n",
            "Epoch 26/100\n",
            "426/426 [==============================] - 0s 73us/step - loss: 6.1294 - acc: 0.6197\n",
            "Epoch 27/100\n",
            "426/426 [==============================] - 0s 70us/step - loss: 6.1294 - acc: 0.6197\n",
            "Epoch 28/100\n",
            "426/426 [==============================] - 0s 70us/step - loss: 6.1294 - acc: 0.6197\n",
            "Epoch 29/100\n",
            "426/426 [==============================] - 0s 50us/step - loss: 6.1294 - acc: 0.6197\n",
            "Epoch 30/100\n",
            "426/426 [==============================] - 0s 77us/step - loss: 6.1294 - acc: 0.6197\n",
            "Epoch 31/100\n",
            "426/426 [==============================] - 0s 56us/step - loss: 6.1294 - acc: 0.6197\n",
            "Epoch 32/100\n",
            "426/426 [==============================] - 0s 57us/step - loss: 6.1294 - acc: 0.6197\n",
            "Epoch 33/100\n",
            "426/426 [==============================] - 0s 60us/step - loss: 6.1294 - acc: 0.6197\n",
            "Epoch 34/100\n",
            "426/426 [==============================] - 0s 61us/step - loss: 6.1294 - acc: 0.6197\n",
            "Epoch 35/100\n",
            "426/426 [==============================] - 0s 59us/step - loss: 6.1294 - acc: 0.6197\n",
            "Epoch 36/100\n",
            "426/426 [==============================] - 0s 56us/step - loss: 6.1294 - acc: 0.6197\n",
            "Epoch 37/100\n",
            "426/426 [==============================] - 0s 71us/step - loss: 6.1294 - acc: 0.6197\n",
            "Epoch 38/100\n",
            "426/426 [==============================] - 0s 64us/step - loss: 6.1294 - acc: 0.6197\n",
            "Epoch 39/100\n",
            "426/426 [==============================] - 0s 62us/step - loss: 6.1294 - acc: 0.6197\n",
            "Epoch 40/100\n",
            "426/426 [==============================] - 0s 54us/step - loss: 6.1294 - acc: 0.6197\n",
            "Epoch 41/100\n",
            "426/426 [==============================] - 0s 73us/step - loss: 6.1294 - acc: 0.6197\n",
            "Epoch 42/100\n",
            "426/426 [==============================] - 0s 62us/step - loss: 6.1294 - acc: 0.6197\n",
            "Epoch 43/100\n",
            "426/426 [==============================] - 0s 55us/step - loss: 6.1294 - acc: 0.6197\n",
            "Epoch 44/100\n",
            "426/426 [==============================] - 0s 62us/step - loss: 6.1294 - acc: 0.6197\n",
            "Epoch 45/100\n",
            "426/426 [==============================] - 0s 60us/step - loss: 6.1294 - acc: 0.6197\n",
            "Epoch 46/100\n",
            "426/426 [==============================] - 0s 64us/step - loss: 6.1294 - acc: 0.6197\n",
            "Epoch 47/100\n",
            "426/426 [==============================] - 0s 67us/step - loss: 6.1294 - acc: 0.6197\n",
            "Epoch 48/100\n",
            "426/426 [==============================] - 0s 61us/step - loss: 6.1294 - acc: 0.6197\n",
            "Epoch 49/100\n",
            "426/426 [==============================] - 0s 68us/step - loss: 6.1294 - acc: 0.6197\n",
            "Epoch 50/100\n",
            "426/426 [==============================] - 0s 56us/step - loss: 6.1294 - acc: 0.6197\n",
            "Epoch 51/100\n",
            "426/426 [==============================] - 0s 54us/step - loss: 6.1294 - acc: 0.6197\n",
            "Epoch 52/100\n",
            "426/426 [==============================] - 0s 62us/step - loss: 6.1294 - acc: 0.6197\n",
            "Epoch 53/100\n",
            "426/426 [==============================] - 0s 65us/step - loss: 6.1294 - acc: 0.6197\n",
            "Epoch 54/100\n",
            "426/426 [==============================] - 0s 58us/step - loss: 6.1294 - acc: 0.6197\n",
            "Epoch 55/100\n",
            "426/426 [==============================] - 0s 65us/step - loss: 6.1294 - acc: 0.6197\n",
            "Epoch 56/100\n",
            "426/426 [==============================] - 0s 67us/step - loss: 6.1294 - acc: 0.6197\n",
            "Epoch 57/100\n",
            "426/426 [==============================] - 0s 62us/step - loss: 6.1294 - acc: 0.6197\n",
            "Epoch 58/100\n",
            "426/426 [==============================] - 0s 60us/step - loss: 6.1294 - acc: 0.6197\n",
            "Epoch 59/100\n",
            "426/426 [==============================] - 0s 57us/step - loss: 6.1294 - acc: 0.6197\n",
            "Epoch 60/100\n",
            "426/426 [==============================] - 0s 67us/step - loss: 6.1294 - acc: 0.6197\n",
            "Epoch 61/100\n",
            "426/426 [==============================] - 0s 70us/step - loss: 6.1294 - acc: 0.6197\n",
            "Epoch 62/100\n",
            "426/426 [==============================] - 0s 59us/step - loss: 6.1294 - acc: 0.6197\n",
            "Epoch 63/100\n",
            "426/426 [==============================] - 0s 60us/step - loss: 6.1294 - acc: 0.6197\n",
            "Epoch 64/100\n",
            "426/426 [==============================] - 0s 68us/step - loss: 6.1294 - acc: 0.6197\n",
            "Epoch 65/100\n",
            "426/426 [==============================] - 0s 65us/step - loss: 6.1294 - acc: 0.6197\n",
            "Epoch 66/100\n",
            "426/426 [==============================] - 0s 53us/step - loss: 6.1294 - acc: 0.6197\n",
            "Epoch 67/100\n",
            "426/426 [==============================] - 0s 61us/step - loss: 6.1294 - acc: 0.6197\n",
            "Epoch 68/100\n",
            "426/426 [==============================] - 0s 70us/step - loss: 6.1294 - acc: 0.6197\n",
            "Epoch 69/100\n",
            "426/426 [==============================] - 0s 76us/step - loss: 6.1294 - acc: 0.6197\n",
            "Epoch 70/100\n",
            "426/426 [==============================] - 0s 67us/step - loss: 6.1294 - acc: 0.6197\n",
            "Epoch 71/100\n",
            "426/426 [==============================] - 0s 62us/step - loss: 6.1294 - acc: 0.6197\n",
            "Epoch 72/100\n",
            "426/426 [==============================] - 0s 75us/step - loss: 6.1294 - acc: 0.6197\n",
            "Epoch 73/100\n",
            "426/426 [==============================] - 0s 63us/step - loss: 6.1294 - acc: 0.6197\n",
            "Epoch 74/100\n",
            "426/426 [==============================] - 0s 65us/step - loss: 6.1294 - acc: 0.6197\n",
            "Epoch 75/100\n",
            "426/426 [==============================] - 0s 93us/step - loss: 6.1294 - acc: 0.6197\n",
            "Epoch 76/100\n",
            "426/426 [==============================] - 0s 73us/step - loss: 6.1294 - acc: 0.6197\n",
            "Epoch 77/100\n",
            "426/426 [==============================] - 0s 79us/step - loss: 6.1294 - acc: 0.6197\n",
            "Epoch 78/100\n",
            "426/426 [==============================] - 0s 84us/step - loss: 6.1294 - acc: 0.6197\n",
            "Epoch 79/100\n",
            "426/426 [==============================] - 0s 77us/step - loss: 6.1294 - acc: 0.6197\n",
            "Epoch 80/100\n",
            "426/426 [==============================] - 0s 65us/step - loss: 6.1294 - acc: 0.6197\n",
            "Epoch 81/100\n",
            "426/426 [==============================] - 0s 56us/step - loss: 6.1294 - acc: 0.6197\n",
            "Epoch 82/100\n",
            "426/426 [==============================] - 0s 61us/step - loss: 6.1294 - acc: 0.6197\n",
            "Epoch 83/100\n",
            "426/426 [==============================] - 0s 61us/step - loss: 6.1294 - acc: 0.6197\n",
            "Epoch 84/100\n",
            "426/426 [==============================] - 0s 57us/step - loss: 6.1294 - acc: 0.6197\n",
            "Epoch 85/100\n",
            "426/426 [==============================] - 0s 57us/step - loss: 6.1294 - acc: 0.6197\n",
            "Epoch 86/100\n",
            "426/426 [==============================] - 0s 66us/step - loss: 6.1294 - acc: 0.6197\n",
            "Epoch 87/100\n",
            "426/426 [==============================] - 0s 58us/step - loss: 6.1294 - acc: 0.6197\n",
            "Epoch 88/100\n",
            "426/426 [==============================] - 0s 63us/step - loss: 6.1294 - acc: 0.6197\n",
            "Epoch 89/100\n",
            "426/426 [==============================] - 0s 53us/step - loss: 6.1294 - acc: 0.6197\n",
            "Epoch 90/100\n",
            "426/426 [==============================] - 0s 56us/step - loss: 6.1294 - acc: 0.6197\n",
            "Epoch 91/100\n",
            "426/426 [==============================] - 0s 62us/step - loss: 6.1294 - acc: 0.6197\n",
            "Epoch 92/100\n",
            "426/426 [==============================] - 0s 79us/step - loss: 6.1294 - acc: 0.6197\n",
            "Epoch 93/100\n",
            "426/426 [==============================] - 0s 69us/step - loss: 6.1294 - acc: 0.6197\n",
            "Epoch 94/100\n",
            "426/426 [==============================] - 0s 73us/step - loss: 6.1294 - acc: 0.6197\n",
            "Epoch 95/100\n",
            "426/426 [==============================] - 0s 63us/step - loss: 6.1294 - acc: 0.6197\n",
            "Epoch 96/100\n",
            "426/426 [==============================] - 0s 59us/step - loss: 6.1294 - acc: 0.6197\n",
            "Epoch 97/100\n",
            "426/426 [==============================] - 0s 58us/step - loss: 6.1294 - acc: 0.6197\n",
            "Epoch 98/100\n",
            "426/426 [==============================] - 0s 65us/step - loss: 6.1294 - acc: 0.6197\n",
            "Epoch 99/100\n",
            "426/426 [==============================] - 0s 57us/step - loss: 6.1294 - acc: 0.6197\n",
            "Epoch 100/100\n",
            "426/426 [==============================] - 0s 57us/step - loss: 6.1294 - acc: 0.6197\n"
          ],
          "name": "stdout"
        }
      ]
    },
    {
      "cell_type": "code",
      "metadata": {
        "id": "UCveo2EHDyp7",
        "colab_type": "code",
        "colab": {
          "base_uri": "https://localhost:8080/",
          "height": 1000
        },
        "outputId": "50224dbd-26b5-4d73-9595-9ea2e26824bc"
      },
      "source": [
        "my_first_nn = Sequential() # create model\n",
        "my_first_nn.add(Dense(50, input_dim=29, activation='relu')) # hidden layer\n",
        "my_first_nn.add(Dense(1, activation='sigmoid')) # output layer\n",
        "my_first_nn.compile(loss='binary_crossentropy', optimizer='rmsprop', metrics=['acc'])\n",
        "my_first_nn_fitted = my_first_nn.fit(X_train, Y_train, epochs=100,initial_epoch=0)"
      ],
      "execution_count": 64,
      "outputs": [
        {
          "output_type": "stream",
          "text": [
            "Epoch 1/100\n",
            "426/426 [==============================] - 0s 679us/step - loss: 9.8798 - acc: 0.3803\n",
            "Epoch 2/100\n",
            "426/426 [==============================] - 0s 48us/step - loss: 9.8798 - acc: 0.3803\n",
            "Epoch 3/100\n",
            "426/426 [==============================] - 0s 56us/step - loss: 9.8798 - acc: 0.3803\n",
            "Epoch 4/100\n",
            "426/426 [==============================] - 0s 53us/step - loss: 9.8798 - acc: 0.3803\n",
            "Epoch 5/100\n",
            "426/426 [==============================] - 0s 61us/step - loss: 9.8798 - acc: 0.3803\n",
            "Epoch 6/100\n",
            "426/426 [==============================] - 0s 50us/step - loss: 9.8798 - acc: 0.3803\n",
            "Epoch 7/100\n",
            "426/426 [==============================] - 0s 66us/step - loss: 9.8798 - acc: 0.3803\n",
            "Epoch 8/100\n",
            "426/426 [==============================] - 0s 50us/step - loss: 9.8798 - acc: 0.3803\n",
            "Epoch 9/100\n",
            "426/426 [==============================] - 0s 64us/step - loss: 9.8798 - acc: 0.3803\n",
            "Epoch 10/100\n",
            "426/426 [==============================] - 0s 49us/step - loss: 9.8798 - acc: 0.3803\n",
            "Epoch 11/100\n",
            "426/426 [==============================] - 0s 56us/step - loss: 9.8798 - acc: 0.3803\n",
            "Epoch 12/100\n",
            "426/426 [==============================] - 0s 61us/step - loss: 9.8798 - acc: 0.3803\n",
            "Epoch 13/100\n",
            "426/426 [==============================] - 0s 62us/step - loss: 9.8798 - acc: 0.3803\n",
            "Epoch 14/100\n",
            "426/426 [==============================] - 0s 66us/step - loss: 9.8798 - acc: 0.3803\n",
            "Epoch 15/100\n",
            "426/426 [==============================] - 0s 69us/step - loss: 9.8798 - acc: 0.3803\n",
            "Epoch 16/100\n",
            "426/426 [==============================] - 0s 62us/step - loss: 9.8798 - acc: 0.3803\n",
            "Epoch 17/100\n",
            "426/426 [==============================] - 0s 51us/step - loss: 9.8798 - acc: 0.3803\n",
            "Epoch 18/100\n",
            "426/426 [==============================] - 0s 51us/step - loss: 9.8798 - acc: 0.3803\n",
            "Epoch 19/100\n",
            "426/426 [==============================] - 0s 58us/step - loss: 9.8798 - acc: 0.3803\n",
            "Epoch 20/100\n",
            "426/426 [==============================] - 0s 54us/step - loss: 9.8798 - acc: 0.3803\n",
            "Epoch 21/100\n",
            "426/426 [==============================] - 0s 58us/step - loss: 9.8798 - acc: 0.3803\n",
            "Epoch 22/100\n",
            "426/426 [==============================] - 0s 54us/step - loss: 9.8798 - acc: 0.3803\n",
            "Epoch 23/100\n",
            "426/426 [==============================] - 0s 60us/step - loss: 9.8798 - acc: 0.3803\n",
            "Epoch 24/100\n",
            "426/426 [==============================] - 0s 51us/step - loss: 9.8798 - acc: 0.3803\n",
            "Epoch 25/100\n",
            "426/426 [==============================] - 0s 57us/step - loss: 9.8798 - acc: 0.3803\n",
            "Epoch 26/100\n",
            "426/426 [==============================] - 0s 57us/step - loss: 9.8798 - acc: 0.3803\n",
            "Epoch 27/100\n",
            "426/426 [==============================] - 0s 59us/step - loss: 9.8798 - acc: 0.3803\n",
            "Epoch 28/100\n",
            "426/426 [==============================] - 0s 61us/step - loss: 9.8798 - acc: 0.3803\n",
            "Epoch 29/100\n",
            "426/426 [==============================] - 0s 57us/step - loss: 9.8798 - acc: 0.3803\n",
            "Epoch 30/100\n",
            "426/426 [==============================] - 0s 62us/step - loss: 9.8798 - acc: 0.3803\n",
            "Epoch 31/100\n",
            "426/426 [==============================] - 0s 61us/step - loss: 9.8798 - acc: 0.3803\n",
            "Epoch 32/100\n",
            "426/426 [==============================] - 0s 56us/step - loss: 9.8798 - acc: 0.3803\n",
            "Epoch 33/100\n",
            "426/426 [==============================] - 0s 53us/step - loss: 9.8798 - acc: 0.3803\n",
            "Epoch 34/100\n",
            "426/426 [==============================] - 0s 57us/step - loss: 9.8798 - acc: 0.3803\n",
            "Epoch 35/100\n",
            "426/426 [==============================] - 0s 54us/step - loss: 9.8798 - acc: 0.3803\n",
            "Epoch 36/100\n",
            "426/426 [==============================] - 0s 49us/step - loss: 9.8798 - acc: 0.3803\n",
            "Epoch 37/100\n",
            "426/426 [==============================] - 0s 52us/step - loss: 9.8798 - acc: 0.3803\n",
            "Epoch 38/100\n",
            "426/426 [==============================] - 0s 69us/step - loss: 9.8798 - acc: 0.3803\n",
            "Epoch 39/100\n",
            "426/426 [==============================] - 0s 62us/step - loss: 9.8798 - acc: 0.3803\n",
            "Epoch 40/100\n",
            "426/426 [==============================] - 0s 57us/step - loss: 9.8798 - acc: 0.3803\n",
            "Epoch 41/100\n",
            "426/426 [==============================] - 0s 51us/step - loss: 9.8798 - acc: 0.3803\n",
            "Epoch 42/100\n",
            "426/426 [==============================] - 0s 59us/step - loss: 9.8798 - acc: 0.3803\n",
            "Epoch 43/100\n",
            "426/426 [==============================] - 0s 63us/step - loss: 9.8798 - acc: 0.3803\n",
            "Epoch 44/100\n",
            "426/426 [==============================] - 0s 52us/step - loss: 9.8798 - acc: 0.3803\n",
            "Epoch 45/100\n",
            "426/426 [==============================] - 0s 55us/step - loss: 9.8798 - acc: 0.3803\n",
            "Epoch 46/100\n",
            "426/426 [==============================] - 0s 48us/step - loss: 9.8798 - acc: 0.3803\n",
            "Epoch 47/100\n",
            "426/426 [==============================] - 0s 66us/step - loss: 9.8798 - acc: 0.3803\n",
            "Epoch 48/100\n",
            "426/426 [==============================] - 0s 59us/step - loss: 9.8798 - acc: 0.3803\n",
            "Epoch 49/100\n",
            "426/426 [==============================] - 0s 61us/step - loss: 9.8798 - acc: 0.3803\n",
            "Epoch 50/100\n",
            "426/426 [==============================] - 0s 61us/step - loss: 9.8798 - acc: 0.3803\n",
            "Epoch 51/100\n",
            "426/426 [==============================] - 0s 66us/step - loss: 9.8798 - acc: 0.3803\n",
            "Epoch 52/100\n",
            "426/426 [==============================] - 0s 58us/step - loss: 9.8798 - acc: 0.3803\n",
            "Epoch 53/100\n",
            "426/426 [==============================] - 0s 55us/step - loss: 9.8798 - acc: 0.3803\n",
            "Epoch 54/100\n",
            "426/426 [==============================] - 0s 76us/step - loss: 9.8798 - acc: 0.3803\n",
            "Epoch 55/100\n",
            "426/426 [==============================] - 0s 62us/step - loss: 9.8798 - acc: 0.3803\n",
            "Epoch 56/100\n",
            "426/426 [==============================] - 0s 59us/step - loss: 9.8798 - acc: 0.3803\n",
            "Epoch 57/100\n",
            "426/426 [==============================] - 0s 57us/step - loss: 9.8798 - acc: 0.3803\n",
            "Epoch 58/100\n",
            "426/426 [==============================] - 0s 59us/step - loss: 9.8798 - acc: 0.3803\n",
            "Epoch 59/100\n",
            "426/426 [==============================] - 0s 61us/step - loss: 9.8798 - acc: 0.3803\n",
            "Epoch 60/100\n",
            "426/426 [==============================] - 0s 59us/step - loss: 9.8798 - acc: 0.3803\n",
            "Epoch 61/100\n",
            "426/426 [==============================] - 0s 56us/step - loss: 9.8798 - acc: 0.3803\n",
            "Epoch 62/100\n",
            "426/426 [==============================] - 0s 50us/step - loss: 9.8798 - acc: 0.3803\n",
            "Epoch 63/100\n",
            "426/426 [==============================] - 0s 68us/step - loss: 9.8798 - acc: 0.3803\n",
            "Epoch 64/100\n",
            "426/426 [==============================] - 0s 60us/step - loss: 9.8798 - acc: 0.3803\n",
            "Epoch 65/100\n",
            "426/426 [==============================] - 0s 74us/step - loss: 9.8798 - acc: 0.3803\n",
            "Epoch 66/100\n",
            "426/426 [==============================] - 0s 65us/step - loss: 9.8798 - acc: 0.3803\n",
            "Epoch 67/100\n",
            "426/426 [==============================] - 0s 54us/step - loss: 9.8798 - acc: 0.3803\n",
            "Epoch 68/100\n",
            "426/426 [==============================] - 0s 58us/step - loss: 9.8798 - acc: 0.3803\n",
            "Epoch 69/100\n",
            "426/426 [==============================] - 0s 59us/step - loss: 9.8798 - acc: 0.3803\n",
            "Epoch 70/100\n",
            "426/426 [==============================] - 0s 61us/step - loss: 9.8798 - acc: 0.3803\n",
            "Epoch 71/100\n",
            "426/426 [==============================] - 0s 49us/step - loss: 9.8798 - acc: 0.3803\n",
            "Epoch 72/100\n",
            "426/426 [==============================] - 0s 63us/step - loss: 9.8798 - acc: 0.3803\n",
            "Epoch 73/100\n",
            "426/426 [==============================] - 0s 71us/step - loss: 9.8798 - acc: 0.3803\n",
            "Epoch 74/100\n",
            "426/426 [==============================] - 0s 62us/step - loss: 9.8798 - acc: 0.3803\n",
            "Epoch 75/100\n",
            "426/426 [==============================] - 0s 52us/step - loss: 9.8798 - acc: 0.3803\n",
            "Epoch 76/100\n",
            "426/426 [==============================] - 0s 55us/step - loss: 9.8798 - acc: 0.3803\n",
            "Epoch 77/100\n",
            "426/426 [==============================] - 0s 58us/step - loss: 9.8798 - acc: 0.3803\n",
            "Epoch 78/100\n",
            "426/426 [==============================] - 0s 48us/step - loss: 9.8798 - acc: 0.3803\n",
            "Epoch 79/100\n",
            "426/426 [==============================] - 0s 57us/step - loss: 9.8798 - acc: 0.3803\n",
            "Epoch 80/100\n",
            "426/426 [==============================] - 0s 66us/step - loss: 9.8798 - acc: 0.3803\n",
            "Epoch 81/100\n",
            "426/426 [==============================] - 0s 67us/step - loss: 9.8798 - acc: 0.3803\n",
            "Epoch 82/100\n",
            "426/426 [==============================] - 0s 57us/step - loss: 9.8798 - acc: 0.3803\n",
            "Epoch 83/100\n",
            "426/426 [==============================] - 0s 60us/step - loss: 9.8798 - acc: 0.3803\n",
            "Epoch 84/100\n",
            "426/426 [==============================] - 0s 59us/step - loss: 9.8798 - acc: 0.3803\n",
            "Epoch 85/100\n",
            "426/426 [==============================] - 0s 61us/step - loss: 9.8798 - acc: 0.3803\n",
            "Epoch 86/100\n",
            "426/426 [==============================] - 0s 54us/step - loss: 9.8798 - acc: 0.3803\n",
            "Epoch 87/100\n",
            "426/426 [==============================] - 0s 97us/step - loss: 9.8798 - acc: 0.3803\n",
            "Epoch 88/100\n",
            "426/426 [==============================] - 0s 68us/step - loss: 9.8798 - acc: 0.3803\n",
            "Epoch 89/100\n",
            "426/426 [==============================] - 0s 62us/step - loss: 9.8798 - acc: 0.3803\n",
            "Epoch 90/100\n",
            "426/426 [==============================] - 0s 57us/step - loss: 9.8798 - acc: 0.3803\n",
            "Epoch 91/100\n",
            "426/426 [==============================] - 0s 53us/step - loss: 9.8798 - acc: 0.3803\n",
            "Epoch 92/100\n",
            "426/426 [==============================] - 0s 62us/step - loss: 9.8798 - acc: 0.3803\n",
            "Epoch 93/100\n",
            "426/426 [==============================] - 0s 57us/step - loss: 9.8798 - acc: 0.3803\n",
            "Epoch 94/100\n",
            "426/426 [==============================] - 0s 53us/step - loss: 9.8798 - acc: 0.3803\n",
            "Epoch 95/100\n",
            "426/426 [==============================] - 0s 61us/step - loss: 9.8798 - acc: 0.3803\n",
            "Epoch 96/100\n",
            "426/426 [==============================] - 0s 56us/step - loss: 9.8798 - acc: 0.3803\n",
            "Epoch 97/100\n",
            "426/426 [==============================] - 0s 65us/step - loss: 9.8798 - acc: 0.3803\n",
            "Epoch 98/100\n",
            "426/426 [==============================] - 0s 56us/step - loss: 9.8798 - acc: 0.3803\n",
            "Epoch 99/100\n",
            "426/426 [==============================] - 0s 58us/step - loss: 9.8798 - acc: 0.3803\n",
            "Epoch 100/100\n",
            "426/426 [==============================] - 0s 57us/step - loss: 9.8798 - acc: 0.3803\n"
          ],
          "name": "stdout"
        }
      ]
    },
    {
      "cell_type": "code",
      "metadata": {
        "id": "h54fECXw3m34",
        "colab_type": "code",
        "colab": {
          "base_uri": "https://localhost:8080/",
          "height": 248
        },
        "outputId": "eaf52772-3f6a-4c92-9c82-260256526c27"
      },
      "source": [
        "print(my_first_nn.summary())"
      ],
      "execution_count": 61,
      "outputs": [
        {
          "output_type": "stream",
          "text": [
            "Model: \"sequential_5\"\n",
            "_________________________________________________________________\n",
            "Layer (type)                 Output Shape              Param #   \n",
            "=================================================================\n",
            "dense_9 (Dense)              (None, 50)                1500      \n",
            "_________________________________________________________________\n",
            "dense_10 (Dense)             (None, 1)                 51        \n",
            "=================================================================\n",
            "Total params: 1,551\n",
            "Trainable params: 1,551\n",
            "Non-trainable params: 0\n",
            "_________________________________________________________________\n",
            "None\n"
          ],
          "name": "stdout"
        }
      ]
    },
    {
      "cell_type": "code",
      "metadata": {
        "id": "nVySKaFG3pYD",
        "colab_type": "code",
        "colab": {
          "base_uri": "https://localhost:8080/",
          "height": 52
        },
        "outputId": "adeee756-fc50-4034-e039-52a140cca39b"
      },
      "source": [
        "print(my_first_nn.evaluate(X_test, Y_test))"
      ],
      "execution_count": 62,
      "outputs": [
        {
          "output_type": "stream",
          "text": [
            "143/143 [==============================] - 0s 388us/step\n",
            "[10.368124928507772, 0.3496503498587575]\n"
          ],
          "name": "stdout"
        }
      ]
    }
  ]
}