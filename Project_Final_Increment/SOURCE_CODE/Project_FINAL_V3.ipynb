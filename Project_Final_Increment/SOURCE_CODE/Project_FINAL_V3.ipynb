{
  "nbformat": 4,
  "nbformat_minor": 0,
  "metadata": {
    "colab": {
      "name": "Project_FINAL_V3.ipynb",
      "provenance": [],
      "machine_shape": "hm"
    },
    "kernelspec": {
      "name": "python3",
      "display_name": "Python 3"
    },
    "accelerator": "TPU"
  },
  "cells": [
    {
      "cell_type": "code",
      "metadata": {
        "id": "wmTPaS3Fjxjo",
        "colab_type": "code",
        "outputId": "8a86fa75-cd35-435a-8d06-c302bdc42962",
        "colab": {
          "base_uri": "https://localhost:8080/",
          "height": 102
        }
      },
      "source": [
        "%tensorflow_version 1.15\n",
        "import tensorflow as tf\n",
        "from keras import Sequential\n",
        "import numpy as np\n",
        "from keras.layers import Dense\n",
        "from keras.utils import to_categorical\n",
        "from keras.preprocessing.image import ImageDataGenerator, load_img\n",
        "import os\n",
        "import matplotlib.pyplot as plt\n",
        "from keras.layers import Dense, Flatten, Dropout, Input\n",
        "from keras.constraints import maxnorm\n",
        "from keras.models import Model\n",
        "from keras.optimizers import SGD, Adam\n",
        "from keras.layers.convolutional import Conv2D, MaxPooling2D\n",
        "from keras.utils import np_utils\n",
        "from keras import backend as K\n",
        "K.common.image_dim_ordering()\n",
        "from tensorflow.keras.callbacks import EarlyStopping"
      ],
      "execution_count": 0,
      "outputs": [
        {
          "output_type": "stream",
          "text": [
            "`%tensorflow_version` only switches the major version: 1.x or 2.x.\n",
            "You set: `1.15`. This will be interpreted as: `1.x`.\n",
            "\n",
            "\n",
            "TensorFlow is already loaded. Please restart the runtime to change versions.\n"
          ],
          "name": "stdout"
        }
      ]
    },
    {
      "cell_type": "code",
      "metadata": {
        "id": "IZo9zcATv5pZ",
        "colab_type": "code",
        "outputId": "fb149c04-ebad-4330-9a9a-c6a2a5133f7e",
        "colab": {
          "base_uri": "https://localhost:8080/",
          "height": 122
        }
      },
      "source": [
        "from google.colab import drive\n",
        "drive.mount('/content/drive')"
      ],
      "execution_count": 0,
      "outputs": [
        {
          "output_type": "stream",
          "text": [
            "Go to this URL in a browser: https://accounts.google.com/o/oauth2/auth?client_id=947318989803-6bn6qk8qdgf4n4g3pfee6491hc0brc4i.apps.googleusercontent.com&redirect_uri=urn%3aietf%3awg%3aoauth%3a2.0%3aoob&response_type=code&scope=email%20https%3a%2f%2fwww.googleapis.com%2fauth%2fdocs.test%20https%3a%2f%2fwww.googleapis.com%2fauth%2fdrive%20https%3a%2f%2fwww.googleapis.com%2fauth%2fdrive.photos.readonly%20https%3a%2f%2fwww.googleapis.com%2fauth%2fpeopleapi.readonly\n",
            "\n",
            "Enter your authorization code:\n",
            "··········\n",
            "Mounted at /content/drive\n"
          ],
          "name": "stdout"
        }
      ]
    },
    {
      "cell_type": "code",
      "metadata": {
        "id": "gedXEMDE1h__",
        "colab_type": "code",
        "colab": {}
      },
      "source": [
        "from PIL import Image\n",
        "import glob\n",
        "import cv2\n",
        "train_images=[]\n",
        "c=0\n",
        "for filename in glob.glob('/content/drive/My Drive/Colab Notebooks/chest_xray/train/NORMAL/*.jpeg'):\n",
        "    img_normal = cv2.imread(filename)\n",
        "    output = cv2.resize(img_normal, (128,128))\n",
        "    train_images.append([output,0])"
      ],
      "execution_count": 0,
      "outputs": []
    },
    {
      "cell_type": "code",
      "metadata": {
        "id": "61DG88VP1lx6",
        "colab_type": "code",
        "colab": {}
      },
      "source": [
        "c=0\n",
        "for filename in glob.glob('/content/drive/My Drive/Colab Notebooks/chest_xray/train/PNEUMONIA/*.jpeg'): \n",
        "    img_normal = cv2.imread(filename)\n",
        "    output = cv2.resize(img_normal,(128,128))\n",
        "    train_images.append([output,1])\n",
        "  \n"
      ],
      "execution_count": 0,
      "outputs": []
    },
    {
      "cell_type": "code",
      "metadata": {
        "id": "BtsPX5Dp1o68",
        "colab_type": "code",
        "colab": {}
      },
      "source": [
        "import random\n",
        "random.shuffle(train_images)"
      ],
      "execution_count": 0,
      "outputs": []
    },
    {
      "cell_type": "code",
      "metadata": {
        "id": "11BrYKtV1rWJ",
        "colab_type": "code",
        "colab": {}
      },
      "source": [
        "x_train=[]\n",
        "y_train=[]\n",
        "for im,label in train_images:\n",
        "  x_train.append(im)\n",
        "  y_train.append(label)"
      ],
      "execution_count": 0,
      "outputs": []
    },
    {
      "cell_type": "code",
      "metadata": {
        "id": "wwQZb2UTUE0H",
        "colab_type": "code",
        "colab": {}
      },
      "source": [
        "128,128,3\n",
        "[[][][],[][][]]\n",
        "[[[][][]],[[][][]]]"
      ],
      "execution_count": 0,
      "outputs": []
    },
    {
      "cell_type": "code",
      "metadata": {
        "id": "HP_Wdnrx1ty2",
        "colab_type": "code",
        "colab": {}
      },
      "source": [
        "x_train=np.array(x_train).reshape(-1,128,128,3)"
      ],
      "execution_count": 0,
      "outputs": []
    },
    {
      "cell_type": "code",
      "metadata": {
        "id": "Wo0uvMzD1wc1",
        "colab_type": "code",
        "colab": {}
      },
      "source": [
        "test_images=[]\n",
        "c=0\n",
        "for filename in glob.glob('/content/drive/My Drive/Colab Notebooks/chest_xray/test/NORMAL/*.jpeg'): \n",
        "    img_normal = cv2.imread(filename)\n",
        "    output = cv2.resize(img_normal, (128,128))\n",
        "    test_images.append([output,0])\n",
        "   "
      ],
      "execution_count": 0,
      "outputs": []
    },
    {
      "cell_type": "code",
      "metadata": {
        "id": "R3DvZkQm1yw8",
        "colab_type": "code",
        "colab": {}
      },
      "source": [
        "c=0\n",
        "for filename in glob.glob('/content/drive/My Drive/Colab Notebooks/chest_xray/test/PNEUMONIA/*.jpeg'): \n",
        "    img_normal = cv2.imread(filename)\n",
        "    #print(im.shape)\n",
        "    #print(type(im.shape))\n",
        "    output = cv2.resize(img_normal, (128,128))\n",
        "    test_images.append([output,1])\n",
        "    "
      ],
      "execution_count": 0,
      "outputs": []
    },
    {
      "cell_type": "code",
      "metadata": {
        "id": "54ukVpBJ12qB",
        "colab_type": "code",
        "colab": {}
      },
      "source": [
        "random.shuffle(test_images)"
      ],
      "execution_count": 0,
      "outputs": []
    },
    {
      "cell_type": "code",
      "metadata": {
        "id": "JrFZJcE513Yi",
        "colab_type": "code",
        "colab": {}
      },
      "source": [
        "x_test=[]\n",
        "y_test=[]\n",
        "for im,label in test_images:\n",
        "  x_test.append(im)\n",
        "  y_test.append(label)"
      ],
      "execution_count": 0,
      "outputs": []
    },
    {
      "cell_type": "code",
      "metadata": {
        "id": "1BEe74xA17hc",
        "colab_type": "code",
        "colab": {}
      },
      "source": [
        "x_test=np.array(x_test).reshape(-1,128,128,3)"
      ],
      "execution_count": 0,
      "outputs": []
    },
    {
      "cell_type": "code",
      "metadata": {
        "id": "74DxyBeK19ti",
        "colab_type": "code",
        "colab": {}
      },
      "source": [
        "y_train = np_utils.to_categorical(y_train)\n",
        "y_test = np_utils.to_categorical(y_test)\n",
        "num_classes = y_test.shape[1]"
      ],
      "execution_count": 0,
      "outputs": []
    },
    {
      "cell_type": "markdown",
      "metadata": {
        "id": "2j2z3dVPUuxx",
        "colab_type": "text"
      },
      "source": [
        "\n",
        " n p\n",
        "[1 0] \n",
        "[0 1]"
      ]
    },
    {
      "cell_type": "code",
      "metadata": {
        "id": "eVqkNM2O2K8e",
        "colab_type": "code",
        "colab": {}
      },
      "source": [
        "x_test = x_test.astype('float32')\n",
        "x_train = x_train.astype('float32')\n",
        "x_train = x_train / 255.0\n",
        "x_test = x_test / 255.0"
      ],
      "execution_count": 0,
      "outputs": []
    },
    {
      "cell_type": "code",
      "metadata": {
        "id": "Jh5xglcD2BwG",
        "colab_type": "code",
        "colab": {}
      },
      "source": [
        "np.save(\"/content/drive/My Drive/Colab Notebooks/chest_xray/x_train.npy\", x_train)\n",
        "np.save(\"/content/drive/My Drive/Colab Notebooks/chest_xray/y_train.npy\", y_train)\n",
        "np.save(\"/content/drive/My Drive/Colab Notebooks/chest_xray/x_test.npy\", x_test)\n",
        "np.save(\"/content/drive/My Drive/Colab Notebooks/chest_xray/y_test.npy\", y_test)"
      ],
      "execution_count": 0,
      "outputs": []
    },
    {
      "cell_type": "code",
      "metadata": {
        "id": "PrEJ_GJ-ePjb",
        "colab_type": "code",
        "colab": {}
      },
      "source": [
        "x_train=np.load(\"/content/drive/My Drive/Colab Notebooks/chest_xray/x_train.npy\")\n",
        "x_test=np.load(\"/content/drive/My Drive/Colab Notebooks/chest_xray/x_test.npy\")\n",
        "y_train=np.load(\"/content/drive/My Drive/Colab Notebooks/chest_xray/y_train.npy\")\n",
        "y_test=np.load(\"/content/drive/My Drive/Colab Notebooks/chest_xray/y_test.npy\")"
      ],
      "execution_count": 0,
      "outputs": []
    },
    {
      "cell_type": "code",
      "metadata": {
        "id": "UEDyN55HMHgq",
        "colab_type": "code",
        "colab": {}
      },
      "source": [
        "x_train.shape\n",
        "x_test.shape"
      ],
      "execution_count": 0,
      "outputs": []
    },
    {
      "cell_type": "code",
      "metadata": {
        "id": "iH6tcsZP2MZK",
        "colab_type": "code",
        "outputId": "13868310-907c-45aa-eff4-8aa6bc4ff8d3",
        "colab": {
          "base_uri": "https://localhost:8080/",
          "height": 281
        }
      },
      "source": [
        "import matplotlib.pyplot as plt\n",
        "plt.imshow(x_train[10,:,:],cmap='gray')\n",
        "plt.title('Ground Truth : {}'.format(y_train[10]))\n",
        "plt.show()"
      ],
      "execution_count": 0,
      "outputs": [
        {
          "output_type": "display_data",
          "data": {
            "image/png": "[encoded data removed]",
            "text/plain": [
              "<Figure size 432x288 with 1 Axes>"
            ]
          },
          "metadata": {
            "tags": [],
            "needs_background": "light"
          }
        }
      ]
    },
    {
      "cell_type": "code",
      "metadata": {
        "id": "mcNRwL1FRgKm",
        "colab_type": "code",
        "colab": {}
      },
      "source": [
        "#x_train"
      ],
      "execution_count": 0,
      "outputs": []
    },
    {
      "cell_type": "code",
      "metadata": {
        "id": "ZXe68XokfSUe",
        "colab_type": "code",
        "colab": {}
      },
      "source": [
        "num_classes = y_test.shape[1]\n"
      ],
      "execution_count": 0,
      "outputs": []
    },
    {
      "cell_type": "code",
      "metadata": {
        "id": "iFLNCx_72P1U",
        "colab_type": "code",
        "colab": {}
      },
      "source": [
        "model = Sequential()\n",
        "model.add(Conv2D(150, (3, 3), input_shape=(x_train.shape[1:]), padding='same', activation='relu'))\n",
        "model.add(Dropout(0.5))\n",
        "model.add(Conv2D(150, (3, 3), activation='relu', padding='same'))\n",
        "model.add(MaxPooling2D(pool_size=(2, 2)))\n",
        "model.add(Dropout(0.5))\n",
        "model.add(Flatten())\n",
        "model.add(Dense(150, activation='relu', kernel_constraint=maxnorm(3)))\n",
        "model.add(Dropout(0.3))\n",
        "model.add(Dense(num_classes, activation='sigmoid'))"
      ],
      "execution_count": 0,
      "outputs": []
    },
    {
      "cell_type": "code",
      "metadata": {
        "id": "BUD7msHC2SXE",
        "colab_type": "code",
        "colab": {}
      },
      "source": [
        "epochs = 150\n",
        "lrate = 0.001\n",
        "decay = lrate/epochs\n",
        "sgd = Adam(lr=lrate)\n",
        "model.compile(loss='binary_crossentropy', optimizer=sgd, metrics=['accuracy'])"
      ],
      "execution_count": 0,
      "outputs": []
    },
    {
      "cell_type": "code",
      "metadata": {
        "id": "DcAPaO-l2UmA",
        "colab_type": "code",
        "colab": {}
      },
      "source": [
        "monitor=EarlyStopping(monitor='val_loss', min_delta=1e-3, patience=5, verbose=1, mode='auto',restore_best_weights=True)"
      ],
      "execution_count": 0,
      "outputs": []
    },
    {
      "cell_type": "code",
      "metadata": {
        "id": "iUTIpreC2X1e",
        "colab_type": "code",
        "colab": {}
      },
      "source": [
        "model.fit(x_train, y_train, validation_data=(x_test, y_test), callbacks=[monitor],epochs=epochs, batch_size=64)"
      ],
      "execution_count": 0,
      "outputs": []
    },
    {
      "cell_type": "code",
      "metadata": {
        "id": "yJe93Knf2aKe",
        "colab_type": "code",
        "colab": {}
      },
      "source": [
        "import pickle\n",
        "with open(\"/content/drive/My Drive/Colab Notebooks/chest_xray/MODEL_V3_PN.pk2\",'wb') as file:\n",
        "      pickle.dump(model,file)"
      ],
      "execution_count": 0,
      "outputs": []
    },
    {
      "cell_type": "code",
      "metadata": {
        "id": "GgaPMVI02c0N",
        "colab_type": "code",
        "colab": {}
      },
      "source": [
        "x=model.predict_classes(x_test[[2],:])\n",
        "print(x[0])\n",
        "print(y_test[2])"
      ],
      "execution_count": 0,
      "outputs": []
    },
    {
      "cell_type": "code",
      "metadata": {
        "id": "E2U3BWn2jbDK",
        "colab_type": "code",
        "colab": {}
      },
      "source": [
        "model.save('version3.h5')"
      ],
      "execution_count": 0,
      "outputs": []
    },
    {
      "cell_type": "code",
      "metadata": {
        "id": "7X9ndpFz3UT_",
        "colab_type": "code",
        "outputId": "bebc19b7-f129-4432-a14c-fbfccbd62240",
        "colab": {
          "base_uri": "https://localhost:8080/",
          "height": 1000
        }
      },
      "source": [
        "!pip install wandb"
      ],
      "execution_count": 0,
      "outputs": [
        {
          "output_type": "stream",
          "text": [
            "Collecting wandb\n",
            "\u001b[?25l  Downloading https://files.pythonhosted.org/packages/1d/17/7f632c1c700758822f9e41aa7b025ea15f017f2a43611efa7b64341303ea/wandb-0.8.34-py2.py3-none-any.whl (1.4MB)\n",
            "\u001b[K     |████████████████████████████████| 1.4MB 3.4MB/s \n",
            "\u001b[?25hCollecting watchdog>=0.8.3\n",
            "\u001b[?25l  Downloading https://files.pythonhosted.org/packages/73/c3/ed6d992006837e011baca89476a4bbffb0a91602432f73bd4473816c76e2/watchdog-0.10.2.tar.gz (95kB)\n",
            "\u001b[K     |████████████████████████████████| 102kB 12.5MB/s \n",
            "\u001b[?25hCollecting GitPython>=1.0.0\n",
            "\u001b[?25l  Downloading https://files.pythonhosted.org/packages/19/1a/0df85d2bddbca33665d2148173d3281b290ac054b5f50163ea735740ac7b/GitPython-3.1.1-py3-none-any.whl (450kB)\n",
            "\u001b[K     |████████████████████████████████| 460kB 52.0MB/s \n",
            "\u001b[?25hCollecting shortuuid>=0.5.0\n",
            "  Downloading https://files.pythonhosted.org/packages/25/a6/2ecc1daa6a304e7f1b216f0896b26156b78e7c38e1211e9b798b4716c53d/shortuuid-1.0.1-py3-none-any.whl\n",
            "Collecting subprocess32>=3.5.3\n",
            "\u001b[?25l  Downloading https://files.pythonhosted.org/packages/32/c8/564be4d12629b912ea431f1a50eb8b3b9d00f1a0b1ceff17f266be190007/subprocess32-3.5.4.tar.gz (97kB)\n",
            "\u001b[K     |████████████████████████████████| 102kB 12.9MB/s \n",
            "\u001b[?25hRequirement already satisfied: Click>=7.0 in /usr/local/lib/python3.6/dist-packages (from wandb) (7.1.2)\n",
            "Requirement already satisfied: six>=1.10.0 in /usr/local/lib/python3.6/dist-packages (from wandb) (1.12.0)\n",
            "Collecting sentry-sdk>=0.4.0\n",
            "\u001b[?25l  Downloading https://files.pythonhosted.org/packages/20/7e/19545324e83db4522b885808cd913c3b93ecc0c88b03e037b78c6a417fa8/sentry_sdk-0.14.3-py2.py3-none-any.whl (103kB)\n",
            "\u001b[K     |████████████████████████████████| 112kB 56.3MB/s \n",
            "\u001b[?25hCollecting gql==0.2.0\n",
            "  Downloading https://files.pythonhosted.org/packages/c4/6f/cf9a3056045518f06184e804bae89390eb706168349daa9dff8ac609962a/gql-0.2.0.tar.gz\n",
            "Requirement already satisfied: requests>=2.0.0 in /usr/local/lib/python3.6/dist-packages (from wandb) (2.23.0)\n",
            "Requirement already satisfied: PyYAML>=3.10 in /usr/local/lib/python3.6/dist-packages (from wandb) (3.13)\n",
            "Requirement already satisfied: python-dateutil>=2.6.1 in /usr/local/lib/python3.6/dist-packages (from wandb) (2.8.1)\n",
            "Requirement already satisfied: psutil>=5.0.0 in /usr/local/lib/python3.6/dist-packages (from wandb) (5.4.8)\n",
            "Collecting docker-pycreds>=0.4.0\n",
            "  Downloading https://files.pythonhosted.org/packages/f5/e8/f6bd1eee09314e7e6dee49cbe2c5e22314ccdb38db16c9fc72d2fa80d054/docker_pycreds-0.4.0-py2.py3-none-any.whl\n",
            "Requirement already satisfied: nvidia-ml-py3>=7.352.0 in /usr/local/lib/python3.6/dist-packages (from wandb) (7.352.0)\n",
            "Collecting configparser>=3.8.1\n",
            "  Downloading https://files.pythonhosted.org/packages/4b/6b/01baa293090240cf0562cc5eccb69c6f5006282127f2b846fad011305c79/configparser-5.0.0-py3-none-any.whl\n",
            "Collecting pathtools>=0.1.1\n",
            "  Downloading https://files.pythonhosted.org/packages/e7/7f/470d6fcdf23f9f3518f6b0b76be9df16dcc8630ad409947f8be2eb0ed13a/pathtools-0.1.2.tar.gz\n",
            "Collecting gitdb<5,>=4.0.1\n",
            "\u001b[?25l  Downloading https://files.pythonhosted.org/packages/74/52/ca35448b56c53a079d3ffe18b1978c6e424f6d4df02404877094c89f5bfb/gitdb-4.0.4-py3-none-any.whl (63kB)\n",
            "\u001b[K     |████████████████████████████████| 71kB 9.9MB/s \n",
            "\u001b[?25hRequirement already satisfied: urllib3>=1.10.0 in /usr/local/lib/python3.6/dist-packages (from sentry-sdk>=0.4.0->wandb) (1.24.3)\n",
            "Requirement already satisfied: certifi in /usr/local/lib/python3.6/dist-packages (from sentry-sdk>=0.4.0->wandb) (2020.4.5.1)\n",
            "Collecting graphql-core<2,>=0.5.0\n",
            "\u001b[?25l  Downloading https://files.pythonhosted.org/packages/b0/89/00ad5e07524d8c523b14d70c685e0299a8b0de6d0727e368c41b89b7ed0b/graphql-core-1.1.tar.gz (70kB)\n",
            "\u001b[K     |████████████████████████████████| 71kB 9.4MB/s \n",
            "\u001b[?25hRequirement already satisfied: promise<3,>=2.0 in /usr/local/lib/python3.6/dist-packages (from gql==0.2.0->wandb) (2.3)\n",
            "Requirement already satisfied: idna<3,>=2.5 in /usr/local/lib/python3.6/dist-packages (from requests>=2.0.0->wandb) (2.9)\n",
            "Requirement already satisfied: chardet<4,>=3.0.2 in /usr/local/lib/python3.6/dist-packages (from requests>=2.0.0->wandb) (3.0.4)\n",
            "Collecting smmap<4,>=3.0.1\n",
            "  Downloading https://files.pythonhosted.org/packages/27/b1/e379cfb7c07bbf8faee29c4a1a2469dbea525f047c2b454c4afdefa20a30/smmap-3.0.2-py2.py3-none-any.whl\n",
            "Building wheels for collected packages: watchdog, subprocess32, gql, pathtools, graphql-core\n",
            "  Building wheel for watchdog (setup.py) ... \u001b[?25l\u001b[?25hdone\n",
            "  Created wheel for watchdog: filename=watchdog-0.10.2-cp36-none-any.whl size=73605 sha256=de78b02bd9b47d99f0ab11091959b6f58a7669dbee84729602a61c5b610fca0b\n",
            "  Stored in directory: /root/.cache/pip/wheels/bc/ed/6c/028dea90d31b359cd2a7c8b0da4db80e41d24a59614154072e\n",
            "  Building wheel for subprocess32 (setup.py) ... \u001b[?25l\u001b[?25hdone\n",
            "  Created wheel for subprocess32: filename=subprocess32-3.5.4-cp36-none-any.whl size=6489 sha256=9f6d81ab3fc55a33fade7af54f327fb948392c9399bf6da6b8505cc4e9007dd3\n",
            "  Stored in directory: /root/.cache/pip/wheels/68/39/1a/5e402bdfdf004af1786c8b853fd92f8c4a04f22aad179654d1\n",
            "  Building wheel for gql (setup.py) ... \u001b[?25l\u001b[?25hdone\n",
            "  Created wheel for gql: filename=gql-0.2.0-cp36-none-any.whl size=7630 sha256=fea3b8bbf8af43f0e0fdcf09684e55c8eeb55fb40d97af4cc560d79b23b8a98c\n",
            "  Stored in directory: /root/.cache/pip/wheels/ce/0e/7b/58a8a5268655b3ad74feef5aa97946f0addafb3cbb6bd2da23\n",
            "  Building wheel for pathtools (setup.py) ... \u001b[?25l\u001b[?25hdone\n",
            "  Created wheel for pathtools: filename=pathtools-0.1.2-cp36-none-any.whl size=8784 sha256=181fda3b679cdd3c8e3e5743b6f6695f03b27498d2b8112c639cb94c3857b18a\n",
            "  Stored in directory: /root/.cache/pip/wheels/0b/04/79/c3b0c3a0266a3cb4376da31e5bfe8bba0c489246968a68e843\n",
            "  Building wheel for graphql-core (setup.py) ... \u001b[?25l\u001b[?25hdone\n",
            "  Created wheel for graphql-core: filename=graphql_core-1.1-cp36-none-any.whl size=104650 sha256=749f285194cf2e042b4c2169415e6c6727d4aa2c07bfc07efb64e491c27dfc79\n",
            "  Stored in directory: /root/.cache/pip/wheels/45/99/d7/c424029bb0fe910c63b68dbf2aa20d3283d023042521bcd7d5\n",
            "Successfully built watchdog subprocess32 gql pathtools graphql-core\n",
            "Installing collected packages: pathtools, watchdog, smmap, gitdb, GitPython, shortuuid, subprocess32, sentry-sdk, graphql-core, gql, docker-pycreds, configparser, wandb\n",
            "Successfully installed GitPython-3.1.1 configparser-5.0.0 docker-pycreds-0.4.0 gitdb-4.0.4 gql-0.2.0 graphql-core-1.1 pathtools-0.1.2 sentry-sdk-0.14.3 shortuuid-1.0.1 smmap-3.0.2 subprocess32-3.5.4 wandb-0.8.34 watchdog-0.10.2\n"
          ],
          "name": "stdout"
        }
      ]
    },
    {
      "cell_type": "code",
      "metadata": {
        "id": "9K4dkoXZ2Ecu",
        "colab_type": "code",
        "colab": {}
      },
      "source": [
        "from keras.preprocessing.image import ImageDataGenerator\n",
        "import wandb\n",
        "from wandb.keras import WandbCallback"
      ],
      "execution_count": 0,
      "outputs": []
    },
    {
      "cell_type": "code",
      "metadata": {
        "id": "wlJnmlR43kwu",
        "colab_type": "code",
        "colab": {}
      },
      "source": [
        "datagen=ImageDataGenerator(rotation_range=40,\n",
        "        width_shift_range=0.2,\n",
        "        height_shift_range=0.2,\n",
        "        shear_range=0.2,\n",
        "        zoom_range=0.2,\n",
        "        horizontal_flip=True,\n",
        "        fill_mode='nearest')\n",
        "datagen.fit(x_train)"
      ],
      "execution_count": 0,
      "outputs": []
    },
    {
      "cell_type": "markdown",
      "metadata": {
        "id": "lJVTkPiMWuyf",
        "colab_type": "text"
      },
      "source": [
        "[0 2 3\n",
        " 1 2] 3 \n",
        " 4 5 6]   [2 3\n",
        "           5  6]"
      ]
    },
    {
      "cell_type": "code",
      "metadata": {
        "id": "Ux2ZwMOG3xZ6",
        "colab_type": "code",
        "outputId": "52a07213-1edd-492f-ed97-fc1a4ee3369b",
        "colab": {
          "base_uri": "https://localhost:8080/",
          "height": 122
        }
      },
      "source": [
        "model1 = Sequential()\n",
        "model1.add(Conv2D(64, (3, 3), input_shape=(x_train.shape[1:]), padding='same', activation='relu'))\n",
        "model1.add(Dropout(0.3))\n",
        "model1.add(Conv2D(64, (3, 3), activation='relu', padding='same'))\n",
        "model1.add(MaxPooling2D(pool_size=(2, 2)))\n",
        "model1.add(Dropout(0.3))\n",
        "model1.add(Flatten())\n",
        "model1.add(Dense(64, activation='relu', kernel_constraint=maxnorm(3)))\n",
        "model1.add(Dropout(0.3))\n",
        "model1.add(Dense(num_classes, activation='sigmoid'))"
      ],
      "execution_count": 0,
      "outputs": [
        {
          "output_type": "stream",
          "text": [
            "WARNING:tensorflow:From /tensorflow-1.15.2/python3.6/tensorflow_core/python/ops/resource_variable_ops.py:1630: calling BaseResourceVariable.__init__ (from tensorflow.python.ops.resource_variable_ops) with constraint is deprecated and will be removed in a future version.\n",
            "Instructions for updating:\n",
            "If using Keras pass *_constraint arguments to layers.\n",
            "WARNING:tensorflow:From /usr/local/lib/python3.6/dist-packages/keras/backend/tensorflow_backend.py:4070: The name tf.nn.max_pool is deprecated. Please use tf.nn.max_pool2d instead.\n",
            "\n"
          ],
          "name": "stdout"
        }
      ]
    },
    {
      "cell_type": "code",
      "metadata": {
        "id": "gKcf4a1x37sO",
        "colab_type": "code",
        "outputId": "87f7a3f4-6cd8-4787-9b60-fe047fb4e11e",
        "colab": {
          "base_uri": "https://localhost:8080/",
          "height": 88
        }
      },
      "source": [
        "epochs = 100\n",
        "lrate = 0.001\n",
        "decay = lrate/epochs\n",
        "sgd = Adam(lr=lrate)\n",
        "batch_size=50\n",
        "model1.compile(loss='binary_crossentropy', optimizer=sgd, metrics=['accuracy'])"
      ],
      "execution_count": 0,
      "outputs": [
        {
          "output_type": "stream",
          "text": [
            "WARNING:tensorflow:From /tensorflow-1.15.2/python3.6/tensorflow_core/python/ops/nn_impl.py:183: where (from tensorflow.python.ops.array_ops) is deprecated and will be removed in a future version.\n",
            "Instructions for updating:\n",
            "Use tf.where in 2.0, which has the same broadcast rule as np.where\n"
          ],
          "name": "stdout"
        }
      ]
    },
    {
      "cell_type": "code",
      "metadata": {
        "id": "tZjD6qYx4phl",
        "colab_type": "code",
        "outputId": "5e990de4-ee69-4246-860f-df266c5b53b5",
        "colab": {
          "base_uri": "https://localhost:8080/",
          "height": 1000
        }
      },
      "source": [
        "wandb.init()\n",
        "model1.fit_generator(datagen.flow(x_train, y_train),steps_per_epoch=x_train.shape[0] //batch_size,epochs=epochs, validation_data=(x_test, y_test), callbacks=[WandbCallback()])"
      ],
      "execution_count": 0,
      "outputs": [
        {
          "output_type": "display_data",
          "data": {
            "application/javascript": [
              "\n",
              "        window._wandbApiKey = new Promise((resolve, reject) => {\n",
              "            function loadScript(url) {\n",
              "            return new Promise(function(resolve, reject) {\n",
              "                let newScript = document.createElement(\"script\");\n",
              "                newScript.onerror = reject;\n",
              "                newScript.onload = resolve;\n",
              "                document.body.appendChild(newScript);\n",
              "                newScript.src = url;\n",
              "            });\n",
              "            }\n",
              "            loadScript(\"https://cdn.jsdelivr.net/npm/postmate/build/postmate.min.js\").then(() => {\n",
              "            const iframe = document.createElement('iframe')\n",
              "            iframe.style.cssText = \"width:0;height:0;border:none\"\n",
              "            document.body.appendChild(iframe)\n",
              "            const handshake = new Postmate({\n",
              "                container: iframe,\n",
              "                url: 'https://app.wandb.ai/authorize'\n",
              "            });\n",
              "            const timeout = setTimeout(() => reject(\"Couldn't auto authenticate\"), 5000)\n",
              "            handshake.then(function(child) {\n",
              "                child.on('authorize', data => {\n",
              "                    clearTimeout(timeout)\n",
              "                    resolve(data)\n",
              "                });\n",
              "            });\n",
              "            })\n",
              "        });\n",
              "    "
            ],
            "text/plain": [
              "<IPython.core.display.Javascript object>"
            ]
          },
          "metadata": {
            "tags": []
          }
        },
        {
          "output_type": "stream",
          "text": [
            "\u001b[34m\u001b[1mwandb\u001b[0m: Appending key for api.wandb.ai to your netrc file: /root/.netrc\n"
          ],
          "name": "stderr"
        },
        {
          "output_type": "display_data",
          "data": {
            "text/html": [
              "\n",
              "                Logging results to <a href=\"https://wandb.com\" target=\"_blank\">Weights & Biases</a> <a href=\"https://docs.wandb.com/integrations/jupyter.html\" target=\"_blank\">(Documentation)</a>.<br/>\n",
              "                Project page: <a href=\"https://app.wandb.ai/nick97/uncategorized\" target=\"_blank\">https://app.wandb.ai/nick97/uncategorized</a><br/>\n",
              "                Run page: <a href=\"https://app.wandb.ai/nick97/uncategorized/runs/3b1xi6dr\" target=\"_blank\">https://app.wandb.ai/nick97/uncategorized/runs/3b1xi6dr</a><br/>\n",
              "            "
            ],
            "text/plain": [
              "<IPython.core.display.HTML object>"
            ]
          },
          "metadata": {
            "tags": []
          }
        },
        {
          "output_type": "stream",
          "text": [
            "WARNING:tensorflow:From /usr/local/lib/python3.6/dist-packages/keras/backend/tensorflow_backend.py:422: The name tf.global_variables is deprecated. Please use tf.compat.v1.global_variables instead.\n",
            "\n",
            "Epoch 1/100\n",
            "104/104 [==============================] - 72s 695ms/step - loss: 0.5763 - accuracy: 0.8033 - val_loss: 0.5145 - val_accuracy: 0.7644\n",
            "Epoch 2/100\n",
            "104/104 [==============================] - 70s 678ms/step - loss: 0.1888 - accuracy: 0.9315 - val_loss: 0.7571 - val_accuracy: 0.6771\n",
            "Epoch 3/100\n",
            "104/104 [==============================] - 71s 679ms/step - loss: 0.1645 - accuracy: 0.9389 - val_loss: 0.6873 - val_accuracy: 0.7604\n",
            "Epoch 4/100\n",
            "104/104 [==============================] - 70s 677ms/step - loss: 0.1176 - accuracy: 0.9569 - val_loss: 0.8822 - val_accuracy: 0.7628\n",
            "Epoch 5/100\n",
            "104/104 [==============================] - 70s 675ms/step - loss: 0.1246 - accuracy: 0.9521 - val_loss: 0.4298 - val_accuracy: 0.8389\n",
            "Epoch 6/100\n",
            "104/104 [==============================] - 70s 675ms/step - loss: 0.1345 - accuracy: 0.9474 - val_loss: 0.9777 - val_accuracy: 0.7548\n",
            "Epoch 7/100\n",
            "104/104 [==============================] - 70s 675ms/step - loss: 0.1144 - accuracy: 0.9579 - val_loss: 1.2157 - val_accuracy: 0.7139\n",
            "Epoch 8/100\n",
            "104/104 [==============================] - 70s 677ms/step - loss: 0.1212 - accuracy: 0.9503 - val_loss: 0.6175 - val_accuracy: 0.8013\n",
            "Epoch 9/100\n",
            "104/104 [==============================] - 71s 678ms/step - loss: 0.1326 - accuracy: 0.9539 - val_loss: 0.6361 - val_accuracy: 0.8045\n",
            "Epoch 10/100\n",
            "104/104 [==============================] - 70s 676ms/step - loss: 0.1193 - accuracy: 0.9564 - val_loss: 0.5378 - val_accuracy: 0.8197\n",
            "Epoch 11/100\n",
            "104/104 [==============================] - 70s 677ms/step - loss: 0.1043 - accuracy: 0.9614 - val_loss: 0.7279 - val_accuracy: 0.7812\n",
            "Epoch 12/100\n",
            "104/104 [==============================] - 71s 679ms/step - loss: 0.1080 - accuracy: 0.9621 - val_loss: 0.9530 - val_accuracy: 0.7540\n",
            "Epoch 13/100\n",
            "104/104 [==============================] - 70s 677ms/step - loss: 0.1090 - accuracy: 0.9578 - val_loss: 0.6833 - val_accuracy: 0.8045\n",
            "Epoch 14/100\n",
            "104/104 [==============================] - 72s 688ms/step - loss: 0.1165 - accuracy: 0.9579 - val_loss: 0.7952 - val_accuracy: 0.7700\n",
            "Epoch 15/100\n",
            "104/104 [==============================] - 71s 679ms/step - loss: 0.0982 - accuracy: 0.9648 - val_loss: 1.0455 - val_accuracy: 0.7444\n",
            "Epoch 16/100\n",
            "104/104 [==============================] - 71s 678ms/step - loss: 0.0927 - accuracy: 0.9666 - val_loss: 1.0042 - val_accuracy: 0.7420\n",
            "Epoch 17/100\n",
            "104/104 [==============================] - 71s 678ms/step - loss: 0.0924 - accuracy: 0.9668 - val_loss: 0.7689 - val_accuracy: 0.7620\n",
            "Epoch 18/100\n",
            "104/104 [==============================] - 71s 685ms/step - loss: 0.1111 - accuracy: 0.9566 - val_loss: 1.1801 - val_accuracy: 0.7091\n",
            "Epoch 19/100\n",
            "104/104 [==============================] - 70s 676ms/step - loss: 0.0977 - accuracy: 0.9632 - val_loss: 0.5329 - val_accuracy: 0.8317\n",
            "Epoch 20/100\n",
            "104/104 [==============================] - 70s 676ms/step - loss: 0.1139 - accuracy: 0.9576 - val_loss: 1.0112 - val_accuracy: 0.7268\n",
            "Epoch 21/100\n",
            "104/104 [==============================] - 70s 675ms/step - loss: 0.0849 - accuracy: 0.9710 - val_loss: 0.8100 - val_accuracy: 0.7877\n",
            "Epoch 22/100\n",
            "104/104 [==============================] - 71s 679ms/step - loss: 0.0990 - accuracy: 0.9656 - val_loss: 0.7033 - val_accuracy: 0.7668\n",
            "Epoch 23/100\n",
            "104/104 [==============================] - 71s 682ms/step - loss: 0.0846 - accuracy: 0.9666 - val_loss: 0.8158 - val_accuracy: 0.7684\n",
            "Epoch 24/100\n",
            "104/104 [==============================] - 70s 673ms/step - loss: 0.0964 - accuracy: 0.9641 - val_loss: 1.1732 - val_accuracy: 0.7332\n",
            "Epoch 25/100\n",
            "104/104 [==============================] - 70s 675ms/step - loss: 0.1065 - accuracy: 0.9570 - val_loss: 1.0073 - val_accuracy: 0.7564\n",
            "Epoch 26/100\n",
            "104/104 [==============================] - 70s 675ms/step - loss: 0.0707 - accuracy: 0.9736 - val_loss: 0.9155 - val_accuracy: 0.7604\n",
            "Epoch 27/100\n",
            "104/104 [==============================] - 72s 690ms/step - loss: 0.1021 - accuracy: 0.9626 - val_loss: 0.9567 - val_accuracy: 0.7276\n",
            "Epoch 28/100\n",
            "104/104 [==============================] - 70s 673ms/step - loss: 0.0973 - accuracy: 0.9659 - val_loss: 0.6094 - val_accuracy: 0.7997\n",
            "Epoch 29/100\n",
            "104/104 [==============================] - 70s 673ms/step - loss: 0.0812 - accuracy: 0.9684 - val_loss: 1.0041 - val_accuracy: 0.7604\n",
            "Epoch 30/100\n",
            "104/104 [==============================] - 70s 672ms/step - loss: 0.1064 - accuracy: 0.9597 - val_loss: 1.1950 - val_accuracy: 0.7107\n",
            "Epoch 31/100\n",
            "104/104 [==============================] - 71s 681ms/step - loss: 0.0848 - accuracy: 0.9669 - val_loss: 0.9998 - val_accuracy: 0.7115\n",
            "Epoch 32/100\n",
            "104/104 [==============================] - 70s 676ms/step - loss: 0.0826 - accuracy: 0.9700 - val_loss: 1.3704 - val_accuracy: 0.7139\n",
            "Epoch 33/100\n",
            "104/104 [==============================] - 70s 671ms/step - loss: 0.1037 - accuracy: 0.9605 - val_loss: 0.8460 - val_accuracy: 0.7652\n",
            "Epoch 34/100\n",
            "104/104 [==============================] - 70s 675ms/step - loss: 0.0860 - accuracy: 0.9657 - val_loss: 0.9401 - val_accuracy: 0.6979\n",
            "Epoch 35/100\n",
            "104/104 [==============================] - 70s 674ms/step - loss: 0.0795 - accuracy: 0.9701 - val_loss: 0.9297 - val_accuracy: 0.7524\n",
            "Epoch 36/100\n",
            "104/104 [==============================] - 71s 680ms/step - loss: 0.0828 - accuracy: 0.9739 - val_loss: 0.9857 - val_accuracy: 0.7372\n",
            "Epoch 37/100\n",
            "104/104 [==============================] - 70s 677ms/step - loss: 0.0858 - accuracy: 0.9659 - val_loss: 1.0452 - val_accuracy: 0.7179\n",
            "Epoch 38/100\n",
            "104/104 [==============================] - 70s 675ms/step - loss: 0.0880 - accuracy: 0.9695 - val_loss: 1.1589 - val_accuracy: 0.7147\n",
            "Epoch 39/100\n",
            "104/104 [==============================] - 70s 673ms/step - loss: 0.0757 - accuracy: 0.9721 - val_loss: 0.8527 - val_accuracy: 0.7620\n",
            "Epoch 40/100\n",
            "104/104 [==============================] - 71s 684ms/step - loss: 0.0644 - accuracy: 0.9760 - val_loss: 0.8895 - val_accuracy: 0.7652\n",
            "Epoch 41/100\n",
            "104/104 [==============================] - 71s 682ms/step - loss: 0.0960 - accuracy: 0.9642 - val_loss: 1.3482 - val_accuracy: 0.6939\n",
            "Epoch 42/100\n",
            "104/104 [==============================] - 71s 687ms/step - loss: 0.0795 - accuracy: 0.9697 - val_loss: 0.8470 - val_accuracy: 0.7492\n",
            "Epoch 43/100\n",
            "104/104 [==============================] - 71s 680ms/step - loss: 0.0853 - accuracy: 0.9671 - val_loss: 1.0718 - val_accuracy: 0.7147\n",
            "Epoch 44/100\n",
            "104/104 [==============================] - 71s 679ms/step - loss: 0.0792 - accuracy: 0.9678 - val_loss: 1.0685 - val_accuracy: 0.7332\n",
            "Epoch 45/100\n",
            "104/104 [==============================] - 71s 686ms/step - loss: 0.0620 - accuracy: 0.9781 - val_loss: 1.2966 - val_accuracy: 0.7131\n",
            "Epoch 46/100\n",
            "104/104 [==============================] - 70s 678ms/step - loss: 0.0918 - accuracy: 0.9654 - val_loss: 0.9019 - val_accuracy: 0.7644\n",
            "Epoch 47/100\n",
            "104/104 [==============================] - 70s 676ms/step - loss: 0.0811 - accuracy: 0.9677 - val_loss: 0.8989 - val_accuracy: 0.7612\n",
            "Epoch 48/100\n",
            "104/104 [==============================] - 71s 683ms/step - loss: 0.0714 - accuracy: 0.9787 - val_loss: 1.2619 - val_accuracy: 0.7196\n",
            "Epoch 49/100\n",
            "104/104 [==============================] - 71s 686ms/step - loss: 0.0771 - accuracy: 0.9721 - val_loss: 1.1234 - val_accuracy: 0.7404\n",
            "Epoch 50/100\n",
            "104/104 [==============================] - 70s 677ms/step - loss: 0.0676 - accuracy: 0.9752 - val_loss: 0.6957 - val_accuracy: 0.7845\n",
            "Epoch 51/100\n",
            "104/104 [==============================] - 71s 678ms/step - loss: 0.0625 - accuracy: 0.9788 - val_loss: 0.8587 - val_accuracy: 0.7925\n",
            "Epoch 52/100\n",
            "104/104 [==============================] - 71s 680ms/step - loss: 0.0799 - accuracy: 0.9707 - val_loss: 0.7481 - val_accuracy: 0.8117\n",
            "Epoch 53/100\n",
            "104/104 [==============================] - 71s 686ms/step - loss: 0.0666 - accuracy: 0.9769 - val_loss: 1.2847 - val_accuracy: 0.7548\n",
            "Epoch 54/100\n",
            "104/104 [==============================] - 70s 676ms/step - loss: 0.0601 - accuracy: 0.9785 - val_loss: 1.1144 - val_accuracy: 0.7564\n",
            "Epoch 55/100\n",
            "104/104 [==============================] - 71s 684ms/step - loss: 0.0759 - accuracy: 0.9727 - val_loss: 1.0892 - val_accuracy: 0.7500\n",
            "Epoch 56/100\n",
            "104/104 [==============================] - 71s 686ms/step - loss: 0.0616 - accuracy: 0.9757 - val_loss: 1.1716 - val_accuracy: 0.7099\n",
            "Epoch 57/100\n",
            "104/104 [==============================] - 70s 677ms/step - loss: 0.0806 - accuracy: 0.9691 - val_loss: 0.7379 - val_accuracy: 0.8061\n",
            "Epoch 58/100\n",
            "104/104 [==============================] - 72s 692ms/step - loss: 0.0688 - accuracy: 0.9749 - val_loss: 0.9233 - val_accuracy: 0.7748\n",
            "Epoch 59/100\n",
            "104/104 [==============================] - 71s 682ms/step - loss: 0.0585 - accuracy: 0.9791 - val_loss: 0.9017 - val_accuracy: 0.7853\n",
            "Epoch 60/100\n",
            "104/104 [==============================] - 71s 681ms/step - loss: 0.0698 - accuracy: 0.9748 - val_loss: 1.3248 - val_accuracy: 0.7340\n",
            "Epoch 61/100\n",
            "104/104 [==============================] - 71s 681ms/step - loss: 0.0669 - accuracy: 0.9736 - val_loss: 0.8426 - val_accuracy: 0.7692\n",
            "Epoch 62/100\n",
            "104/104 [==============================] - 71s 687ms/step - loss: 0.0474 - accuracy: 0.9833 - val_loss: 0.9417 - val_accuracy: 0.7484\n",
            "Epoch 63/100\n",
            "104/104 [==============================] - 71s 681ms/step - loss: 0.0604 - accuracy: 0.9761 - val_loss: 0.9283 - val_accuracy: 0.7821\n",
            "Epoch 64/100\n",
            "104/104 [==============================] - 71s 679ms/step - loss: 0.1164 - accuracy: 0.9554 - val_loss: 0.9600 - val_accuracy: 0.7324\n",
            "Epoch 65/100\n",
            "104/104 [==============================] - 70s 676ms/step - loss: 0.0664 - accuracy: 0.9766 - val_loss: 1.0447 - val_accuracy: 0.7596\n",
            "Epoch 66/100\n",
            "104/104 [==============================] - 71s 684ms/step - loss: 0.0819 - accuracy: 0.9706 - val_loss: 1.0656 - val_accuracy: 0.7516\n",
            "Epoch 67/100\n",
            "104/104 [==============================] - 71s 678ms/step - loss: 0.0660 - accuracy: 0.9757 - val_loss: 1.1805 - val_accuracy: 0.7212\n",
            "Epoch 68/100\n",
            "104/104 [==============================] - 70s 676ms/step - loss: 0.0483 - accuracy: 0.9824 - val_loss: 1.4291 - val_accuracy: 0.7356\n",
            "Epoch 69/100\n",
            "104/104 [==============================] - 70s 675ms/step - loss: 0.0471 - accuracy: 0.9830 - val_loss: 1.3120 - val_accuracy: 0.7356\n",
            "Epoch 70/100\n",
            "104/104 [==============================] - 70s 675ms/step - loss: 0.0620 - accuracy: 0.9796 - val_loss: 1.0727 - val_accuracy: 0.7356\n",
            "Epoch 71/100\n",
            "104/104 [==============================] - 71s 680ms/step - loss: 0.0538 - accuracy: 0.9797 - val_loss: 1.8506 - val_accuracy: 0.6843\n",
            "Epoch 72/100\n",
            "104/104 [==============================] - 70s 670ms/step - loss: 0.0592 - accuracy: 0.9791 - val_loss: 1.0295 - val_accuracy: 0.7340\n",
            "Epoch 73/100\n",
            "104/104 [==============================] - 71s 678ms/step - loss: 0.0454 - accuracy: 0.9844 - val_loss: 1.2386 - val_accuracy: 0.7244\n",
            "Epoch 74/100\n",
            "104/104 [==============================] - 70s 674ms/step - loss: 0.0610 - accuracy: 0.9752 - val_loss: 1.9197 - val_accuracy: 0.6987\n",
            "Epoch 75/100\n",
            "104/104 [==============================] - 71s 680ms/step - loss: 0.0468 - accuracy: 0.9815 - val_loss: 1.1102 - val_accuracy: 0.7179\n",
            "Epoch 76/100\n",
            "104/104 [==============================] - 70s 676ms/step - loss: 0.0425 - accuracy: 0.9866 - val_loss: 1.1928 - val_accuracy: 0.7564\n",
            "Epoch 77/100\n",
            "104/104 [==============================] - 70s 677ms/step - loss: 0.0520 - accuracy: 0.9806 - val_loss: 0.9717 - val_accuracy: 0.7812\n",
            "Epoch 78/100\n",
            "104/104 [==============================] - 70s 674ms/step - loss: 0.0523 - accuracy: 0.9829 - val_loss: 0.8334 - val_accuracy: 0.7933\n",
            "Epoch 79/100\n",
            "104/104 [==============================] - 71s 686ms/step - loss: 0.0753 - accuracy: 0.9725 - val_loss: 1.1707 - val_accuracy: 0.7380\n",
            "Epoch 80/100\n",
            "104/104 [==============================] - 70s 675ms/step - loss: 0.0494 - accuracy: 0.9842 - val_loss: 1.4377 - val_accuracy: 0.7268\n",
            "Epoch 81/100\n",
            "104/104 [==============================] - 70s 674ms/step - loss: 0.0445 - accuracy: 0.9833 - val_loss: 1.0945 - val_accuracy: 0.7524\n",
            "Epoch 82/100\n",
            "104/104 [==============================] - 70s 676ms/step - loss: 0.0522 - accuracy: 0.9782 - val_loss: 1.3424 - val_accuracy: 0.7516\n",
            "Epoch 83/100\n",
            "104/104 [==============================] - 70s 674ms/step - loss: 0.0738 - accuracy: 0.9728 - val_loss: 0.9001 - val_accuracy: 0.7556\n",
            "Epoch 84/100\n",
            "104/104 [==============================] - 71s 682ms/step - loss: 0.0387 - accuracy: 0.9862 - val_loss: 1.3577 - val_accuracy: 0.7372\n",
            "Epoch 85/100\n",
            "104/104 [==============================] - 70s 676ms/step - loss: 0.0506 - accuracy: 0.9814 - val_loss: 1.2681 - val_accuracy: 0.7420\n",
            "Epoch 86/100\n",
            "104/104 [==============================] - 70s 676ms/step - loss: 0.0663 - accuracy: 0.9770 - val_loss: 1.3322 - val_accuracy: 0.7252\n",
            "Epoch 87/100\n",
            "104/104 [==============================] - 70s 673ms/step - loss: 0.0498 - accuracy: 0.9833 - val_loss: 1.4534 - val_accuracy: 0.6955\n",
            "Epoch 88/100\n",
            "104/104 [==============================] - 70s 676ms/step - loss: 0.0510 - accuracy: 0.9820 - val_loss: 1.8569 - val_accuracy: 0.7099\n",
            "Epoch 89/100\n",
            "104/104 [==============================] - 71s 680ms/step - loss: 0.0599 - accuracy: 0.9781 - val_loss: 0.9444 - val_accuracy: 0.7212\n",
            "Epoch 90/100\n",
            "104/104 [==============================] - 71s 679ms/step - loss: 0.0531 - accuracy: 0.9769 - val_loss: 1.1932 - val_accuracy: 0.7468\n",
            "Epoch 91/100\n",
            "104/104 [==============================] - 71s 681ms/step - loss: 0.0654 - accuracy: 0.9737 - val_loss: 1.0260 - val_accuracy: 0.7877\n",
            "Epoch 92/100\n",
            "104/104 [==============================] - 71s 679ms/step - loss: 0.0475 - accuracy: 0.9826 - val_loss: 2.1314 - val_accuracy: 0.6843\n",
            "Epoch 93/100\n",
            "104/104 [==============================] - 71s 684ms/step - loss: 0.0498 - accuracy: 0.9811 - val_loss: 1.3671 - val_accuracy: 0.7668\n",
            "Epoch 94/100\n",
            "104/104 [==============================] - 71s 681ms/step - loss: 0.0501 - accuracy: 0.9812 - val_loss: 1.4949 - val_accuracy: 0.7212\n",
            "Epoch 95/100\n",
            "104/104 [==============================] - 71s 681ms/step - loss: 0.0436 - accuracy: 0.9850 - val_loss: 1.0389 - val_accuracy: 0.7500\n",
            "Epoch 96/100\n",
            "104/104 [==============================] - 71s 681ms/step - loss: 0.0450 - accuracy: 0.9842 - val_loss: 1.5759 - val_accuracy: 0.7332\n",
            "Epoch 97/100\n",
            "104/104 [==============================] - 71s 682ms/step - loss: 0.0332 - accuracy: 0.9883 - val_loss: 1.2066 - val_accuracy: 0.7780\n",
            "Epoch 98/100\n",
            "104/104 [==============================] - 71s 679ms/step - loss: 0.0579 - accuracy: 0.9803 - val_loss: 1.4849 - val_accuracy: 0.6603\n",
            "Epoch 99/100\n",
            "104/104 [==============================] - 70s 676ms/step - loss: 0.0538 - accuracy: 0.9806 - val_loss: 1.3065 - val_accuracy: 0.7396\n",
            "Epoch 100/100\n",
            "104/104 [==============================] - 70s 674ms/step - loss: 0.0484 - accuracy: 0.9805 - val_loss: 1.1387 - val_accuracy: 0.7316\n"
          ],
          "name": "stdout"
        },
        {
          "output_type": "execute_result",
          "data": {
            "text/plain": [
              "<keras.callbacks.callbacks.History at 0x7f777ec32438>"
            ]
          },
          "metadata": {
            "tags": []
          },
          "execution_count": 16
        }
      ]
    },
    {
      "cell_type": "code",
      "metadata": {
        "id": "aD_ZwoU_z6FN",
        "colab_type": "code",
        "colab": {}
      },
      "source": [
        "model1.save(\"overfit\")"
      ],
      "execution_count": 0,
      "outputs": []
    },
    {
      "cell_type": "code",
      "metadata": {
        "id": "LICk4lbI0QXP",
        "colab_type": "code",
        "outputId": "0a3ddf9a-a818-409f-c2a3-99733d3d2e55",
        "colab": {
          "base_uri": "https://localhost:8080/",
          "height": 51
        }
      },
      "source": [
        "x=model1.predict_classes(x_test[[3],:])\n",
        "print(x[0])\n",
        "print(y_test[3])"
      ],
      "execution_count": 0,
      "outputs": [
        {
          "output_type": "stream",
          "text": [
            "1\n",
            "[0. 1.]\n"
          ],
          "name": "stdout"
        }
      ]
    },
    {
      "cell_type": "code",
      "metadata": {
        "id": "ILOKcd800iVR",
        "colab_type": "code",
        "colab": {}
      },
      "source": [
        "from keras.models import load_model\n",
        "model2 = load_model('/content/model-best (1).h5')"
      ],
      "execution_count": 0,
      "outputs": []
    },
    {
      "cell_type": "code",
      "metadata": {
        "id": "FMH34CzO0y8z",
        "colab_type": "code",
        "outputId": "84355b44-a663-4e51-d21b-7dbbc1acec19",
        "colab": {
          "base_uri": "https://localhost:8080/",
          "height": 527
        }
      },
      "source": [
        "\n",
        "for i in range(10):\n",
        "  x=model2.predict_classes(x_test[[i],:])\n",
        "  print(x[0])\n",
        "  y=model2.predict(x_test[[i],:])\n",
        "  print(max(y[0]))\n",
        "  print(y_test[i])"
      ],
      "execution_count": 0,
      "outputs": [
        {
          "output_type": "stream",
          "text": [
            "1\n",
            "0.8642188\n",
            "[0. 1.]\n",
            "1\n",
            "0.9846029\n",
            "[0. 1.]\n",
            "0\n",
            "0.4825939\n",
            "[1. 0.]\n",
            "1\n",
            "0.81753147\n",
            "[0. 1.]\n",
            "0\n",
            "0.92973095\n",
            "[1. 0.]\n",
            "0\n",
            "0.9858246\n",
            "[1. 0.]\n",
            "1\n",
            "0.9457206\n",
            "[0. 1.]\n",
            "1\n",
            "0.99034065\n",
            "[0. 1.]\n",
            "1\n",
            "0.99483126\n",
            "[0. 1.]\n",
            "0\n",
            "0.9433131\n",
            "[1. 0.]\n"
          ],
          "name": "stdout"
        }
      ]
    },
    {
      "cell_type": "code",
      "metadata": {
        "id": "3AMuaZZb1gJe",
        "colab_type": "code",
        "outputId": "09efce51-c6d1-40d4-a318-c93363738f5c",
        "colab": {
          "base_uri": "https://localhost:8080/",
          "height": 34
        }
      },
      "source": [
        "x=model2.predict(x_test[[1],:])\n",
        "print(max(x[0]))"
      ],
      "execution_count": 0,
      "outputs": [
        {
          "output_type": "stream",
          "text": [
            "0.9846029\n"
          ],
          "name": "stdout"
        }
      ]
    },
    {
      "cell_type": "code",
      "metadata": {
        "id": "x-BytyLK5INb",
        "colab_type": "code",
        "outputId": "371de785-a145-4204-b094-8291430b0a5e",
        "colab": {
          "base_uri": "https://localhost:8080/",
          "height": 51
        }
      },
      "source": [
        "#model.fit(x_train, y_train, epochs = 5, batch_size=batch_size, verbose = 1)\n",
        "score,acc = model2.evaluate(x_test,y_test,verbose=2)\n",
        "print(score)\n",
        "print(acc)"
      ],
      "execution_count": 0,
      "outputs": [
        {
          "output_type": "stream",
          "text": [
            "0.42980013825954533\n",
            "0.838942289352417\n"
          ],
          "name": "stdout"
        }
      ]
    },
    {
      "cell_type": "markdown",
      "metadata": {
        "id": "wMM9VNyJRvhF",
        "colab_type": "text"
      },
      "source": [
        ""
      ]
    },
    {
      "cell_type": "code",
      "metadata": {
        "id": "G1Ww3luuRwBw",
        "colab_type": "code",
        "outputId": "f693e198-d500-49a0-c611-6679bc983d66",
        "colab": {
          "base_uri": "https://localhost:8080/",
          "height": 85
        }
      },
      "source": [
        "from keras.models import load_model\n",
        "import cv2\n",
        "im=cv2.imread(\"/content/save.jpeg\")\n",
        "output1 = cv2.resize(im, (128,128))\n",
        "output1 = output1.astype('float')\n",
        "output1 /= 255.0\n",
        "output1 = np.array(output1).reshape(-1, 128, 128, 3)\n",
        "classifer = load_model('/content/model-best.h5')\n",
        "x = classifer.predict_classes(output1[[0], :])\n",
        "if x[0] == 1:\n",
        "   result = \"PATIENT IS HAVING PNEMONIA \"\n",
        "else:\n",
        "   result = \"PATIENT IS NORMAL  \"\n",
        "j = classifer.predict(output1[[0], :])\n",
        "k=max(j[0])*100\n",
        "k=str(k)\n",
        "k=k[:5]+\"% Sure\"\n",
        "k=\"(\"+k+\")\"\n",
        "result+=k\n",
        "#    return result\n",
        "print(result)"
      ],
      "execution_count": 0,
      "outputs": [
        {
          "output_type": "stream",
          "text": [
            "0.92517644\n",
            "92.51\n",
            "(92.51% Sure)\n",
            "PATIENT IS NORMAL  (92.51% Sure)\n"
          ],
          "name": "stdout"
        }
      ]
    }
  ]
}